{
 "cells": [
  {
   "cell_type": "markdown",
   "metadata": {
    "collapsed": true,
    "pycharm": {
     "name": "#%% md\n"
    }
   },
   "source": [
    "# Lab 03 - Polynomial Fitting\n",
    "In the previous lab we discussed linear regression and the OLS estimator for solving the minimization of the RSS. As we\n",
    "mentioned, regression problems are a very wide family of settings and algorithms which we use to try to estimate the relation between a set of explanatory variables and a **continuous** response (i.e. $\\mathcal{Y}\\in\\mathbb{R}^p$). In the following lab we will discuss one such setting called \"Polynomial Fitting\". \n",
    "\n",
    "Sometimes, the data (and the relation between the explanatory variables and response) can be described by some polynomial\n",
    "of some degree. Here, we only focus on the case where it is a polynomial of a single variable. That is: \n",
    "$$ p_k\\left(x\\right)=\\sum_{i=0}^{k}\\alpha_i x^i\\quad\\alpha_0,\\ldots,\\alpha_k\\in\\mathbb{R} $$\n",
    "\n",
    "So our hypothesis class is of the form:\n",
    "$$ \\mathcal{H}^k_{poly}=\\left\\{p_k\\,\\Big|\\, p_k\\left(x\\right)=\\sum_{i=0}^{k}\\alpha_i x^i\\quad\\alpha_0,\\ldots,\\alpha_k\\in\\mathbb{R}\\right\\} $$\n",
    "\n",
    "Notice that similar to linear regression, each hypothesis in the class is defined by a coefficients vector. Below are two\n",
    "examples (simulated and real) for datasets where the relation between the explanatory variable and response is polynomial."
   ]
  },
  {
   "cell_type": "code",
   "execution_count": 4,
   "metadata": {},
   "outputs": [],
   "source": [
    "import sys\n",
    "sys.path.append(\"../\")\n",
    "from utils import *"
   ]
  },
  {
   "cell_type": "code",
   "execution_count": 5,
   "metadata": {
    "pycharm": {
     "name": "#%%\n"
    }
   },
   "outputs": [
    {
     "data": {
      "application/vnd.plotly.v1+json": {
       "data": [
        {
         "marker": {
          "color": "black",
          "opacity": 0.7
         },
         "mode": "markers",
         "showlegend": false,
         "x": [
          -1.2,
          -1.0358974358974358,
          -0.8717948717948718,
          -0.7076923076923076,
          -0.5435897435897435,
          -0.37948717948717947,
          -0.21538461538461529,
          -0.05128205128205132,
          0.11282051282051286,
          0.27692307692307705,
          0.441025641025641,
          0.6051282051282052,
          0.7692307692307694,
          0.9333333333333333,
          1.0974358974358973,
          1.2615384615384617,
          1.4256410256410257,
          1.5897435897435896,
          1.753846153846154,
          1.917948717948718
         ],
         "y": [
          5.8096,
          3.8381753317244733,
          2.522800884051074,
          1.7092797030916282,
          1.2608197821340592,
          1.058034061642376,
          0.9989404292566787,
          0.9989617197931566,
          0.9909257152440888,
          0.9250651447778439,
          0.7690176847388803,
          0.5078259586477458,
          0.14393753720107805,
          -0.3027950617283952,
          -0.7951143730918573,
          -1.278357984664403,
          -1.6804585370450331,
          -1.911943723656666,
          -1.8659362907461214,
          -1.418154037384138
         ],
         "type": "scatter",
         "xaxis": "x",
         "yaxis": "y"
        },
        {
         "marker": {
          "color": "black",
          "opacity": 0.7
         },
         "mode": "markers",
         "showlegend": false,
         "x": [
          "Business Analyst",
          "Junior Consultant",
          "Senior Consultant",
          "Manager",
          "Country Manager",
          "Region Manager",
          "Partner",
          "Senior Partner",
          "C-level",
          "CEO"
         ],
         "y": [
          45000,
          50000,
          60000,
          80000,
          110000,
          150000,
          200000,
          300000,
          500000,
          1000000
         ],
         "type": "scatter",
         "xaxis": "x2",
         "yaxis": "y2"
        }
       ],
       "layout": {
        "template": {
         "data": {
          "barpolar": [
           {
            "marker": {
             "line": {
              "color": "white",
              "width": 0.5
             },
             "pattern": {
              "fillmode": "overlay",
              "size": 10,
              "solidity": 0.2
             }
            },
            "type": "barpolar"
           }
          ],
          "bar": [
           {
            "error_x": {
             "color": "rgb(36,36,36)"
            },
            "error_y": {
             "color": "rgb(36,36,36)"
            },
            "marker": {
             "line": {
              "color": "white",
              "width": 0.5
             },
             "pattern": {
              "fillmode": "overlay",
              "size": 10,
              "solidity": 0.2
             }
            },
            "type": "bar"
           }
          ],
          "carpet": [
           {
            "aaxis": {
             "endlinecolor": "rgb(36,36,36)",
             "gridcolor": "white",
             "linecolor": "white",
             "minorgridcolor": "white",
             "startlinecolor": "rgb(36,36,36)"
            },
            "baxis": {
             "endlinecolor": "rgb(36,36,36)",
             "gridcolor": "white",
             "linecolor": "white",
             "minorgridcolor": "white",
             "startlinecolor": "rgb(36,36,36)"
            },
            "type": "carpet"
           }
          ],
          "choropleth": [
           {
            "colorbar": {
             "outlinewidth": 1,
             "tickcolor": "rgb(36,36,36)",
             "ticks": "outside"
            },
            "type": "choropleth"
           }
          ],
          "contourcarpet": [
           {
            "colorbar": {
             "outlinewidth": 1,
             "tickcolor": "rgb(36,36,36)",
             "ticks": "outside"
            },
            "type": "contourcarpet"
           }
          ],
          "contour": [
           {
            "colorbar": {
             "outlinewidth": 1,
             "tickcolor": "rgb(36,36,36)",
             "ticks": "outside"
            },
            "colorscale": [
             [
              0.0,
              "#440154"
             ],
             [
              0.1111111111111111,
              "#482878"
             ],
             [
              0.2222222222222222,
              "#3e4989"
             ],
             [
              0.3333333333333333,
              "#31688e"
             ],
             [
              0.4444444444444444,
              "#26828e"
             ],
             [
              0.5555555555555556,
              "#1f9e89"
             ],
             [
              0.6666666666666666,
              "#35b779"
             ],
             [
              0.7777777777777778,
              "#6ece58"
             ],
             [
              0.8888888888888888,
              "#b5de2b"
             ],
             [
              1.0,
              "#fde725"
             ]
            ],
            "type": "contour"
           }
          ],
          "heatmapgl": [
           {
            "colorbar": {
             "outlinewidth": 1,
             "tickcolor": "rgb(36,36,36)",
             "ticks": "outside"
            },
            "colorscale": [
             [
              0.0,
              "#440154"
             ],
             [
              0.1111111111111111,
              "#482878"
             ],
             [
              0.2222222222222222,
              "#3e4989"
             ],
             [
              0.3333333333333333,
              "#31688e"
             ],
             [
              0.4444444444444444,
              "#26828e"
             ],
             [
              0.5555555555555556,
              "#1f9e89"
             ],
             [
              0.6666666666666666,
              "#35b779"
             ],
             [
              0.7777777777777778,
              "#6ece58"
             ],
             [
              0.8888888888888888,
              "#b5de2b"
             ],
             [
              1.0,
              "#fde725"
             ]
            ],
            "type": "heatmapgl"
           }
          ],
          "heatmap": [
           {
            "colorbar": {
             "outlinewidth": 1,
             "tickcolor": "rgb(36,36,36)",
             "ticks": "outside"
            },
            "colorscale": [
             [
              0.0,
              "#440154"
             ],
             [
              0.1111111111111111,
              "#482878"
             ],
             [
              0.2222222222222222,
              "#3e4989"
             ],
             [
              0.3333333333333333,
              "#31688e"
             ],
             [
              0.4444444444444444,
              "#26828e"
             ],
             [
              0.5555555555555556,
              "#1f9e89"
             ],
             [
              0.6666666666666666,
              "#35b779"
             ],
             [
              0.7777777777777778,
              "#6ece58"
             ],
             [
              0.8888888888888888,
              "#b5de2b"
             ],
             [
              1.0,
              "#fde725"
             ]
            ],
            "type": "heatmap"
           }
          ],
          "histogram2dcontour": [
           {
            "colorbar": {
             "outlinewidth": 1,
             "tickcolor": "rgb(36,36,36)",
             "ticks": "outside"
            },
            "colorscale": [
             [
              0.0,
              "#440154"
             ],
             [
              0.1111111111111111,
              "#482878"
             ],
             [
              0.2222222222222222,
              "#3e4989"
             ],
             [
              0.3333333333333333,
              "#31688e"
             ],
             [
              0.4444444444444444,
              "#26828e"
             ],
             [
              0.5555555555555556,
              "#1f9e89"
             ],
             [
              0.6666666666666666,
              "#35b779"
             ],
             [
              0.7777777777777778,
              "#6ece58"
             ],
             [
              0.8888888888888888,
              "#b5de2b"
             ],
             [
              1.0,
              "#fde725"
             ]
            ],
            "type": "histogram2dcontour"
           }
          ],
          "histogram2d": [
           {
            "colorbar": {
             "outlinewidth": 1,
             "tickcolor": "rgb(36,36,36)",
             "ticks": "outside"
            },
            "colorscale": [
             [
              0.0,
              "#440154"
             ],
             [
              0.1111111111111111,
              "#482878"
             ],
             [
              0.2222222222222222,
              "#3e4989"
             ],
             [
              0.3333333333333333,
              "#31688e"
             ],
             [
              0.4444444444444444,
              "#26828e"
             ],
             [
              0.5555555555555556,
              "#1f9e89"
             ],
             [
              0.6666666666666666,
              "#35b779"
             ],
             [
              0.7777777777777778,
              "#6ece58"
             ],
             [
              0.8888888888888888,
              "#b5de2b"
             ],
             [
              1.0,
              "#fde725"
             ]
            ],
            "type": "histogram2d"
           }
          ],
          "histogram": [
           {
            "marker": {
             "line": {
              "color": "white",
              "width": 0.6
             }
            },
            "type": "histogram"
           }
          ],
          "mesh3d": [
           {
            "colorbar": {
             "outlinewidth": 1,
             "tickcolor": "rgb(36,36,36)",
             "ticks": "outside"
            },
            "type": "mesh3d"
           }
          ],
          "parcoords": [
           {
            "line": {
             "colorbar": {
              "outlinewidth": 1,
              "tickcolor": "rgb(36,36,36)",
              "ticks": "outside"
             }
            },
            "type": "parcoords"
           }
          ],
          "pie": [
           {
            "automargin": true,
            "type": "pie"
           }
          ],
          "scatter3d": [
           {
            "line": {
             "colorbar": {
              "outlinewidth": 1,
              "tickcolor": "rgb(36,36,36)",
              "ticks": "outside"
             }
            },
            "marker": {
             "colorbar": {
              "outlinewidth": 1,
              "tickcolor": "rgb(36,36,36)",
              "ticks": "outside"
             }
            },
            "type": "scatter3d"
           }
          ],
          "scattercarpet": [
           {
            "marker": {
             "colorbar": {
              "outlinewidth": 1,
              "tickcolor": "rgb(36,36,36)",
              "ticks": "outside"
             }
            },
            "type": "scattercarpet"
           }
          ],
          "scattergeo": [
           {
            "marker": {
             "colorbar": {
              "outlinewidth": 1,
              "tickcolor": "rgb(36,36,36)",
              "ticks": "outside"
             }
            },
            "type": "scattergeo"
           }
          ],
          "scattergl": [
           {
            "marker": {
             "colorbar": {
              "outlinewidth": 1,
              "tickcolor": "rgb(36,36,36)",
              "ticks": "outside"
             }
            },
            "type": "scattergl"
           }
          ],
          "scattermapbox": [
           {
            "marker": {
             "colorbar": {
              "outlinewidth": 1,
              "tickcolor": "rgb(36,36,36)",
              "ticks": "outside"
             }
            },
            "type": "scattermapbox"
           }
          ],
          "scatterpolargl": [
           {
            "marker": {
             "colorbar": {
              "outlinewidth": 1,
              "tickcolor": "rgb(36,36,36)",
              "ticks": "outside"
             }
            },
            "type": "scatterpolargl"
           }
          ],
          "scatterpolar": [
           {
            "marker": {
             "colorbar": {
              "outlinewidth": 1,
              "tickcolor": "rgb(36,36,36)",
              "ticks": "outside"
             }
            },
            "type": "scatterpolar"
           }
          ],
          "scatter": [
           {
            "marker": {
             "colorbar": {
              "outlinewidth": 1,
              "tickcolor": "rgb(36,36,36)",
              "ticks": "outside"
             }
            },
            "type": "scatter"
           }
          ],
          "scatterternary": [
           {
            "marker": {
             "colorbar": {
              "outlinewidth": 1,
              "tickcolor": "rgb(36,36,36)",
              "ticks": "outside"
             }
            },
            "type": "scatterternary"
           }
          ],
          "surface": [
           {
            "colorbar": {
             "outlinewidth": 1,
             "tickcolor": "rgb(36,36,36)",
             "ticks": "outside"
            },
            "colorscale": [
             [
              0.0,
              "#440154"
             ],
             [
              0.1111111111111111,
              "#482878"
             ],
             [
              0.2222222222222222,
              "#3e4989"
             ],
             [
              0.3333333333333333,
              "#31688e"
             ],
             [
              0.4444444444444444,
              "#26828e"
             ],
             [
              0.5555555555555556,
              "#1f9e89"
             ],
             [
              0.6666666666666666,
              "#35b779"
             ],
             [
              0.7777777777777778,
              "#6ece58"
             ],
             [
              0.8888888888888888,
              "#b5de2b"
             ],
             [
              1.0,
              "#fde725"
             ]
            ],
            "type": "surface"
           }
          ],
          "table": [
           {
            "cells": {
             "fill": {
              "color": "rgb(237,237,237)"
             },
             "line": {
              "color": "white"
             }
            },
            "header": {
             "fill": {
              "color": "rgb(217,217,217)"
             },
             "line": {
              "color": "white"
             }
            },
            "type": "table"
           }
          ]
         },
         "layout": {
          "annotationdefaults": {
           "arrowhead": 0,
           "arrowwidth": 1
          },
          "autotypenumbers": "strict",
          "coloraxis": {
           "colorbar": {
            "outlinewidth": 1,
            "tickcolor": "rgb(36,36,36)",
            "ticks": "outside"
           }
          },
          "colorscale": {
           "diverging": [
            [
             0.0,
             "rgb(103,0,31)"
            ],
            [
             0.1,
             "rgb(178,24,43)"
            ],
            [
             0.2,
             "rgb(214,96,77)"
            ],
            [
             0.3,
             "rgb(244,165,130)"
            ],
            [
             0.4,
             "rgb(253,219,199)"
            ],
            [
             0.5,
             "rgb(247,247,247)"
            ],
            [
             0.6,
             "rgb(209,229,240)"
            ],
            [
             0.7,
             "rgb(146,197,222)"
            ],
            [
             0.8,
             "rgb(67,147,195)"
            ],
            [
             0.9,
             "rgb(33,102,172)"
            ],
            [
             1.0,
             "rgb(5,48,97)"
            ]
           ],
           "sequential": [
            [
             0.0,
             "#440154"
            ],
            [
             0.1111111111111111,
             "#482878"
            ],
            [
             0.2222222222222222,
             "#3e4989"
            ],
            [
             0.3333333333333333,
             "#31688e"
            ],
            [
             0.4444444444444444,
             "#26828e"
            ],
            [
             0.5555555555555556,
             "#1f9e89"
            ],
            [
             0.6666666666666666,
             "#35b779"
            ],
            [
             0.7777777777777778,
             "#6ece58"
            ],
            [
             0.8888888888888888,
             "#b5de2b"
            ],
            [
             1.0,
             "#fde725"
            ]
           ],
           "sequentialminus": [
            [
             0.0,
             "#440154"
            ],
            [
             0.1111111111111111,
             "#482878"
            ],
            [
             0.2222222222222222,
             "#3e4989"
            ],
            [
             0.3333333333333333,
             "#31688e"
            ],
            [
             0.4444444444444444,
             "#26828e"
            ],
            [
             0.5555555555555556,
             "#1f9e89"
            ],
            [
             0.6666666666666666,
             "#35b779"
            ],
            [
             0.7777777777777778,
             "#6ece58"
            ],
            [
             0.8888888888888888,
             "#b5de2b"
            ],
            [
             1.0,
             "#fde725"
            ]
           ]
          },
          "colorway": [
           "#1F77B4",
           "#FF7F0E",
           "#2CA02C",
           "#D62728",
           "#9467BD",
           "#8C564B",
           "#E377C2",
           "#7F7F7F",
           "#BCBD22",
           "#17BECF"
          ],
          "font": {
           "color": "rgb(36,36,36)"
          },
          "geo": {
           "bgcolor": "white",
           "lakecolor": "white",
           "landcolor": "white",
           "showlakes": true,
           "showland": true,
           "subunitcolor": "white"
          },
          "hoverlabel": {
           "align": "left"
          },
          "hovermode": "closest",
          "mapbox": {
           "style": "light"
          },
          "paper_bgcolor": "white",
          "plot_bgcolor": "white",
          "polar": {
           "angularaxis": {
            "gridcolor": "rgb(232,232,232)",
            "linecolor": "rgb(36,36,36)",
            "showgrid": false,
            "showline": true,
            "ticks": "outside"
           },
           "bgcolor": "white",
           "radialaxis": {
            "gridcolor": "rgb(232,232,232)",
            "linecolor": "rgb(36,36,36)",
            "showgrid": false,
            "showline": true,
            "ticks": "outside"
           }
          },
          "scene": {
           "xaxis": {
            "backgroundcolor": "white",
            "gridcolor": "rgb(232,232,232)",
            "gridwidth": 2,
            "linecolor": "rgb(36,36,36)",
            "showbackground": true,
            "showgrid": false,
            "showline": true,
            "ticks": "outside",
            "zeroline": false,
            "zerolinecolor": "rgb(36,36,36)"
           },
           "yaxis": {
            "backgroundcolor": "white",
            "gridcolor": "rgb(232,232,232)",
            "gridwidth": 2,
            "linecolor": "rgb(36,36,36)",
            "showbackground": true,
            "showgrid": false,
            "showline": true,
            "ticks": "outside",
            "zeroline": false,
            "zerolinecolor": "rgb(36,36,36)"
           },
           "zaxis": {
            "backgroundcolor": "white",
            "gridcolor": "rgb(232,232,232)",
            "gridwidth": 2,
            "linecolor": "rgb(36,36,36)",
            "showbackground": true,
            "showgrid": false,
            "showline": true,
            "ticks": "outside",
            "zeroline": false,
            "zerolinecolor": "rgb(36,36,36)"
           }
          },
          "shapedefaults": {
           "fillcolor": "black",
           "line": {
            "width": 0
           },
           "opacity": 0.3
          },
          "ternary": {
           "aaxis": {
            "gridcolor": "rgb(232,232,232)",
            "linecolor": "rgb(36,36,36)",
            "showgrid": false,
            "showline": true,
            "ticks": "outside"
           },
           "baxis": {
            "gridcolor": "rgb(232,232,232)",
            "linecolor": "rgb(36,36,36)",
            "showgrid": false,
            "showline": true,
            "ticks": "outside"
           },
           "bgcolor": "white",
           "caxis": {
            "gridcolor": "rgb(232,232,232)",
            "linecolor": "rgb(36,36,36)",
            "showgrid": false,
            "showline": true,
            "ticks": "outside"
           }
          },
          "title": {
           "x": 0.05
          },
          "xaxis": {
           "automargin": true,
           "gridcolor": "rgb(232,232,232)",
           "linecolor": "rgb(36,36,36)",
           "showgrid": false,
           "showline": true,
           "ticks": "outside",
           "title": {
            "standoff": 15
           },
           "zeroline": false,
           "zerolinecolor": "rgb(36,36,36)"
          },
          "yaxis": {
           "automargin": true,
           "gridcolor": "rgb(232,232,232)",
           "linecolor": "rgb(36,36,36)",
           "showgrid": false,
           "showline": true,
           "ticks": "outside",
           "title": {
            "standoff": 15
           },
           "zeroline": false,
           "zerolinecolor": "rgb(36,36,36)"
          },
          "margin": {
           "b": 0,
           "l": 20,
           "r": 20,
           "t": 40
          }
         }
        },
        "xaxis": {
         "anchor": "y",
         "domain": [
          0.0,
          0.45
         ]
        },
        "yaxis": {
         "anchor": "x",
         "domain": [
          0.0,
          1.0
         ]
        },
        "xaxis2": {
         "anchor": "y2",
         "domain": [
          0.55,
          1.0
         ]
        },
        "yaxis2": {
         "anchor": "x2",
         "domain": [
          0.0,
          1.0
         ]
        },
        "annotations": [
         {
          "font": {
           "size": 16
          },
          "showarrow": false,
          "text": "$\\text{Simulated Data: }y=x^4-2x^3-0.5x^2+1$",
          "x": 0.225,
          "xanchor": "center",
          "xref": "paper",
          "y": 1.0,
          "yanchor": "bottom",
          "yref": "paper"
         },
         {
          "font": {
           "size": 16
          },
          "showarrow": false,
          "text": "$\\text{Positions Salary}$",
          "x": 0.775,
          "xanchor": "center",
          "xref": "paper",
          "y": 1.0,
          "yanchor": "bottom",
          "yref": "paper"
         }
        ],
        "margin": {
         "t": 100
        },
        "title": {
         "text": "$\\text{(1) Datasets For Polynomial Fitting}$"
        }
       },
       "config": {
        "plotlyServerURL": "https://plot.ly"
       }
      },
      "text/html": "<div>                            <div id=\"0af5e651-9731-45b5-b199-375329d429aa\" class=\"plotly-graph-div\" style=\"height:525px; width:100%;\"></div>            <script type=\"text/javascript\">                require([\"plotly\"], function(Plotly) {                    window.PLOTLYENV=window.PLOTLYENV || {};                                    if (document.getElementById(\"0af5e651-9731-45b5-b199-375329d429aa\")) {                    Plotly.newPlot(                        \"0af5e651-9731-45b5-b199-375329d429aa\",                        [{\"marker\":{\"color\":\"black\",\"opacity\":0.7},\"mode\":\"markers\",\"showlegend\":false,\"x\":[-1.2,-1.0358974358974358,-0.8717948717948718,-0.7076923076923076,-0.5435897435897435,-0.37948717948717947,-0.21538461538461529,-0.05128205128205132,0.11282051282051286,0.27692307692307705,0.441025641025641,0.6051282051282052,0.7692307692307694,0.9333333333333333,1.0974358974358973,1.2615384615384617,1.4256410256410257,1.5897435897435896,1.753846153846154,1.917948717948718],\"y\":[5.8096,3.8381753317244733,2.522800884051074,1.7092797030916282,1.2608197821340592,1.058034061642376,0.9989404292566787,0.9989617197931566,0.9909257152440888,0.9250651447778439,0.7690176847388803,0.5078259586477458,0.14393753720107805,-0.3027950617283952,-0.7951143730918573,-1.278357984664403,-1.6804585370450331,-1.911943723656666,-1.8659362907461214,-1.418154037384138],\"type\":\"scatter\",\"xaxis\":\"x\",\"yaxis\":\"y\"},{\"marker\":{\"color\":\"black\",\"opacity\":0.7},\"mode\":\"markers\",\"showlegend\":false,\"x\":[\"Business Analyst\",\"Junior Consultant\",\"Senior Consultant\",\"Manager\",\"Country Manager\",\"Region Manager\",\"Partner\",\"Senior Partner\",\"C-level\",\"CEO\"],\"y\":[45000,50000,60000,80000,110000,150000,200000,300000,500000,1000000],\"type\":\"scatter\",\"xaxis\":\"x2\",\"yaxis\":\"y2\"}],                        {\"template\":{\"data\":{\"barpolar\":[{\"marker\":{\"line\":{\"color\":\"white\",\"width\":0.5},\"pattern\":{\"fillmode\":\"overlay\",\"size\":10,\"solidity\":0.2}},\"type\":\"barpolar\"}],\"bar\":[{\"error_x\":{\"color\":\"rgb(36,36,36)\"},\"error_y\":{\"color\":\"rgb(36,36,36)\"},\"marker\":{\"line\":{\"color\":\"white\",\"width\":0.5},\"pattern\":{\"fillmode\":\"overlay\",\"size\":10,\"solidity\":0.2}},\"type\":\"bar\"}],\"carpet\":[{\"aaxis\":{\"endlinecolor\":\"rgb(36,36,36)\",\"gridcolor\":\"white\",\"linecolor\":\"white\",\"minorgridcolor\":\"white\",\"startlinecolor\":\"rgb(36,36,36)\"},\"baxis\":{\"endlinecolor\":\"rgb(36,36,36)\",\"gridcolor\":\"white\",\"linecolor\":\"white\",\"minorgridcolor\":\"white\",\"startlinecolor\":\"rgb(36,36,36)\"},\"type\":\"carpet\"}],\"choropleth\":[{\"colorbar\":{\"outlinewidth\":1,\"tickcolor\":\"rgb(36,36,36)\",\"ticks\":\"outside\"},\"type\":\"choropleth\"}],\"contourcarpet\":[{\"colorbar\":{\"outlinewidth\":1,\"tickcolor\":\"rgb(36,36,36)\",\"ticks\":\"outside\"},\"type\":\"contourcarpet\"}],\"contour\":[{\"colorbar\":{\"outlinewidth\":1,\"tickcolor\":\"rgb(36,36,36)\",\"ticks\":\"outside\"},\"colorscale\":[[0.0,\"#440154\"],[0.1111111111111111,\"#482878\"],[0.2222222222222222,\"#3e4989\"],[0.3333333333333333,\"#31688e\"],[0.4444444444444444,\"#26828e\"],[0.5555555555555556,\"#1f9e89\"],[0.6666666666666666,\"#35b779\"],[0.7777777777777778,\"#6ece58\"],[0.8888888888888888,\"#b5de2b\"],[1.0,\"#fde725\"]],\"type\":\"contour\"}],\"heatmapgl\":[{\"colorbar\":{\"outlinewidth\":1,\"tickcolor\":\"rgb(36,36,36)\",\"ticks\":\"outside\"},\"colorscale\":[[0.0,\"#440154\"],[0.1111111111111111,\"#482878\"],[0.2222222222222222,\"#3e4989\"],[0.3333333333333333,\"#31688e\"],[0.4444444444444444,\"#26828e\"],[0.5555555555555556,\"#1f9e89\"],[0.6666666666666666,\"#35b779\"],[0.7777777777777778,\"#6ece58\"],[0.8888888888888888,\"#b5de2b\"],[1.0,\"#fde725\"]],\"type\":\"heatmapgl\"}],\"heatmap\":[{\"colorbar\":{\"outlinewidth\":1,\"tickcolor\":\"rgb(36,36,36)\",\"ticks\":\"outside\"},\"colorscale\":[[0.0,\"#440154\"],[0.1111111111111111,\"#482878\"],[0.2222222222222222,\"#3e4989\"],[0.3333333333333333,\"#31688e\"],[0.4444444444444444,\"#26828e\"],[0.5555555555555556,\"#1f9e89\"],[0.6666666666666666,\"#35b779\"],[0.7777777777777778,\"#6ece58\"],[0.8888888888888888,\"#b5de2b\"],[1.0,\"#fde725\"]],\"type\":\"heatmap\"}],\"histogram2dcontour\":[{\"colorbar\":{\"outlinewidth\":1,\"tickcolor\":\"rgb(36,36,36)\",\"ticks\":\"outside\"},\"colorscale\":[[0.0,\"#440154\"],[0.1111111111111111,\"#482878\"],[0.2222222222222222,\"#3e4989\"],[0.3333333333333333,\"#31688e\"],[0.4444444444444444,\"#26828e\"],[0.5555555555555556,\"#1f9e89\"],[0.6666666666666666,\"#35b779\"],[0.7777777777777778,\"#6ece58\"],[0.8888888888888888,\"#b5de2b\"],[1.0,\"#fde725\"]],\"type\":\"histogram2dcontour\"}],\"histogram2d\":[{\"colorbar\":{\"outlinewidth\":1,\"tickcolor\":\"rgb(36,36,36)\",\"ticks\":\"outside\"},\"colorscale\":[[0.0,\"#440154\"],[0.1111111111111111,\"#482878\"],[0.2222222222222222,\"#3e4989\"],[0.3333333333333333,\"#31688e\"],[0.4444444444444444,\"#26828e\"],[0.5555555555555556,\"#1f9e89\"],[0.6666666666666666,\"#35b779\"],[0.7777777777777778,\"#6ece58\"],[0.8888888888888888,\"#b5de2b\"],[1.0,\"#fde725\"]],\"type\":\"histogram2d\"}],\"histogram\":[{\"marker\":{\"line\":{\"color\":\"white\",\"width\":0.6}},\"type\":\"histogram\"}],\"mesh3d\":[{\"colorbar\":{\"outlinewidth\":1,\"tickcolor\":\"rgb(36,36,36)\",\"ticks\":\"outside\"},\"type\":\"mesh3d\"}],\"parcoords\":[{\"line\":{\"colorbar\":{\"outlinewidth\":1,\"tickcolor\":\"rgb(36,36,36)\",\"ticks\":\"outside\"}},\"type\":\"parcoords\"}],\"pie\":[{\"automargin\":true,\"type\":\"pie\"}],\"scatter3d\":[{\"line\":{\"colorbar\":{\"outlinewidth\":1,\"tickcolor\":\"rgb(36,36,36)\",\"ticks\":\"outside\"}},\"marker\":{\"colorbar\":{\"outlinewidth\":1,\"tickcolor\":\"rgb(36,36,36)\",\"ticks\":\"outside\"}},\"type\":\"scatter3d\"}],\"scattercarpet\":[{\"marker\":{\"colorbar\":{\"outlinewidth\":1,\"tickcolor\":\"rgb(36,36,36)\",\"ticks\":\"outside\"}},\"type\":\"scattercarpet\"}],\"scattergeo\":[{\"marker\":{\"colorbar\":{\"outlinewidth\":1,\"tickcolor\":\"rgb(36,36,36)\",\"ticks\":\"outside\"}},\"type\":\"scattergeo\"}],\"scattergl\":[{\"marker\":{\"colorbar\":{\"outlinewidth\":1,\"tickcolor\":\"rgb(36,36,36)\",\"ticks\":\"outside\"}},\"type\":\"scattergl\"}],\"scattermapbox\":[{\"marker\":{\"colorbar\":{\"outlinewidth\":1,\"tickcolor\":\"rgb(36,36,36)\",\"ticks\":\"outside\"}},\"type\":\"scattermapbox\"}],\"scatterpolargl\":[{\"marker\":{\"colorbar\":{\"outlinewidth\":1,\"tickcolor\":\"rgb(36,36,36)\",\"ticks\":\"outside\"}},\"type\":\"scatterpolargl\"}],\"scatterpolar\":[{\"marker\":{\"colorbar\":{\"outlinewidth\":1,\"tickcolor\":\"rgb(36,36,36)\",\"ticks\":\"outside\"}},\"type\":\"scatterpolar\"}],\"scatter\":[{\"marker\":{\"colorbar\":{\"outlinewidth\":1,\"tickcolor\":\"rgb(36,36,36)\",\"ticks\":\"outside\"}},\"type\":\"scatter\"}],\"scatterternary\":[{\"marker\":{\"colorbar\":{\"outlinewidth\":1,\"tickcolor\":\"rgb(36,36,36)\",\"ticks\":\"outside\"}},\"type\":\"scatterternary\"}],\"surface\":[{\"colorbar\":{\"outlinewidth\":1,\"tickcolor\":\"rgb(36,36,36)\",\"ticks\":\"outside\"},\"colorscale\":[[0.0,\"#440154\"],[0.1111111111111111,\"#482878\"],[0.2222222222222222,\"#3e4989\"],[0.3333333333333333,\"#31688e\"],[0.4444444444444444,\"#26828e\"],[0.5555555555555556,\"#1f9e89\"],[0.6666666666666666,\"#35b779\"],[0.7777777777777778,\"#6ece58\"],[0.8888888888888888,\"#b5de2b\"],[1.0,\"#fde725\"]],\"type\":\"surface\"}],\"table\":[{\"cells\":{\"fill\":{\"color\":\"rgb(237,237,237)\"},\"line\":{\"color\":\"white\"}},\"header\":{\"fill\":{\"color\":\"rgb(217,217,217)\"},\"line\":{\"color\":\"white\"}},\"type\":\"table\"}]},\"layout\":{\"annotationdefaults\":{\"arrowhead\":0,\"arrowwidth\":1},\"autotypenumbers\":\"strict\",\"coloraxis\":{\"colorbar\":{\"outlinewidth\":1,\"tickcolor\":\"rgb(36,36,36)\",\"ticks\":\"outside\"}},\"colorscale\":{\"diverging\":[[0.0,\"rgb(103,0,31)\"],[0.1,\"rgb(178,24,43)\"],[0.2,\"rgb(214,96,77)\"],[0.3,\"rgb(244,165,130)\"],[0.4,\"rgb(253,219,199)\"],[0.5,\"rgb(247,247,247)\"],[0.6,\"rgb(209,229,240)\"],[0.7,\"rgb(146,197,222)\"],[0.8,\"rgb(67,147,195)\"],[0.9,\"rgb(33,102,172)\"],[1.0,\"rgb(5,48,97)\"]],\"sequential\":[[0.0,\"#440154\"],[0.1111111111111111,\"#482878\"],[0.2222222222222222,\"#3e4989\"],[0.3333333333333333,\"#31688e\"],[0.4444444444444444,\"#26828e\"],[0.5555555555555556,\"#1f9e89\"],[0.6666666666666666,\"#35b779\"],[0.7777777777777778,\"#6ece58\"],[0.8888888888888888,\"#b5de2b\"],[1.0,\"#fde725\"]],\"sequentialminus\":[[0.0,\"#440154\"],[0.1111111111111111,\"#482878\"],[0.2222222222222222,\"#3e4989\"],[0.3333333333333333,\"#31688e\"],[0.4444444444444444,\"#26828e\"],[0.5555555555555556,\"#1f9e89\"],[0.6666666666666666,\"#35b779\"],[0.7777777777777778,\"#6ece58\"],[0.8888888888888888,\"#b5de2b\"],[1.0,\"#fde725\"]]},\"colorway\":[\"#1F77B4\",\"#FF7F0E\",\"#2CA02C\",\"#D62728\",\"#9467BD\",\"#8C564B\",\"#E377C2\",\"#7F7F7F\",\"#BCBD22\",\"#17BECF\"],\"font\":{\"color\":\"rgb(36,36,36)\"},\"geo\":{\"bgcolor\":\"white\",\"lakecolor\":\"white\",\"landcolor\":\"white\",\"showlakes\":true,\"showland\":true,\"subunitcolor\":\"white\"},\"hoverlabel\":{\"align\":\"left\"},\"hovermode\":\"closest\",\"mapbox\":{\"style\":\"light\"},\"paper_bgcolor\":\"white\",\"plot_bgcolor\":\"white\",\"polar\":{\"angularaxis\":{\"gridcolor\":\"rgb(232,232,232)\",\"linecolor\":\"rgb(36,36,36)\",\"showgrid\":false,\"showline\":true,\"ticks\":\"outside\"},\"bgcolor\":\"white\",\"radialaxis\":{\"gridcolor\":\"rgb(232,232,232)\",\"linecolor\":\"rgb(36,36,36)\",\"showgrid\":false,\"showline\":true,\"ticks\":\"outside\"}},\"scene\":{\"xaxis\":{\"backgroundcolor\":\"white\",\"gridcolor\":\"rgb(232,232,232)\",\"gridwidth\":2,\"linecolor\":\"rgb(36,36,36)\",\"showbackground\":true,\"showgrid\":false,\"showline\":true,\"ticks\":\"outside\",\"zeroline\":false,\"zerolinecolor\":\"rgb(36,36,36)\"},\"yaxis\":{\"backgroundcolor\":\"white\",\"gridcolor\":\"rgb(232,232,232)\",\"gridwidth\":2,\"linecolor\":\"rgb(36,36,36)\",\"showbackground\":true,\"showgrid\":false,\"showline\":true,\"ticks\":\"outside\",\"zeroline\":false,\"zerolinecolor\":\"rgb(36,36,36)\"},\"zaxis\":{\"backgroundcolor\":\"white\",\"gridcolor\":\"rgb(232,232,232)\",\"gridwidth\":2,\"linecolor\":\"rgb(36,36,36)\",\"showbackground\":true,\"showgrid\":false,\"showline\":true,\"ticks\":\"outside\",\"zeroline\":false,\"zerolinecolor\":\"rgb(36,36,36)\"}},\"shapedefaults\":{\"fillcolor\":\"black\",\"line\":{\"width\":0},\"opacity\":0.3},\"ternary\":{\"aaxis\":{\"gridcolor\":\"rgb(232,232,232)\",\"linecolor\":\"rgb(36,36,36)\",\"showgrid\":false,\"showline\":true,\"ticks\":\"outside\"},\"baxis\":{\"gridcolor\":\"rgb(232,232,232)\",\"linecolor\":\"rgb(36,36,36)\",\"showgrid\":false,\"showline\":true,\"ticks\":\"outside\"},\"bgcolor\":\"white\",\"caxis\":{\"gridcolor\":\"rgb(232,232,232)\",\"linecolor\":\"rgb(36,36,36)\",\"showgrid\":false,\"showline\":true,\"ticks\":\"outside\"}},\"title\":{\"x\":0.05},\"xaxis\":{\"automargin\":true,\"gridcolor\":\"rgb(232,232,232)\",\"linecolor\":\"rgb(36,36,36)\",\"showgrid\":false,\"showline\":true,\"ticks\":\"outside\",\"title\":{\"standoff\":15},\"zeroline\":false,\"zerolinecolor\":\"rgb(36,36,36)\"},\"yaxis\":{\"automargin\":true,\"gridcolor\":\"rgb(232,232,232)\",\"linecolor\":\"rgb(36,36,36)\",\"showgrid\":false,\"showline\":true,\"ticks\":\"outside\",\"title\":{\"standoff\":15},\"zeroline\":false,\"zerolinecolor\":\"rgb(36,36,36)\"},\"margin\":{\"b\":0,\"l\":20,\"r\":20,\"t\":40}}},\"xaxis\":{\"anchor\":\"y\",\"domain\":[0.0,0.45]},\"yaxis\":{\"anchor\":\"x\",\"domain\":[0.0,1.0]},\"xaxis2\":{\"anchor\":\"y2\",\"domain\":[0.55,1.0]},\"yaxis2\":{\"anchor\":\"x2\",\"domain\":[0.0,1.0]},\"annotations\":[{\"font\":{\"size\":16},\"showarrow\":false,\"text\":\"$\\\\text{Simulated Data: }y=x^4-2x^3-0.5x^2+1$\",\"x\":0.225,\"xanchor\":\"center\",\"xref\":\"paper\",\"y\":1.0,\"yanchor\":\"bottom\",\"yref\":\"paper\"},{\"font\":{\"size\":16},\"showarrow\":false,\"text\":\"$\\\\text{Positions Salary}$\",\"x\":0.775,\"xanchor\":\"center\",\"xref\":\"paper\",\"y\":1.0,\"yanchor\":\"bottom\",\"yref\":\"paper\"}],\"margin\":{\"t\":100},\"title\":{\"text\":\"$\\\\text{(1) Datasets For Polynomial Fitting}$\"}},                        {\"responsive\": true}                    ).then(function(){\n                            \nvar gd = document.getElementById('0af5e651-9731-45b5-b199-375329d429aa');\nvar x = new MutationObserver(function (mutations, observer) {{\n        var display = window.getComputedStyle(gd).display;\n        if (!display || display === 'none') {{\n            console.log([gd, 'removed!']);\n            Plotly.purge(gd);\n            observer.disconnect();\n        }}\n}});\n\n// Listen for the removal of the full notebook cells\nvar notebookContainer = gd.closest('#notebook-container');\nif (notebookContainer) {{\n    x.observe(notebookContainer, {childList: true});\n}}\n\n// Listen for the clearing of the current output cell\nvar outputEl = gd.closest('.output');\nif (outputEl) {{\n    x.observe(outputEl, {childList: true});\n}}\n\n                        })                };                });            </script>        </div>"
     },
     "metadata": {},
     "output_type": "display_data"
    }
   ],
   "source": [
    "response = lambda x: x**4 - 2*x**3 - .5*x**2 + 1\n",
    "\n",
    "x = np.linspace(-1.2, 2, 40)[0::2]\n",
    "y_ = response(x)\n",
    "\n",
    "df = pd.read_csv(\"../datasets/Position_Salaries.csv\", skiprows=2, index_col=0)\n",
    "x2, y2 = df.index, df.Salary\n",
    "\n",
    "make_subplots(1, 2, subplot_titles=(r\"$\\text{Simulated Data: }y=x^4-2x^3-0.5x^2+1$\", r\"$\\text{Positions Salary}$\"))\\\n",
    "    .add_traces([go.Scatter(x=x, y=y_, mode=\"markers\", marker=dict(color=\"black\", opacity=.7), showlegend=False),\n",
    "                 go.Scatter(x=x2, y=y2, mode=\"markers\",marker=dict(color=\"black\", opacity=.7), showlegend=False)],\n",
    "                rows=[1,1], cols=[1,2])\\\n",
    "    .update_layout(title=r\"$\\text{(1) Datasets For Polynomial Fitting}$\", margin=dict(t=100)).show()\n",
    "\n"
   ]
  },
  {
   "cell_type": "markdown",
   "metadata": {
    "pycharm": {
     "name": "#%% md\n"
    }
   },
   "source": [
    "As we have discussed in class, solving a polynomial fitting problem can be done by first manipulating the input data,\n",
    "such that we represent each sample $x_i\\in\\mathbb{R}$ as a vector $\\mathbf{x}_i=\\left(x^0,x^1,\\ldots,x^k\\right)$. Then,\n",
    "we treat the data as a design matrix $\\mathbf{X}\\in\\mathbb{R}^{m\\times k}$ of a linear regression problem.\n",
    "\n",
    "For the simulated dataset above, which is of a polynomial of degree 4, the design matrix looks as follows: \n"
   ]
  },
  {
   "cell_type": "code",
   "execution_count": 8,
   "metadata": {
    "pycharm": {
     "name": "#%%\n"
    }
   },
   "outputs": [
    {
     "data": {
      "text/plain": "       $x^0$     $x^1$     $x^2$     $x^3$     $x^4$\n$x_1$    1.0 -1.200000  1.440000 -1.728000  2.073600\n$x_2$    1.0 -1.035897  1.073083 -1.111604  1.151508\n$x_3$    1.0 -0.871795  0.760026 -0.662587  0.577640\n$x_4$    1.0 -0.707692  0.500828 -0.354432  0.250829\n$x_5$    1.0 -0.543590  0.295490 -0.160625  0.087314",
      "text/html": "<div>\n<style scoped>\n    .dataframe tbody tr th:only-of-type {\n        vertical-align: middle;\n    }\n\n    .dataframe tbody tr th {\n        vertical-align: top;\n    }\n\n    .dataframe thead th {\n        text-align: right;\n    }\n</style>\n<table border=\"1\" class=\"dataframe\">\n  <thead>\n    <tr style=\"text-align: right;\">\n      <th></th>\n      <th>$x^0$</th>\n      <th>$x^1$</th>\n      <th>$x^2$</th>\n      <th>$x^3$</th>\n      <th>$x^4$</th>\n    </tr>\n  </thead>\n  <tbody>\n    <tr>\n      <th>$x_1$</th>\n      <td>1.0</td>\n      <td>-1.200000</td>\n      <td>1.440000</td>\n      <td>-1.728000</td>\n      <td>2.073600</td>\n    </tr>\n    <tr>\n      <th>$x_2$</th>\n      <td>1.0</td>\n      <td>-1.035897</td>\n      <td>1.073083</td>\n      <td>-1.111604</td>\n      <td>1.151508</td>\n    </tr>\n    <tr>\n      <th>$x_3$</th>\n      <td>1.0</td>\n      <td>-0.871795</td>\n      <td>0.760026</td>\n      <td>-0.662587</td>\n      <td>0.577640</td>\n    </tr>\n    <tr>\n      <th>$x_4$</th>\n      <td>1.0</td>\n      <td>-0.707692</td>\n      <td>0.500828</td>\n      <td>-0.354432</td>\n      <td>0.250829</td>\n    </tr>\n    <tr>\n      <th>$x_5$</th>\n      <td>1.0</td>\n      <td>-0.543590</td>\n      <td>0.295490</td>\n      <td>-0.160625</td>\n      <td>0.087314</td>\n    </tr>\n  </tbody>\n</table>\n</div>"
     },
     "execution_count": 8,
     "metadata": {},
     "output_type": "execute_result"
    }
   ],
   "source": [
    "from sklearn.preprocessing import PolynomialFeatures\n",
    "m, k, X = 5, 4, x.reshape(-1, 1)\n",
    "pd.DataFrame(PolynomialFeatures(k).fit_transform(X[:m]), \n",
    "             columns=[rf\"$x^{{0}}$\".format(i) for i in range(0, k+1)],\n",
    "             index=[rf\"$x_{{0}}$\".format(i) for i in range(1, m+1)])"
   ]
  },
  {
   "cell_type": "markdown",
   "metadata": {
    "pycharm": {
     "name": "#%% md\n"
    }
   },
   "source": [
    "## Fitting A Polynomial Of Different Degrees\n",
    "\n",
    "Next, let us fit polynomials of different degrees and different noise properties to study how it influences the learned model.\n",
    "We begin with the noise-less case where we fit for different values of $k$. As we increase $k$ we manage to fit a model\n",
    "that describes the data in a better way, reflected by the decrease in the MSE.\n",
    "\n",
    "*Notice that in both the `PolynomialFeatures` and `LinearRegression` functions we can add the bias/intercept parameter. As in this case it makes no difference, we will include the bias in the polynomial features transformation and fit a linear regression **without** an intercept. The bias parameter of the polynomial features (i.e. $x^0$) will in reality be the intercept of the linear regression.*"
   ]
  },
  {
   "cell_type": "code",
   "execution_count": 9,
   "metadata": {
    "pycharm": {
     "name": "#%%\n"
    }
   },
   "outputs": [
    {
     "data": {
      "application/vnd.plotly.v1+json": {
       "data": [
        {
         "marker": {
          "color": "black",
          "opacity": 0.7
         },
         "mode": "markers",
         "name": "Real Points",
         "showlegend": false,
         "x": [
          -1.2,
          -1.0358974358974358,
          -0.8717948717948718,
          -0.7076923076923076,
          -0.5435897435897435,
          -0.37948717948717947,
          -0.21538461538461529,
          -0.05128205128205132,
          0.11282051282051286,
          0.27692307692307705,
          0.441025641025641,
          0.6051282051282052,
          0.7692307692307694,
          0.9333333333333333,
          1.0974358974358973,
          1.2615384615384617,
          1.4256410256410257,
          1.5897435897435896,
          1.753846153846154,
          1.917948717948718
         ],
         "y": [
          5.8096,
          3.8381753317244733,
          2.522800884051074,
          1.7092797030916282,
          1.2608197821340592,
          1.058034061642376,
          0.9989404292566787,
          0.9989617197931566,
          0.9909257152440888,
          0.9250651447778439,
          0.7690176847388803,
          0.5078259586477458,
          0.14393753720107805,
          -0.3027950617283952,
          -0.7951143730918573,
          -1.278357984664403,
          -1.6804585370450331,
          -1.911943723656666,
          -1.8659362907461214,
          -1.418154037384138
         ],
         "type": "scatter",
         "xaxis": "x",
         "yaxis": "y"
        },
        {
         "marker": {
          "color": "blue",
          "opacity": 0.7
         },
         "mode": "markers",
         "name": "Predicted Points",
         "showlegend": false,
         "x": [
          -1.2,
          -1.0358974358974358,
          -0.8717948717948718,
          -0.7076923076923076,
          -0.5435897435897435,
          -0.37948717948717947,
          -0.21538461538461529,
          -0.05128205128205132,
          0.11282051282051286,
          0.27692307692307705,
          0.441025641025641,
          0.6051282051282052,
          0.7692307692307694,
          0.9333333333333333,
          1.0974358974358973,
          1.2615384615384617,
          1.4256410256410257,
          1.5897435897435896,
          1.753846153846154,
          1.917948717948718
         ],
         "y": [
          4.121178320220212,
          3.621909150479429,
          3.1443226121336743,
          2.6884187051829453,
          2.2541974296272445,
          1.8416587854665707,
          1.4508027727009234,
          1.081629391330304,
          0.7341386413547106,
          0.40833052277414467,
          0.10420503558860619,
          -0.1782378202019055,
          -0.4389980445973902,
          -0.6780756375978476,
          -0.895470599203278,
          -1.0911829294136817,
          -1.265212628229058,
          -1.417559695649407,
          -1.5482241316747294,
          -1.657205936305025
         ],
         "type": "scatter",
         "xaxis": "x",
         "yaxis": "y"
        },
        {
         "marker": {
          "color": "black",
          "opacity": 0.7
         },
         "mode": "markers",
         "name": "Real Points",
         "showlegend": false,
         "x": [
          -1.2,
          -1.0358974358974358,
          -0.8717948717948718,
          -0.7076923076923076,
          -0.5435897435897435,
          -0.37948717948717947,
          -0.21538461538461529,
          -0.05128205128205132,
          0.11282051282051286,
          0.27692307692307705,
          0.441025641025641,
          0.6051282051282052,
          0.7692307692307694,
          0.9333333333333333,
          1.0974358974358973,
          1.2615384615384617,
          1.4256410256410257,
          1.5897435897435896,
          1.753846153846154,
          1.917948717948718
         ],
         "y": [
          5.8096,
          3.8381753317244733,
          2.522800884051074,
          1.7092797030916282,
          1.2608197821340592,
          1.058034061642376,
          0.9989404292566787,
          0.9989617197931566,
          0.9909257152440888,
          0.9250651447778439,
          0.7690176847388803,
          0.5078259586477458,
          0.14393753720107805,
          -0.3027950617283952,
          -0.7951143730918573,
          -1.278357984664403,
          -1.6804585370450331,
          -1.911943723656666,
          -1.8659362907461214,
          -1.418154037384138
         ],
         "type": "scatter",
         "xaxis": "x2",
         "yaxis": "y2"
        },
        {
         "marker": {
          "color": "blue",
          "opacity": 0.7
         },
         "mode": "markers",
         "name": "Predicted Points",
         "showlegend": false,
         "x": [
          -1.2,
          -1.0358974358974358,
          -0.8717948717948718,
          -0.7076923076923076,
          -0.5435897435897435,
          -0.37948717948717947,
          -0.21538461538461529,
          -0.05128205128205132,
          0.11282051282051286,
          0.27692307692307705,
          0.441025641025641,
          0.6051282051282052,
          0.7692307692307694,
          0.9333333333333333,
          1.0974358974358973,
          1.2615384615384617,
          1.4256410256410257,
          1.5897435897435896,
          1.753846153846154,
          1.917948717948718
         ],
         "y": [
          4.845863210649666,
          3.888898320637651,
          3.080753762096006,
          2.4064721585452773,
          1.8510961335060148,
          1.399668310498765,
          1.0372313130440765,
          0.7488277646624975,
          0.5195002888745753,
          0.33429150920085826,
          0.1782440491618945,
          0.0364005322782317,
          -0.10619641792958223,
          -0.2645041779409991,
          -0.4534801242354707,
          -0.6880816332924504,
          -0.9832660815913883,
          -1.3539908456117375,
          -1.8152133018329506,
          -2.3818908267344785
         ],
         "type": "scatter",
         "xaxis": "x2",
         "yaxis": "y2"
        },
        {
         "marker": {
          "color": "black",
          "opacity": 0.7
         },
         "mode": "markers",
         "name": "Real Points",
         "showlegend": false,
         "x": [
          -1.2,
          -1.0358974358974358,
          -0.8717948717948718,
          -0.7076923076923076,
          -0.5435897435897435,
          -0.37948717948717947,
          -0.21538461538461529,
          -0.05128205128205132,
          0.11282051282051286,
          0.27692307692307705,
          0.441025641025641,
          0.6051282051282052,
          0.7692307692307694,
          0.9333333333333333,
          1.0974358974358973,
          1.2615384615384617,
          1.4256410256410257,
          1.5897435897435896,
          1.753846153846154,
          1.917948717948718
         ],
         "y": [
          5.8096,
          3.8381753317244733,
          2.522800884051074,
          1.7092797030916282,
          1.2608197821340592,
          1.058034061642376,
          0.9989404292566787,
          0.9989617197931566,
          0.9909257152440888,
          0.9250651447778439,
          0.7690176847388803,
          0.5078259586477458,
          0.14393753720107805,
          -0.3027950617283952,
          -0.7951143730918573,
          -1.278357984664403,
          -1.6804585370450331,
          -1.911943723656666,
          -1.8659362907461214,
          -1.418154037384138
         ],
         "type": "scatter",
         "xaxis": "x3",
         "yaxis": "y3"
        },
        {
         "marker": {
          "color": "blue",
          "opacity": 0.7
         },
         "mode": "markers",
         "name": "Predicted Points",
         "showlegend": false,
         "x": [
          -1.2,
          -1.0358974358974358,
          -0.8717948717948718,
          -0.7076923076923076,
          -0.5435897435897435,
          -0.37948717948717947,
          -0.21538461538461529,
          -0.05128205128205132,
          0.11282051282051286,
          0.27692307692307705,
          0.441025641025641,
          0.6051282051282052,
          0.7692307692307694,
          0.9333333333333333,
          1.0974358974358973,
          1.2615384615384617,
          1.4256410256410257,
          1.5897435897435896,
          1.753846153846154,
          1.917948717948718
         ],
         "y": [
          5.809600000000001,
          3.8381753317244747,
          2.522800884051076,
          1.7092797030916305,
          1.2608197821340614,
          1.0580340616423782,
          0.9989404292566809,
          0.9989617197931587,
          0.9909257152440907,
          0.9250651447778455,
          0.7690176847388818,
          0.507825958647747,
          0.14393753720107894,
          -0.3027950617283945,
          -0.7951143730918568,
          -1.2783579846644022,
          -1.6804585370450345,
          -1.9119437236566674,
          -1.8659362907461232,
          -1.4181540373841424
         ],
         "type": "scatter",
         "xaxis": "x3",
         "yaxis": "y3"
        },
        {
         "marker": {
          "color": "black",
          "opacity": 0.7
         },
         "mode": "markers",
         "name": "Real Points",
         "showlegend": false,
         "x": [
          -1.2,
          -1.0358974358974358,
          -0.8717948717948718,
          -0.7076923076923076,
          -0.5435897435897435,
          -0.37948717948717947,
          -0.21538461538461529,
          -0.05128205128205132,
          0.11282051282051286,
          0.27692307692307705,
          0.441025641025641,
          0.6051282051282052,
          0.7692307692307694,
          0.9333333333333333,
          1.0974358974358973,
          1.2615384615384617,
          1.4256410256410257,
          1.5897435897435896,
          1.753846153846154,
          1.917948717948718
         ],
         "y": [
          5.8096,
          3.8381753317244733,
          2.522800884051074,
          1.7092797030916282,
          1.2608197821340592,
          1.058034061642376,
          0.9989404292566787,
          0.9989617197931566,
          0.9909257152440888,
          0.9250651447778439,
          0.7690176847388803,
          0.5078259586477458,
          0.14393753720107805,
          -0.3027950617283952,
          -0.7951143730918573,
          -1.278357984664403,
          -1.6804585370450331,
          -1.911943723656666,
          -1.8659362907461214,
          -1.418154037384138
         ],
         "type": "scatter",
         "xaxis": "x4",
         "yaxis": "y4"
        },
        {
         "marker": {
          "color": "blue",
          "opacity": 0.7
         },
         "mode": "markers",
         "name": "Predicted Points",
         "showlegend": false,
         "x": [
          -1.2,
          -1.0358974358974358,
          -0.8717948717948718,
          -0.7076923076923076,
          -0.5435897435897435,
          -0.37948717948717947,
          -0.21538461538461529,
          -0.05128205128205132,
          0.11282051282051286,
          0.27692307692307705,
          0.441025641025641,
          0.6051282051282052,
          0.7692307692307694,
          0.9333333333333333,
          1.0974358974358973,
          1.2615384615384617,
          1.4256410256410257,
          1.5897435897435896,
          1.753846153846154,
          1.917948717948718
         ],
         "y": [
          5.809599999999996,
          3.8381753317244716,
          2.522800884051074,
          1.709279703091629,
          1.2608197821340608,
          1.0580340616423782,
          0.9989404292566811,
          0.9989617197931591,
          0.9909257152440911,
          0.9250651447778458,
          0.7690176847388819,
          0.5078259586477468,
          0.14393753720107827,
          -0.30279506172839576,
          -0.7951143730918584,
          -1.2783579846644049,
          -1.6804585370450367,
          -1.9119437236566688,
          -1.8659362907461254,
          -1.4181540373841415
         ],
         "type": "scatter",
         "xaxis": "x4",
         "yaxis": "y4"
        }
       ],
       "layout": {
        "template": {
         "data": {
          "barpolar": [
           {
            "marker": {
             "line": {
              "color": "white",
              "width": 0.5
             },
             "pattern": {
              "fillmode": "overlay",
              "size": 10,
              "solidity": 0.2
             }
            },
            "type": "barpolar"
           }
          ],
          "bar": [
           {
            "error_x": {
             "color": "rgb(36,36,36)"
            },
            "error_y": {
             "color": "rgb(36,36,36)"
            },
            "marker": {
             "line": {
              "color": "white",
              "width": 0.5
             },
             "pattern": {
              "fillmode": "overlay",
              "size": 10,
              "solidity": 0.2
             }
            },
            "type": "bar"
           }
          ],
          "carpet": [
           {
            "aaxis": {
             "endlinecolor": "rgb(36,36,36)",
             "gridcolor": "white",
             "linecolor": "white",
             "minorgridcolor": "white",
             "startlinecolor": "rgb(36,36,36)"
            },
            "baxis": {
             "endlinecolor": "rgb(36,36,36)",
             "gridcolor": "white",
             "linecolor": "white",
             "minorgridcolor": "white",
             "startlinecolor": "rgb(36,36,36)"
            },
            "type": "carpet"
           }
          ],
          "choropleth": [
           {
            "colorbar": {
             "outlinewidth": 1,
             "tickcolor": "rgb(36,36,36)",
             "ticks": "outside"
            },
            "type": "choropleth"
           }
          ],
          "contourcarpet": [
           {
            "colorbar": {
             "outlinewidth": 1,
             "tickcolor": "rgb(36,36,36)",
             "ticks": "outside"
            },
            "type": "contourcarpet"
           }
          ],
          "contour": [
           {
            "colorbar": {
             "outlinewidth": 1,
             "tickcolor": "rgb(36,36,36)",
             "ticks": "outside"
            },
            "colorscale": [
             [
              0.0,
              "#440154"
             ],
             [
              0.1111111111111111,
              "#482878"
             ],
             [
              0.2222222222222222,
              "#3e4989"
             ],
             [
              0.3333333333333333,
              "#31688e"
             ],
             [
              0.4444444444444444,
              "#26828e"
             ],
             [
              0.5555555555555556,
              "#1f9e89"
             ],
             [
              0.6666666666666666,
              "#35b779"
             ],
             [
              0.7777777777777778,
              "#6ece58"
             ],
             [
              0.8888888888888888,
              "#b5de2b"
             ],
             [
              1.0,
              "#fde725"
             ]
            ],
            "type": "contour"
           }
          ],
          "heatmapgl": [
           {
            "colorbar": {
             "outlinewidth": 1,
             "tickcolor": "rgb(36,36,36)",
             "ticks": "outside"
            },
            "colorscale": [
             [
              0.0,
              "#440154"
             ],
             [
              0.1111111111111111,
              "#482878"
             ],
             [
              0.2222222222222222,
              "#3e4989"
             ],
             [
              0.3333333333333333,
              "#31688e"
             ],
             [
              0.4444444444444444,
              "#26828e"
             ],
             [
              0.5555555555555556,
              "#1f9e89"
             ],
             [
              0.6666666666666666,
              "#35b779"
             ],
             [
              0.7777777777777778,
              "#6ece58"
             ],
             [
              0.8888888888888888,
              "#b5de2b"
             ],
             [
              1.0,
              "#fde725"
             ]
            ],
            "type": "heatmapgl"
           }
          ],
          "heatmap": [
           {
            "colorbar": {
             "outlinewidth": 1,
             "tickcolor": "rgb(36,36,36)",
             "ticks": "outside"
            },
            "colorscale": [
             [
              0.0,
              "#440154"
             ],
             [
              0.1111111111111111,
              "#482878"
             ],
             [
              0.2222222222222222,
              "#3e4989"
             ],
             [
              0.3333333333333333,
              "#31688e"
             ],
             [
              0.4444444444444444,
              "#26828e"
             ],
             [
              0.5555555555555556,
              "#1f9e89"
             ],
             [
              0.6666666666666666,
              "#35b779"
             ],
             [
              0.7777777777777778,
              "#6ece58"
             ],
             [
              0.8888888888888888,
              "#b5de2b"
             ],
             [
              1.0,
              "#fde725"
             ]
            ],
            "type": "heatmap"
           }
          ],
          "histogram2dcontour": [
           {
            "colorbar": {
             "outlinewidth": 1,
             "tickcolor": "rgb(36,36,36)",
             "ticks": "outside"
            },
            "colorscale": [
             [
              0.0,
              "#440154"
             ],
             [
              0.1111111111111111,
              "#482878"
             ],
             [
              0.2222222222222222,
              "#3e4989"
             ],
             [
              0.3333333333333333,
              "#31688e"
             ],
             [
              0.4444444444444444,
              "#26828e"
             ],
             [
              0.5555555555555556,
              "#1f9e89"
             ],
             [
              0.6666666666666666,
              "#35b779"
             ],
             [
              0.7777777777777778,
              "#6ece58"
             ],
             [
              0.8888888888888888,
              "#b5de2b"
             ],
             [
              1.0,
              "#fde725"
             ]
            ],
            "type": "histogram2dcontour"
           }
          ],
          "histogram2d": [
           {
            "colorbar": {
             "outlinewidth": 1,
             "tickcolor": "rgb(36,36,36)",
             "ticks": "outside"
            },
            "colorscale": [
             [
              0.0,
              "#440154"
             ],
             [
              0.1111111111111111,
              "#482878"
             ],
             [
              0.2222222222222222,
              "#3e4989"
             ],
             [
              0.3333333333333333,
              "#31688e"
             ],
             [
              0.4444444444444444,
              "#26828e"
             ],
             [
              0.5555555555555556,
              "#1f9e89"
             ],
             [
              0.6666666666666666,
              "#35b779"
             ],
             [
              0.7777777777777778,
              "#6ece58"
             ],
             [
              0.8888888888888888,
              "#b5de2b"
             ],
             [
              1.0,
              "#fde725"
             ]
            ],
            "type": "histogram2d"
           }
          ],
          "histogram": [
           {
            "marker": {
             "line": {
              "color": "white",
              "width": 0.6
             }
            },
            "type": "histogram"
           }
          ],
          "mesh3d": [
           {
            "colorbar": {
             "outlinewidth": 1,
             "tickcolor": "rgb(36,36,36)",
             "ticks": "outside"
            },
            "type": "mesh3d"
           }
          ],
          "parcoords": [
           {
            "line": {
             "colorbar": {
              "outlinewidth": 1,
              "tickcolor": "rgb(36,36,36)",
              "ticks": "outside"
             }
            },
            "type": "parcoords"
           }
          ],
          "pie": [
           {
            "automargin": true,
            "type": "pie"
           }
          ],
          "scatter3d": [
           {
            "line": {
             "colorbar": {
              "outlinewidth": 1,
              "tickcolor": "rgb(36,36,36)",
              "ticks": "outside"
             }
            },
            "marker": {
             "colorbar": {
              "outlinewidth": 1,
              "tickcolor": "rgb(36,36,36)",
              "ticks": "outside"
             }
            },
            "type": "scatter3d"
           }
          ],
          "scattercarpet": [
           {
            "marker": {
             "colorbar": {
              "outlinewidth": 1,
              "tickcolor": "rgb(36,36,36)",
              "ticks": "outside"
             }
            },
            "type": "scattercarpet"
           }
          ],
          "scattergeo": [
           {
            "marker": {
             "colorbar": {
              "outlinewidth": 1,
              "tickcolor": "rgb(36,36,36)",
              "ticks": "outside"
             }
            },
            "type": "scattergeo"
           }
          ],
          "scattergl": [
           {
            "marker": {
             "colorbar": {
              "outlinewidth": 1,
              "tickcolor": "rgb(36,36,36)",
              "ticks": "outside"
             }
            },
            "type": "scattergl"
           }
          ],
          "scattermapbox": [
           {
            "marker": {
             "colorbar": {
              "outlinewidth": 1,
              "tickcolor": "rgb(36,36,36)",
              "ticks": "outside"
             }
            },
            "type": "scattermapbox"
           }
          ],
          "scatterpolargl": [
           {
            "marker": {
             "colorbar": {
              "outlinewidth": 1,
              "tickcolor": "rgb(36,36,36)",
              "ticks": "outside"
             }
            },
            "type": "scatterpolargl"
           }
          ],
          "scatterpolar": [
           {
            "marker": {
             "colorbar": {
              "outlinewidth": 1,
              "tickcolor": "rgb(36,36,36)",
              "ticks": "outside"
             }
            },
            "type": "scatterpolar"
           }
          ],
          "scatter": [
           {
            "marker": {
             "colorbar": {
              "outlinewidth": 1,
              "tickcolor": "rgb(36,36,36)",
              "ticks": "outside"
             }
            },
            "type": "scatter"
           }
          ],
          "scatterternary": [
           {
            "marker": {
             "colorbar": {
              "outlinewidth": 1,
              "tickcolor": "rgb(36,36,36)",
              "ticks": "outside"
             }
            },
            "type": "scatterternary"
           }
          ],
          "surface": [
           {
            "colorbar": {
             "outlinewidth": 1,
             "tickcolor": "rgb(36,36,36)",
             "ticks": "outside"
            },
            "colorscale": [
             [
              0.0,
              "#440154"
             ],
             [
              0.1111111111111111,
              "#482878"
             ],
             [
              0.2222222222222222,
              "#3e4989"
             ],
             [
              0.3333333333333333,
              "#31688e"
             ],
             [
              0.4444444444444444,
              "#26828e"
             ],
             [
              0.5555555555555556,
              "#1f9e89"
             ],
             [
              0.6666666666666666,
              "#35b779"
             ],
             [
              0.7777777777777778,
              "#6ece58"
             ],
             [
              0.8888888888888888,
              "#b5de2b"
             ],
             [
              1.0,
              "#fde725"
             ]
            ],
            "type": "surface"
           }
          ],
          "table": [
           {
            "cells": {
             "fill": {
              "color": "rgb(237,237,237)"
             },
             "line": {
              "color": "white"
             }
            },
            "header": {
             "fill": {
              "color": "rgb(217,217,217)"
             },
             "line": {
              "color": "white"
             }
            },
            "type": "table"
           }
          ]
         },
         "layout": {
          "annotationdefaults": {
           "arrowhead": 0,
           "arrowwidth": 1
          },
          "autotypenumbers": "strict",
          "coloraxis": {
           "colorbar": {
            "outlinewidth": 1,
            "tickcolor": "rgb(36,36,36)",
            "ticks": "outside"
           }
          },
          "colorscale": {
           "diverging": [
            [
             0.0,
             "rgb(103,0,31)"
            ],
            [
             0.1,
             "rgb(178,24,43)"
            ],
            [
             0.2,
             "rgb(214,96,77)"
            ],
            [
             0.3,
             "rgb(244,165,130)"
            ],
            [
             0.4,
             "rgb(253,219,199)"
            ],
            [
             0.5,
             "rgb(247,247,247)"
            ],
            [
             0.6,
             "rgb(209,229,240)"
            ],
            [
             0.7,
             "rgb(146,197,222)"
            ],
            [
             0.8,
             "rgb(67,147,195)"
            ],
            [
             0.9,
             "rgb(33,102,172)"
            ],
            [
             1.0,
             "rgb(5,48,97)"
            ]
           ],
           "sequential": [
            [
             0.0,
             "#440154"
            ],
            [
             0.1111111111111111,
             "#482878"
            ],
            [
             0.2222222222222222,
             "#3e4989"
            ],
            [
             0.3333333333333333,
             "#31688e"
            ],
            [
             0.4444444444444444,
             "#26828e"
            ],
            [
             0.5555555555555556,
             "#1f9e89"
            ],
            [
             0.6666666666666666,
             "#35b779"
            ],
            [
             0.7777777777777778,
             "#6ece58"
            ],
            [
             0.8888888888888888,
             "#b5de2b"
            ],
            [
             1.0,
             "#fde725"
            ]
           ],
           "sequentialminus": [
            [
             0.0,
             "#440154"
            ],
            [
             0.1111111111111111,
             "#482878"
            ],
            [
             0.2222222222222222,
             "#3e4989"
            ],
            [
             0.3333333333333333,
             "#31688e"
            ],
            [
             0.4444444444444444,
             "#26828e"
            ],
            [
             0.5555555555555556,
             "#1f9e89"
            ],
            [
             0.6666666666666666,
             "#35b779"
            ],
            [
             0.7777777777777778,
             "#6ece58"
            ],
            [
             0.8888888888888888,
             "#b5de2b"
            ],
            [
             1.0,
             "#fde725"
            ]
           ]
          },
          "colorway": [
           "#1F77B4",
           "#FF7F0E",
           "#2CA02C",
           "#D62728",
           "#9467BD",
           "#8C564B",
           "#E377C2",
           "#7F7F7F",
           "#BCBD22",
           "#17BECF"
          ],
          "font": {
           "color": "rgb(36,36,36)"
          },
          "geo": {
           "bgcolor": "white",
           "lakecolor": "white",
           "landcolor": "white",
           "showlakes": true,
           "showland": true,
           "subunitcolor": "white"
          },
          "hoverlabel": {
           "align": "left"
          },
          "hovermode": "closest",
          "mapbox": {
           "style": "light"
          },
          "paper_bgcolor": "white",
          "plot_bgcolor": "white",
          "polar": {
           "angularaxis": {
            "gridcolor": "rgb(232,232,232)",
            "linecolor": "rgb(36,36,36)",
            "showgrid": false,
            "showline": true,
            "ticks": "outside"
           },
           "bgcolor": "white",
           "radialaxis": {
            "gridcolor": "rgb(232,232,232)",
            "linecolor": "rgb(36,36,36)",
            "showgrid": false,
            "showline": true,
            "ticks": "outside"
           }
          },
          "scene": {
           "xaxis": {
            "backgroundcolor": "white",
            "gridcolor": "rgb(232,232,232)",
            "gridwidth": 2,
            "linecolor": "rgb(36,36,36)",
            "showbackground": true,
            "showgrid": false,
            "showline": true,
            "ticks": "outside",
            "zeroline": false,
            "zerolinecolor": "rgb(36,36,36)"
           },
           "yaxis": {
            "backgroundcolor": "white",
            "gridcolor": "rgb(232,232,232)",
            "gridwidth": 2,
            "linecolor": "rgb(36,36,36)",
            "showbackground": true,
            "showgrid": false,
            "showline": true,
            "ticks": "outside",
            "zeroline": false,
            "zerolinecolor": "rgb(36,36,36)"
           },
           "zaxis": {
            "backgroundcolor": "white",
            "gridcolor": "rgb(232,232,232)",
            "gridwidth": 2,
            "linecolor": "rgb(36,36,36)",
            "showbackground": true,
            "showgrid": false,
            "showline": true,
            "ticks": "outside",
            "zeroline": false,
            "zerolinecolor": "rgb(36,36,36)"
           }
          },
          "shapedefaults": {
           "fillcolor": "black",
           "line": {
            "width": 0
           },
           "opacity": 0.3
          },
          "ternary": {
           "aaxis": {
            "gridcolor": "rgb(232,232,232)",
            "linecolor": "rgb(36,36,36)",
            "showgrid": false,
            "showline": true,
            "ticks": "outside"
           },
           "baxis": {
            "gridcolor": "rgb(232,232,232)",
            "linecolor": "rgb(36,36,36)",
            "showgrid": false,
            "showline": true,
            "ticks": "outside"
           },
           "bgcolor": "white",
           "caxis": {
            "gridcolor": "rgb(232,232,232)",
            "linecolor": "rgb(36,36,36)",
            "showgrid": false,
            "showline": true,
            "ticks": "outside"
           }
          },
          "title": {
           "x": 0.05
          },
          "xaxis": {
           "automargin": true,
           "gridcolor": "rgb(232,232,232)",
           "linecolor": "rgb(36,36,36)",
           "showgrid": false,
           "showline": true,
           "ticks": "outside",
           "title": {
            "standoff": 15
           },
           "zeroline": false,
           "zerolinecolor": "rgb(36,36,36)"
          },
          "yaxis": {
           "automargin": true,
           "gridcolor": "rgb(232,232,232)",
           "linecolor": "rgb(36,36,36)",
           "showgrid": false,
           "showline": true,
           "ticks": "outside",
           "title": {
            "standoff": 15
           },
           "zeroline": false,
           "zerolinecolor": "rgb(36,36,36)"
          },
          "margin": {
           "b": 0,
           "l": 20,
           "r": 20,
           "t": 40
          }
         }
        },
        "xaxis": {
         "anchor": "y",
         "domain": [
          0.0,
          0.2125
         ]
        },
        "yaxis": {
         "anchor": "x",
         "domain": [
          0.0,
          1.0
         ],
         "title": {
          "text": "$\\widehat{y}$"
         }
        },
        "xaxis2": {
         "anchor": "y2",
         "domain": [
          0.2625,
          0.475
         ]
        },
        "yaxis2": {
         "anchor": "x2",
         "domain": [
          0.0,
          1.0
         ]
        },
        "xaxis3": {
         "anchor": "y3",
         "domain": [
          0.525,
          0.7375
         ]
        },
        "yaxis3": {
         "anchor": "x3",
         "domain": [
          0.0,
          1.0
         ]
        },
        "xaxis4": {
         "anchor": "y4",
         "domain": [
          0.7875,
          1.0
         ]
        },
        "yaxis4": {
         "anchor": "x4",
         "domain": [
          0.0,
          1.0
         ]
        },
        "annotations": [
         {
          "font": {
           "size": 16
          },
          "showarrow": false,
          "text": "$k=2, MSE=0.42$",
          "x": 0.10625,
          "xanchor": "center",
          "xref": "paper",
          "y": 1.0,
          "yanchor": "bottom",
          "yref": "paper"
         },
         {
          "font": {
           "size": 16
          },
          "showarrow": false,
          "text": "$k=3, MSE=0.28$",
          "x": 0.36875,
          "xanchor": "center",
          "xref": "paper",
          "y": 1.0,
          "yanchor": "bottom",
          "yref": "paper"
         },
         {
          "font": {
           "size": 16
          },
          "showarrow": false,
          "text": "$k=4, MSE=0.0$",
          "x": 0.6312500000000001,
          "xanchor": "center",
          "xref": "paper",
          "y": 1.0,
          "yanchor": "bottom",
          "yref": "paper"
         },
         {
          "font": {
           "size": 16
          },
          "showarrow": false,
          "text": "$k=5, MSE=0.0$",
          "x": 0.89375,
          "xanchor": "center",
          "xref": "paper",
          "y": 1.0,
          "yanchor": "bottom",
          "yref": "paper"
         }
        ],
        "margin": {
         "t": 60
        },
        "title": {
         "text": "$\\text{(2) Simulated Data - Fitting Polynomials of Different Degrees}$"
        },
        "height": 300
       },
       "config": {
        "plotlyServerURL": "https://plot.ly"
       }
      },
      "text/html": "<div>                            <div id=\"15126923-c8e7-4fd9-a990-94e24f793ae9\" class=\"plotly-graph-div\" style=\"height:300px; width:100%;\"></div>            <script type=\"text/javascript\">                require([\"plotly\"], function(Plotly) {                    window.PLOTLYENV=window.PLOTLYENV || {};                                    if (document.getElementById(\"15126923-c8e7-4fd9-a990-94e24f793ae9\")) {                    Plotly.newPlot(                        \"15126923-c8e7-4fd9-a990-94e24f793ae9\",                        [{\"marker\":{\"color\":\"black\",\"opacity\":0.7},\"mode\":\"markers\",\"name\":\"Real Points\",\"showlegend\":false,\"x\":[-1.2,-1.0358974358974358,-0.8717948717948718,-0.7076923076923076,-0.5435897435897435,-0.37948717948717947,-0.21538461538461529,-0.05128205128205132,0.11282051282051286,0.27692307692307705,0.441025641025641,0.6051282051282052,0.7692307692307694,0.9333333333333333,1.0974358974358973,1.2615384615384617,1.4256410256410257,1.5897435897435896,1.753846153846154,1.917948717948718],\"y\":[5.8096,3.8381753317244733,2.522800884051074,1.7092797030916282,1.2608197821340592,1.058034061642376,0.9989404292566787,0.9989617197931566,0.9909257152440888,0.9250651447778439,0.7690176847388803,0.5078259586477458,0.14393753720107805,-0.3027950617283952,-0.7951143730918573,-1.278357984664403,-1.6804585370450331,-1.911943723656666,-1.8659362907461214,-1.418154037384138],\"type\":\"scatter\",\"xaxis\":\"x\",\"yaxis\":\"y\"},{\"marker\":{\"color\":\"blue\",\"opacity\":0.7},\"mode\":\"markers\",\"name\":\"Predicted Points\",\"showlegend\":false,\"x\":[-1.2,-1.0358974358974358,-0.8717948717948718,-0.7076923076923076,-0.5435897435897435,-0.37948717948717947,-0.21538461538461529,-0.05128205128205132,0.11282051282051286,0.27692307692307705,0.441025641025641,0.6051282051282052,0.7692307692307694,0.9333333333333333,1.0974358974358973,1.2615384615384617,1.4256410256410257,1.5897435897435896,1.753846153846154,1.917948717948718],\"y\":[4.121178320220212,3.621909150479429,3.1443226121336743,2.6884187051829453,2.2541974296272445,1.8416587854665707,1.4508027727009234,1.081629391330304,0.7341386413547106,0.40833052277414467,0.10420503558860619,-0.1782378202019055,-0.4389980445973902,-0.6780756375978476,-0.895470599203278,-1.0911829294136817,-1.265212628229058,-1.417559695649407,-1.5482241316747294,-1.657205936305025],\"type\":\"scatter\",\"xaxis\":\"x\",\"yaxis\":\"y\"},{\"marker\":{\"color\":\"black\",\"opacity\":0.7},\"mode\":\"markers\",\"name\":\"Real Points\",\"showlegend\":false,\"x\":[-1.2,-1.0358974358974358,-0.8717948717948718,-0.7076923076923076,-0.5435897435897435,-0.37948717948717947,-0.21538461538461529,-0.05128205128205132,0.11282051282051286,0.27692307692307705,0.441025641025641,0.6051282051282052,0.7692307692307694,0.9333333333333333,1.0974358974358973,1.2615384615384617,1.4256410256410257,1.5897435897435896,1.753846153846154,1.917948717948718],\"y\":[5.8096,3.8381753317244733,2.522800884051074,1.7092797030916282,1.2608197821340592,1.058034061642376,0.9989404292566787,0.9989617197931566,0.9909257152440888,0.9250651447778439,0.7690176847388803,0.5078259586477458,0.14393753720107805,-0.3027950617283952,-0.7951143730918573,-1.278357984664403,-1.6804585370450331,-1.911943723656666,-1.8659362907461214,-1.418154037384138],\"type\":\"scatter\",\"xaxis\":\"x2\",\"yaxis\":\"y2\"},{\"marker\":{\"color\":\"blue\",\"opacity\":0.7},\"mode\":\"markers\",\"name\":\"Predicted Points\",\"showlegend\":false,\"x\":[-1.2,-1.0358974358974358,-0.8717948717948718,-0.7076923076923076,-0.5435897435897435,-0.37948717948717947,-0.21538461538461529,-0.05128205128205132,0.11282051282051286,0.27692307692307705,0.441025641025641,0.6051282051282052,0.7692307692307694,0.9333333333333333,1.0974358974358973,1.2615384615384617,1.4256410256410257,1.5897435897435896,1.753846153846154,1.917948717948718],\"y\":[4.845863210649666,3.888898320637651,3.080753762096006,2.4064721585452773,1.8510961335060148,1.399668310498765,1.0372313130440765,0.7488277646624975,0.5195002888745753,0.33429150920085826,0.1782440491618945,0.0364005322782317,-0.10619641792958223,-0.2645041779409991,-0.4534801242354707,-0.6880816332924504,-0.9832660815913883,-1.3539908456117375,-1.8152133018329506,-2.3818908267344785],\"type\":\"scatter\",\"xaxis\":\"x2\",\"yaxis\":\"y2\"},{\"marker\":{\"color\":\"black\",\"opacity\":0.7},\"mode\":\"markers\",\"name\":\"Real Points\",\"showlegend\":false,\"x\":[-1.2,-1.0358974358974358,-0.8717948717948718,-0.7076923076923076,-0.5435897435897435,-0.37948717948717947,-0.21538461538461529,-0.05128205128205132,0.11282051282051286,0.27692307692307705,0.441025641025641,0.6051282051282052,0.7692307692307694,0.9333333333333333,1.0974358974358973,1.2615384615384617,1.4256410256410257,1.5897435897435896,1.753846153846154,1.917948717948718],\"y\":[5.8096,3.8381753317244733,2.522800884051074,1.7092797030916282,1.2608197821340592,1.058034061642376,0.9989404292566787,0.9989617197931566,0.9909257152440888,0.9250651447778439,0.7690176847388803,0.5078259586477458,0.14393753720107805,-0.3027950617283952,-0.7951143730918573,-1.278357984664403,-1.6804585370450331,-1.911943723656666,-1.8659362907461214,-1.418154037384138],\"type\":\"scatter\",\"xaxis\":\"x3\",\"yaxis\":\"y3\"},{\"marker\":{\"color\":\"blue\",\"opacity\":0.7},\"mode\":\"markers\",\"name\":\"Predicted Points\",\"showlegend\":false,\"x\":[-1.2,-1.0358974358974358,-0.8717948717948718,-0.7076923076923076,-0.5435897435897435,-0.37948717948717947,-0.21538461538461529,-0.05128205128205132,0.11282051282051286,0.27692307692307705,0.441025641025641,0.6051282051282052,0.7692307692307694,0.9333333333333333,1.0974358974358973,1.2615384615384617,1.4256410256410257,1.5897435897435896,1.753846153846154,1.917948717948718],\"y\":[5.809600000000001,3.8381753317244747,2.522800884051076,1.7092797030916305,1.2608197821340614,1.0580340616423782,0.9989404292566809,0.9989617197931587,0.9909257152440907,0.9250651447778455,0.7690176847388818,0.507825958647747,0.14393753720107894,-0.3027950617283945,-0.7951143730918568,-1.2783579846644022,-1.6804585370450345,-1.9119437236566674,-1.8659362907461232,-1.4181540373841424],\"type\":\"scatter\",\"xaxis\":\"x3\",\"yaxis\":\"y3\"},{\"marker\":{\"color\":\"black\",\"opacity\":0.7},\"mode\":\"markers\",\"name\":\"Real Points\",\"showlegend\":false,\"x\":[-1.2,-1.0358974358974358,-0.8717948717948718,-0.7076923076923076,-0.5435897435897435,-0.37948717948717947,-0.21538461538461529,-0.05128205128205132,0.11282051282051286,0.27692307692307705,0.441025641025641,0.6051282051282052,0.7692307692307694,0.9333333333333333,1.0974358974358973,1.2615384615384617,1.4256410256410257,1.5897435897435896,1.753846153846154,1.917948717948718],\"y\":[5.8096,3.8381753317244733,2.522800884051074,1.7092797030916282,1.2608197821340592,1.058034061642376,0.9989404292566787,0.9989617197931566,0.9909257152440888,0.9250651447778439,0.7690176847388803,0.5078259586477458,0.14393753720107805,-0.3027950617283952,-0.7951143730918573,-1.278357984664403,-1.6804585370450331,-1.911943723656666,-1.8659362907461214,-1.418154037384138],\"type\":\"scatter\",\"xaxis\":\"x4\",\"yaxis\":\"y4\"},{\"marker\":{\"color\":\"blue\",\"opacity\":0.7},\"mode\":\"markers\",\"name\":\"Predicted Points\",\"showlegend\":false,\"x\":[-1.2,-1.0358974358974358,-0.8717948717948718,-0.7076923076923076,-0.5435897435897435,-0.37948717948717947,-0.21538461538461529,-0.05128205128205132,0.11282051282051286,0.27692307692307705,0.441025641025641,0.6051282051282052,0.7692307692307694,0.9333333333333333,1.0974358974358973,1.2615384615384617,1.4256410256410257,1.5897435897435896,1.753846153846154,1.917948717948718],\"y\":[5.809599999999996,3.8381753317244716,2.522800884051074,1.709279703091629,1.2608197821340608,1.0580340616423782,0.9989404292566811,0.9989617197931591,0.9909257152440911,0.9250651447778458,0.7690176847388819,0.5078259586477468,0.14393753720107827,-0.30279506172839576,-0.7951143730918584,-1.2783579846644049,-1.6804585370450367,-1.9119437236566688,-1.8659362907461254,-1.4181540373841415],\"type\":\"scatter\",\"xaxis\":\"x4\",\"yaxis\":\"y4\"}],                        {\"template\":{\"data\":{\"barpolar\":[{\"marker\":{\"line\":{\"color\":\"white\",\"width\":0.5},\"pattern\":{\"fillmode\":\"overlay\",\"size\":10,\"solidity\":0.2}},\"type\":\"barpolar\"}],\"bar\":[{\"error_x\":{\"color\":\"rgb(36,36,36)\"},\"error_y\":{\"color\":\"rgb(36,36,36)\"},\"marker\":{\"line\":{\"color\":\"white\",\"width\":0.5},\"pattern\":{\"fillmode\":\"overlay\",\"size\":10,\"solidity\":0.2}},\"type\":\"bar\"}],\"carpet\":[{\"aaxis\":{\"endlinecolor\":\"rgb(36,36,36)\",\"gridcolor\":\"white\",\"linecolor\":\"white\",\"minorgridcolor\":\"white\",\"startlinecolor\":\"rgb(36,36,36)\"},\"baxis\":{\"endlinecolor\":\"rgb(36,36,36)\",\"gridcolor\":\"white\",\"linecolor\":\"white\",\"minorgridcolor\":\"white\",\"startlinecolor\":\"rgb(36,36,36)\"},\"type\":\"carpet\"}],\"choropleth\":[{\"colorbar\":{\"outlinewidth\":1,\"tickcolor\":\"rgb(36,36,36)\",\"ticks\":\"outside\"},\"type\":\"choropleth\"}],\"contourcarpet\":[{\"colorbar\":{\"outlinewidth\":1,\"tickcolor\":\"rgb(36,36,36)\",\"ticks\":\"outside\"},\"type\":\"contourcarpet\"}],\"contour\":[{\"colorbar\":{\"outlinewidth\":1,\"tickcolor\":\"rgb(36,36,36)\",\"ticks\":\"outside\"},\"colorscale\":[[0.0,\"#440154\"],[0.1111111111111111,\"#482878\"],[0.2222222222222222,\"#3e4989\"],[0.3333333333333333,\"#31688e\"],[0.4444444444444444,\"#26828e\"],[0.5555555555555556,\"#1f9e89\"],[0.6666666666666666,\"#35b779\"],[0.7777777777777778,\"#6ece58\"],[0.8888888888888888,\"#b5de2b\"],[1.0,\"#fde725\"]],\"type\":\"contour\"}],\"heatmapgl\":[{\"colorbar\":{\"outlinewidth\":1,\"tickcolor\":\"rgb(36,36,36)\",\"ticks\":\"outside\"},\"colorscale\":[[0.0,\"#440154\"],[0.1111111111111111,\"#482878\"],[0.2222222222222222,\"#3e4989\"],[0.3333333333333333,\"#31688e\"],[0.4444444444444444,\"#26828e\"],[0.5555555555555556,\"#1f9e89\"],[0.6666666666666666,\"#35b779\"],[0.7777777777777778,\"#6ece58\"],[0.8888888888888888,\"#b5de2b\"],[1.0,\"#fde725\"]],\"type\":\"heatmapgl\"}],\"heatmap\":[{\"colorbar\":{\"outlinewidth\":1,\"tickcolor\":\"rgb(36,36,36)\",\"ticks\":\"outside\"},\"colorscale\":[[0.0,\"#440154\"],[0.1111111111111111,\"#482878\"],[0.2222222222222222,\"#3e4989\"],[0.3333333333333333,\"#31688e\"],[0.4444444444444444,\"#26828e\"],[0.5555555555555556,\"#1f9e89\"],[0.6666666666666666,\"#35b779\"],[0.7777777777777778,\"#6ece58\"],[0.8888888888888888,\"#b5de2b\"],[1.0,\"#fde725\"]],\"type\":\"heatmap\"}],\"histogram2dcontour\":[{\"colorbar\":{\"outlinewidth\":1,\"tickcolor\":\"rgb(36,36,36)\",\"ticks\":\"outside\"},\"colorscale\":[[0.0,\"#440154\"],[0.1111111111111111,\"#482878\"],[0.2222222222222222,\"#3e4989\"],[0.3333333333333333,\"#31688e\"],[0.4444444444444444,\"#26828e\"],[0.5555555555555556,\"#1f9e89\"],[0.6666666666666666,\"#35b779\"],[0.7777777777777778,\"#6ece58\"],[0.8888888888888888,\"#b5de2b\"],[1.0,\"#fde725\"]],\"type\":\"histogram2dcontour\"}],\"histogram2d\":[{\"colorbar\":{\"outlinewidth\":1,\"tickcolor\":\"rgb(36,36,36)\",\"ticks\":\"outside\"},\"colorscale\":[[0.0,\"#440154\"],[0.1111111111111111,\"#482878\"],[0.2222222222222222,\"#3e4989\"],[0.3333333333333333,\"#31688e\"],[0.4444444444444444,\"#26828e\"],[0.5555555555555556,\"#1f9e89\"],[0.6666666666666666,\"#35b779\"],[0.7777777777777778,\"#6ece58\"],[0.8888888888888888,\"#b5de2b\"],[1.0,\"#fde725\"]],\"type\":\"histogram2d\"}],\"histogram\":[{\"marker\":{\"line\":{\"color\":\"white\",\"width\":0.6}},\"type\":\"histogram\"}],\"mesh3d\":[{\"colorbar\":{\"outlinewidth\":1,\"tickcolor\":\"rgb(36,36,36)\",\"ticks\":\"outside\"},\"type\":\"mesh3d\"}],\"parcoords\":[{\"line\":{\"colorbar\":{\"outlinewidth\":1,\"tickcolor\":\"rgb(36,36,36)\",\"ticks\":\"outside\"}},\"type\":\"parcoords\"}],\"pie\":[{\"automargin\":true,\"type\":\"pie\"}],\"scatter3d\":[{\"line\":{\"colorbar\":{\"outlinewidth\":1,\"tickcolor\":\"rgb(36,36,36)\",\"ticks\":\"outside\"}},\"marker\":{\"colorbar\":{\"outlinewidth\":1,\"tickcolor\":\"rgb(36,36,36)\",\"ticks\":\"outside\"}},\"type\":\"scatter3d\"}],\"scattercarpet\":[{\"marker\":{\"colorbar\":{\"outlinewidth\":1,\"tickcolor\":\"rgb(36,36,36)\",\"ticks\":\"outside\"}},\"type\":\"scattercarpet\"}],\"scattergeo\":[{\"marker\":{\"colorbar\":{\"outlinewidth\":1,\"tickcolor\":\"rgb(36,36,36)\",\"ticks\":\"outside\"}},\"type\":\"scattergeo\"}],\"scattergl\":[{\"marker\":{\"colorbar\":{\"outlinewidth\":1,\"tickcolor\":\"rgb(36,36,36)\",\"ticks\":\"outside\"}},\"type\":\"scattergl\"}],\"scattermapbox\":[{\"marker\":{\"colorbar\":{\"outlinewidth\":1,\"tickcolor\":\"rgb(36,36,36)\",\"ticks\":\"outside\"}},\"type\":\"scattermapbox\"}],\"scatterpolargl\":[{\"marker\":{\"colorbar\":{\"outlinewidth\":1,\"tickcolor\":\"rgb(36,36,36)\",\"ticks\":\"outside\"}},\"type\":\"scatterpolargl\"}],\"scatterpolar\":[{\"marker\":{\"colorbar\":{\"outlinewidth\":1,\"tickcolor\":\"rgb(36,36,36)\",\"ticks\":\"outside\"}},\"type\":\"scatterpolar\"}],\"scatter\":[{\"marker\":{\"colorbar\":{\"outlinewidth\":1,\"tickcolor\":\"rgb(36,36,36)\",\"ticks\":\"outside\"}},\"type\":\"scatter\"}],\"scatterternary\":[{\"marker\":{\"colorbar\":{\"outlinewidth\":1,\"tickcolor\":\"rgb(36,36,36)\",\"ticks\":\"outside\"}},\"type\":\"scatterternary\"}],\"surface\":[{\"colorbar\":{\"outlinewidth\":1,\"tickcolor\":\"rgb(36,36,36)\",\"ticks\":\"outside\"},\"colorscale\":[[0.0,\"#440154\"],[0.1111111111111111,\"#482878\"],[0.2222222222222222,\"#3e4989\"],[0.3333333333333333,\"#31688e\"],[0.4444444444444444,\"#26828e\"],[0.5555555555555556,\"#1f9e89\"],[0.6666666666666666,\"#35b779\"],[0.7777777777777778,\"#6ece58\"],[0.8888888888888888,\"#b5de2b\"],[1.0,\"#fde725\"]],\"type\":\"surface\"}],\"table\":[{\"cells\":{\"fill\":{\"color\":\"rgb(237,237,237)\"},\"line\":{\"color\":\"white\"}},\"header\":{\"fill\":{\"color\":\"rgb(217,217,217)\"},\"line\":{\"color\":\"white\"}},\"type\":\"table\"}]},\"layout\":{\"annotationdefaults\":{\"arrowhead\":0,\"arrowwidth\":1},\"autotypenumbers\":\"strict\",\"coloraxis\":{\"colorbar\":{\"outlinewidth\":1,\"tickcolor\":\"rgb(36,36,36)\",\"ticks\":\"outside\"}},\"colorscale\":{\"diverging\":[[0.0,\"rgb(103,0,31)\"],[0.1,\"rgb(178,24,43)\"],[0.2,\"rgb(214,96,77)\"],[0.3,\"rgb(244,165,130)\"],[0.4,\"rgb(253,219,199)\"],[0.5,\"rgb(247,247,247)\"],[0.6,\"rgb(209,229,240)\"],[0.7,\"rgb(146,197,222)\"],[0.8,\"rgb(67,147,195)\"],[0.9,\"rgb(33,102,172)\"],[1.0,\"rgb(5,48,97)\"]],\"sequential\":[[0.0,\"#440154\"],[0.1111111111111111,\"#482878\"],[0.2222222222222222,\"#3e4989\"],[0.3333333333333333,\"#31688e\"],[0.4444444444444444,\"#26828e\"],[0.5555555555555556,\"#1f9e89\"],[0.6666666666666666,\"#35b779\"],[0.7777777777777778,\"#6ece58\"],[0.8888888888888888,\"#b5de2b\"],[1.0,\"#fde725\"]],\"sequentialminus\":[[0.0,\"#440154\"],[0.1111111111111111,\"#482878\"],[0.2222222222222222,\"#3e4989\"],[0.3333333333333333,\"#31688e\"],[0.4444444444444444,\"#26828e\"],[0.5555555555555556,\"#1f9e89\"],[0.6666666666666666,\"#35b779\"],[0.7777777777777778,\"#6ece58\"],[0.8888888888888888,\"#b5de2b\"],[1.0,\"#fde725\"]]},\"colorway\":[\"#1F77B4\",\"#FF7F0E\",\"#2CA02C\",\"#D62728\",\"#9467BD\",\"#8C564B\",\"#E377C2\",\"#7F7F7F\",\"#BCBD22\",\"#17BECF\"],\"font\":{\"color\":\"rgb(36,36,36)\"},\"geo\":{\"bgcolor\":\"white\",\"lakecolor\":\"white\",\"landcolor\":\"white\",\"showlakes\":true,\"showland\":true,\"subunitcolor\":\"white\"},\"hoverlabel\":{\"align\":\"left\"},\"hovermode\":\"closest\",\"mapbox\":{\"style\":\"light\"},\"paper_bgcolor\":\"white\",\"plot_bgcolor\":\"white\",\"polar\":{\"angularaxis\":{\"gridcolor\":\"rgb(232,232,232)\",\"linecolor\":\"rgb(36,36,36)\",\"showgrid\":false,\"showline\":true,\"ticks\":\"outside\"},\"bgcolor\":\"white\",\"radialaxis\":{\"gridcolor\":\"rgb(232,232,232)\",\"linecolor\":\"rgb(36,36,36)\",\"showgrid\":false,\"showline\":true,\"ticks\":\"outside\"}},\"scene\":{\"xaxis\":{\"backgroundcolor\":\"white\",\"gridcolor\":\"rgb(232,232,232)\",\"gridwidth\":2,\"linecolor\":\"rgb(36,36,36)\",\"showbackground\":true,\"showgrid\":false,\"showline\":true,\"ticks\":\"outside\",\"zeroline\":false,\"zerolinecolor\":\"rgb(36,36,36)\"},\"yaxis\":{\"backgroundcolor\":\"white\",\"gridcolor\":\"rgb(232,232,232)\",\"gridwidth\":2,\"linecolor\":\"rgb(36,36,36)\",\"showbackground\":true,\"showgrid\":false,\"showline\":true,\"ticks\":\"outside\",\"zeroline\":false,\"zerolinecolor\":\"rgb(36,36,36)\"},\"zaxis\":{\"backgroundcolor\":\"white\",\"gridcolor\":\"rgb(232,232,232)\",\"gridwidth\":2,\"linecolor\":\"rgb(36,36,36)\",\"showbackground\":true,\"showgrid\":false,\"showline\":true,\"ticks\":\"outside\",\"zeroline\":false,\"zerolinecolor\":\"rgb(36,36,36)\"}},\"shapedefaults\":{\"fillcolor\":\"black\",\"line\":{\"width\":0},\"opacity\":0.3},\"ternary\":{\"aaxis\":{\"gridcolor\":\"rgb(232,232,232)\",\"linecolor\":\"rgb(36,36,36)\",\"showgrid\":false,\"showline\":true,\"ticks\":\"outside\"},\"baxis\":{\"gridcolor\":\"rgb(232,232,232)\",\"linecolor\":\"rgb(36,36,36)\",\"showgrid\":false,\"showline\":true,\"ticks\":\"outside\"},\"bgcolor\":\"white\",\"caxis\":{\"gridcolor\":\"rgb(232,232,232)\",\"linecolor\":\"rgb(36,36,36)\",\"showgrid\":false,\"showline\":true,\"ticks\":\"outside\"}},\"title\":{\"x\":0.05},\"xaxis\":{\"automargin\":true,\"gridcolor\":\"rgb(232,232,232)\",\"linecolor\":\"rgb(36,36,36)\",\"showgrid\":false,\"showline\":true,\"ticks\":\"outside\",\"title\":{\"standoff\":15},\"zeroline\":false,\"zerolinecolor\":\"rgb(36,36,36)\"},\"yaxis\":{\"automargin\":true,\"gridcolor\":\"rgb(232,232,232)\",\"linecolor\":\"rgb(36,36,36)\",\"showgrid\":false,\"showline\":true,\"ticks\":\"outside\",\"title\":{\"standoff\":15},\"zeroline\":false,\"zerolinecolor\":\"rgb(36,36,36)\"},\"margin\":{\"b\":0,\"l\":20,\"r\":20,\"t\":40}}},\"xaxis\":{\"anchor\":\"y\",\"domain\":[0.0,0.2125]},\"yaxis\":{\"anchor\":\"x\",\"domain\":[0.0,1.0],\"title\":{\"text\":\"$\\\\widehat{y}$\"}},\"xaxis2\":{\"anchor\":\"y2\",\"domain\":[0.2625,0.475]},\"yaxis2\":{\"anchor\":\"x2\",\"domain\":[0.0,1.0]},\"xaxis3\":{\"anchor\":\"y3\",\"domain\":[0.525,0.7375]},\"yaxis3\":{\"anchor\":\"x3\",\"domain\":[0.0,1.0]},\"xaxis4\":{\"anchor\":\"y4\",\"domain\":[0.7875,1.0]},\"yaxis4\":{\"anchor\":\"x4\",\"domain\":[0.0,1.0]},\"annotations\":[{\"font\":{\"size\":16},\"showarrow\":false,\"text\":\"$k=2, MSE=0.42$\",\"x\":0.10625,\"xanchor\":\"center\",\"xref\":\"paper\",\"y\":1.0,\"yanchor\":\"bottom\",\"yref\":\"paper\"},{\"font\":{\"size\":16},\"showarrow\":false,\"text\":\"$k=3, MSE=0.28$\",\"x\":0.36875,\"xanchor\":\"center\",\"xref\":\"paper\",\"y\":1.0,\"yanchor\":\"bottom\",\"yref\":\"paper\"},{\"font\":{\"size\":16},\"showarrow\":false,\"text\":\"$k=4, MSE=0.0$\",\"x\":0.6312500000000001,\"xanchor\":\"center\",\"xref\":\"paper\",\"y\":1.0,\"yanchor\":\"bottom\",\"yref\":\"paper\"},{\"font\":{\"size\":16},\"showarrow\":false,\"text\":\"$k=5, MSE=0.0$\",\"x\":0.89375,\"xanchor\":\"center\",\"xref\":\"paper\",\"y\":1.0,\"yanchor\":\"bottom\",\"yref\":\"paper\"}],\"margin\":{\"t\":60},\"title\":{\"text\":\"$\\\\text{(2) Simulated Data - Fitting Polynomials of Different Degrees}$\"},\"height\":300},                        {\"responsive\": true}                    ).then(function(){\n                            \nvar gd = document.getElementById('15126923-c8e7-4fd9-a990-94e24f793ae9');\nvar x = new MutationObserver(function (mutations, observer) {{\n        var display = window.getComputedStyle(gd).display;\n        if (!display || display === 'none') {{\n            console.log([gd, 'removed!']);\n            Plotly.purge(gd);\n            observer.disconnect();\n        }}\n}});\n\n// Listen for the removal of the full notebook cells\nvar notebookContainer = gd.closest('#notebook-container');\nif (notebookContainer) {{\n    x.observe(notebookContainer, {childList: true});\n}}\n\n// Listen for the clearing of the current output cell\nvar outputEl = gd.closest('.output');\nif (outputEl) {{\n    x.observe(outputEl, {childList: true});\n}}\n\n                        })                };                });            </script>        </div>"
     },
     "metadata": {},
     "output_type": "display_data"
    }
   ],
   "source": [
    "from sklearn.linear_model import LinearRegression\n",
    "from sklearn.pipeline import make_pipeline\n",
    "\n",
    "ks = [2, 3, 4, 5]\n",
    "fig = make_subplots(1, 4, subplot_titles=list(ks))\n",
    "for i, k in enumerate(ks):\n",
    "    y_hat = make_pipeline(PolynomialFeatures(k), LinearRegression(fit_intercept=False)).fit(X, y_).predict(X)\n",
    "    \n",
    "    fig.add_traces([go.Scatter(x=x, y=y_, mode=\"markers\", name=\"Real Points\",  marker=dict(color=\"black\", opacity=.7), showlegend=False),\n",
    "                    go.Scatter(x=x, y=y_hat, mode=\"markers\", name=\"Predicted Points\",  marker=dict(color=\"blue\", opacity=.7), showlegend=False)], rows=1, cols=i+1)\n",
    "    fig[\"layout\"][\"annotations\"][i][\"text\"] = rf\"$k={{0}}, MSE={{1}}$\".format(k, round(np.mean((y_-y_hat)**2), 2))\n",
    "\n",
    "fig.update_layout(title=r\"$\\text{(2) Simulated Data - Fitting Polynomials of Different Degrees}$\",\n",
    "                  margin=dict(t=60),\n",
    "                  yaxis_title=r\"$\\widehat{y}$\",\n",
    "                  height=300).show()"
   ]
  },
  {
   "cell_type": "markdown",
   "metadata": {
    "pycharm": {
     "name": "#%% md\n"
    }
   },
   "source": [
    "Once we find the right $k$ (which in our case is 4) we managed to fit a perfect model, after which, as we increase $k$, \n",
    "the additional coefficients will be zero."
   ]
  },
  {
   "cell_type": "code",
   "execution_count": 12,
   "metadata": {
    "pycharm": {
     "name": "#%%\n"
    }
   },
   "outputs": [
    {
     "data": {
      "text/plain": "         $w_{0}$  $w_{1}$  $w_{2}$  $w_{3}$  $w_{4}$  $w_{5}$\n$k={2}$    0.971   -2.142    0.403      NaN      NaN      NaN\n$k={3}$    0.672   -1.454    1.010   -0.564      NaN      NaN\n$k={4}$    1.000   -0.000   -0.500   -2.000      1.0      NaN\n$k={5}$    1.000   -0.000   -0.500   -2.000      1.0      0.0",
      "text/html": "<div>\n<style scoped>\n    .dataframe tbody tr th:only-of-type {\n        vertical-align: middle;\n    }\n\n    .dataframe tbody tr th {\n        vertical-align: top;\n    }\n\n    .dataframe thead th {\n        text-align: right;\n    }\n</style>\n<table border=\"1\" class=\"dataframe\">\n  <thead>\n    <tr style=\"text-align: right;\">\n      <th></th>\n      <th>$w_{0}$</th>\n      <th>$w_{1}$</th>\n      <th>$w_{2}$</th>\n      <th>$w_{3}$</th>\n      <th>$w_{4}$</th>\n      <th>$w_{5}$</th>\n    </tr>\n  </thead>\n  <tbody>\n    <tr>\n      <th>$k={2}$</th>\n      <td>0.971</td>\n      <td>-2.142</td>\n      <td>0.403</td>\n      <td>NaN</td>\n      <td>NaN</td>\n      <td>NaN</td>\n    </tr>\n    <tr>\n      <th>$k={3}$</th>\n      <td>0.672</td>\n      <td>-1.454</td>\n      <td>1.010</td>\n      <td>-0.564</td>\n      <td>NaN</td>\n      <td>NaN</td>\n    </tr>\n    <tr>\n      <th>$k={4}$</th>\n      <td>1.000</td>\n      <td>-0.000</td>\n      <td>-0.500</td>\n      <td>-2.000</td>\n      <td>1.0</td>\n      <td>NaN</td>\n    </tr>\n    <tr>\n      <th>$k={5}$</th>\n      <td>1.000</td>\n      <td>-0.000</td>\n      <td>-0.500</td>\n      <td>-2.000</td>\n      <td>1.0</td>\n      <td>0.0</td>\n    </tr>\n  </tbody>\n</table>\n</div>"
     },
     "execution_count": 12,
     "metadata": {},
     "output_type": "execute_result"
    }
   ],
   "source": [
    "coefs = {}\n",
    "for k in ks:\n",
    "    fit = make_pipeline(PolynomialFeatures(k), LinearRegression(fit_intercept=False)).fit(X, y_)\n",
    "    coefs[rf\"$k={{{k}}}$\"] = [round(c,3) for c in fit.steps[1][1].coef_]\n",
    "pd.DataFrame.from_dict(coefs, orient='index', columns=[rf\"$w_{{{i}}}$\" for i in range(max(ks)+1)])\n",
    "\n",
    "\n",
    "\n"
   ]
  },
  {
   "cell_type": "markdown",
   "metadata": {
    "pycharm": {
     "name": "#%% md\n"
    }
   },
   "source": [
    "## Fitting Polynomial Of Different Degrees - With Sample Noise\n",
    "\n",
    "Still fitting for different values of $k$, let us add some standard Gaussian noise (i.e. $\\mathcal{N}\\left(0,1\\right)$).\n",
    "This time we observe two things:\n",
    "- Even for the correct $k=4$ model we are not able to achieve zero MSE.\n",
    "- As we increase $4<k\\rightarrow 7$ we manage to decrease the error more and more."
   ]
  },
  {
   "cell_type": "code",
   "execution_count": 6,
   "metadata": {
    "pycharm": {
     "is_executing": false,
     "name": "#%%\n"
    }
   },
   "outputs": [
    {
     "data": {
      "application/vnd.plotly.v1+json": {
       "config": {
        "plotlyServerURL": "https://plot.ly"
       },
       "data": [
        {
         "marker": {
          "color": "black",
          "opacity": 0.7
         },
         "mode": "markers",
         "name": "Real Points",
         "showlegend": false,
         "type": "scatter",
         "x": [
          -1.2,
          -1.0358974358974358,
          -0.8717948717948718,
          -0.7076923076923076,
          -0.5435897435897435,
          -0.37948717948717947,
          -0.21538461538461529,
          -0.05128205128205132,
          0.11282051282051286,
          0.27692307692307705,
          0.441025641025641,
          0.6051282051282052,
          0.7692307692307694,
          0.9333333333333333,
          1.0974358974358973,
          1.2615384615384617,
          1.4256410256410257,
          1.5897435897435896,
          1.753846153846154,
          1.917948717948718
         ],
         "xaxis": "x",
         "y": [
          5.8096,
          3.8381753317244733,
          2.522800884051074,
          1.7092797030916282,
          1.2608197821340592,
          1.058034061642376,
          0.9989404292566787,
          0.9989617197931566,
          0.9909257152440888,
          0.9250651447778439,
          0.7690176847388803,
          0.5078259586477458,
          0.14393753720107805,
          -0.3027950617283952,
          -0.7951143730918573,
          -1.278357984664403,
          -1.6804585370450331,
          -1.911943723656666,
          -1.8659362907461214,
          -1.418154037384138
         ],
         "yaxis": "y"
        },
        {
         "marker": {
          "color": "red",
          "opacity": 0.7
         },
         "mode": "markers",
         "name": "Observed Points",
         "showlegend": false,
         "type": "scatter",
         "x": [
          -1.2,
          -1.0358974358974358,
          -0.8717948717948718,
          -0.7076923076923076,
          -0.5435897435897435,
          -0.37948717948717947,
          -0.21538461538461529,
          -0.05128205128205132,
          0.11282051282051286,
          0.27692307692307705,
          0.441025641025641,
          0.6051282051282052,
          0.7692307692307694,
          0.9333333333333333,
          1.0974358974358973,
          1.2615384615384617,
          1.4256410256410257,
          1.5897435897435896,
          1.753846153846154,
          1.917948717948718
         ],
         "xaxis": "x",
         "y": [
          6.735566152461027,
          4.122754037714723,
          2.7419755809407835,
          3.93924825954048,
          1.1570379456696693,
          0.6709271786940312,
          0.3038149021085126,
          0.9723976085183392,
          0.2446992669722996,
          1.7063474441990456,
          0.6918013180535798,
          1.0847090695714272,
          0.3318738878550176,
          -1.1246187753063386,
          -2.2402765475289144,
          1.3872119309233377,
          -1.0910462634446354,
          -1.7030778643758098,
          -4.203940624477999,
          -1.7689613970926115
         ],
         "yaxis": "y"
        },
        {
         "marker": {
          "color": "blue",
          "opacity": 0.7
         },
         "mode": "markers",
         "name": "Predicted Points",
         "showlegend": false,
         "type": "scatter",
         "x": [
          -1.2,
          -1.0358974358974358,
          -0.8717948717948718,
          -0.7076923076923076,
          -0.5435897435897435,
          -0.37948717948717947,
          -0.21538461538461529,
          -0.05128205128205132,
          0.11282051282051286,
          0.27692307692307705,
          0.441025641025641,
          0.6051282051282052,
          0.7692307692307694,
          0.9333333333333333,
          1.0974358974358973,
          1.2615384615384617,
          1.4256410256410257,
          1.5897435897435896,
          1.753846153846154,
          1.917948717948718
         ],
         "xaxis": "x",
         "y": [
          4.72117687567039,
          4.1583062932851425,
          3.618664058488304,
          3.1022501712798727,
          2.60906463165985,
          2.139107439628235,
          1.6923785951850274,
          1.2688780983302286,
          0.8686059490638371,
          0.4915621473858535,
          0.13774669329627848,
          -0.19284041320488926,
          -0.5001991721176491,
          -0.7843295834420003,
          -1.045231647177944,
          -1.2829053633254803,
          -1.4973507318846078,
          -1.6885677528553273,
          -1.85655642623764,
          -2.001316752031544
         ],
         "yaxis": "y"
        },
        {
         "marker": {
          "color": "black",
          "opacity": 0.7
         },
         "mode": "markers",
         "name": "Real Points",
         "showlegend": false,
         "type": "scatter",
         "x": [
          -1.2,
          -1.0358974358974358,
          -0.8717948717948718,
          -0.7076923076923076,
          -0.5435897435897435,
          -0.37948717948717947,
          -0.21538461538461529,
          -0.05128205128205132,
          0.11282051282051286,
          0.27692307692307705,
          0.441025641025641,
          0.6051282051282052,
          0.7692307692307694,
          0.9333333333333333,
          1.0974358974358973,
          1.2615384615384617,
          1.4256410256410257,
          1.5897435897435896,
          1.753846153846154,
          1.917948717948718
         ],
         "xaxis": "x2",
         "y": [
          5.8096,
          3.8381753317244733,
          2.522800884051074,
          1.7092797030916282,
          1.2608197821340592,
          1.058034061642376,
          0.9989404292566787,
          0.9989617197931566,
          0.9909257152440888,
          0.9250651447778439,
          0.7690176847388803,
          0.5078259586477458,
          0.14393753720107805,
          -0.3027950617283952,
          -0.7951143730918573,
          -1.278357984664403,
          -1.6804585370450331,
          -1.911943723656666,
          -1.8659362907461214,
          -1.418154037384138
         ],
         "yaxis": "y2"
        },
        {
         "marker": {
          "color": "red",
          "opacity": 0.7
         },
         "mode": "markers",
         "name": "Observed Points",
         "showlegend": false,
         "type": "scatter",
         "x": [
          -1.2,
          -1.0358974358974358,
          -0.8717948717948718,
          -0.7076923076923076,
          -0.5435897435897435,
          -0.37948717948717947,
          -0.21538461538461529,
          -0.05128205128205132,
          0.11282051282051286,
          0.27692307692307705,
          0.441025641025641,
          0.6051282051282052,
          0.7692307692307694,
          0.9333333333333333,
          1.0974358974358973,
          1.2615384615384617,
          1.4256410256410257,
          1.5897435897435896,
          1.753846153846154,
          1.917948717948718
         ],
         "xaxis": "x2",
         "y": [
          6.735566152461027,
          4.122754037714723,
          2.7419755809407835,
          3.93924825954048,
          1.1570379456696693,
          0.6709271786940312,
          0.3038149021085126,
          0.9723976085183392,
          0.2446992669722996,
          1.7063474441990456,
          0.6918013180535798,
          1.0847090695714272,
          0.3318738878550176,
          -1.1246187753063386,
          -2.2402765475289144,
          1.3872119309233377,
          -1.0910462634446354,
          -1.7030778643758098,
          -4.203940624477999,
          -1.7689613970926115
         ],
         "yaxis": "y2"
        },
        {
         "marker": {
          "color": "blue",
          "opacity": 0.7
         },
         "mode": "markers",
         "name": "Predicted Points",
         "showlegend": false,
         "type": "scatter",
         "x": [
          -1.2,
          -1.0358974358974358,
          -0.8717948717948718,
          -0.7076923076923076,
          -0.5435897435897435,
          -0.37948717948717947,
          -0.21538461538461529,
          -0.05128205128205132,
          0.11282051282051286,
          0.27692307692307705,
          0.441025641025641,
          0.6051282051282052,
          0.7692307692307694,
          0.9333333333333333,
          1.0974358974358973,
          1.2615384615384617,
          1.4256410256410257,
          1.5897435897435896,
          1.753846153846154,
          1.917948717948718
         ],
         "xaxis": "x2",
         "y": [
          5.9876778352176085,
          4.624911909960435,
          3.507567483089429,
          2.609504183922497,
          1.9045816417775523,
          1.3666594859725056,
          0.969597345825267,
          0.6872548506537485,
          0.4934916297758602,
          0.3621673125095136,
          0.26714152817261955,
          0.1822739060830887,
          0.08142407555883235,
          -0.06154833408223859,
          -0.2727836935222131,
          -0.5784223734431816,
          -1.0046047445272301,
          -1.57747117745645,
          -2.3231620429129323,
          -3.2678177115787603
         ],
         "yaxis": "y2"
        },
        {
         "marker": {
          "color": "black",
          "opacity": 0.7
         },
         "mode": "markers",
         "name": "Real Points",
         "showlegend": false,
         "type": "scatter",
         "x": [
          -1.2,
          -1.0358974358974358,
          -0.8717948717948718,
          -0.7076923076923076,
          -0.5435897435897435,
          -0.37948717948717947,
          -0.21538461538461529,
          -0.05128205128205132,
          0.11282051282051286,
          0.27692307692307705,
          0.441025641025641,
          0.6051282051282052,
          0.7692307692307694,
          0.9333333333333333,
          1.0974358974358973,
          1.2615384615384617,
          1.4256410256410257,
          1.5897435897435896,
          1.753846153846154,
          1.917948717948718
         ],
         "xaxis": "x3",
         "y": [
          5.8096,
          3.8381753317244733,
          2.522800884051074,
          1.7092797030916282,
          1.2608197821340592,
          1.058034061642376,
          0.9989404292566787,
          0.9989617197931566,
          0.9909257152440888,
          0.9250651447778439,
          0.7690176847388803,
          0.5078259586477458,
          0.14393753720107805,
          -0.3027950617283952,
          -0.7951143730918573,
          -1.278357984664403,
          -1.6804585370450331,
          -1.911943723656666,
          -1.8659362907461214,
          -1.418154037384138
         ],
         "yaxis": "y3"
        },
        {
         "marker": {
          "color": "red",
          "opacity": 0.7
         },
         "mode": "markers",
         "name": "Observed Points",
         "showlegend": false,
         "type": "scatter",
         "x": [
          -1.2,
          -1.0358974358974358,
          -0.8717948717948718,
          -0.7076923076923076,
          -0.5435897435897435,
          -0.37948717948717947,
          -0.21538461538461529,
          -0.05128205128205132,
          0.11282051282051286,
          0.27692307692307705,
          0.441025641025641,
          0.6051282051282052,
          0.7692307692307694,
          0.9333333333333333,
          1.0974358974358973,
          1.2615384615384617,
          1.4256410256410257,
          1.5897435897435896,
          1.753846153846154,
          1.917948717948718
         ],
         "xaxis": "x3",
         "y": [
          6.735566152461027,
          4.122754037714723,
          2.7419755809407835,
          3.93924825954048,
          1.1570379456696693,
          0.6709271786940312,
          0.3038149021085126,
          0.9723976085183392,
          0.2446992669722996,
          1.7063474441990456,
          0.6918013180535798,
          1.0847090695714272,
          0.3318738878550176,
          -1.1246187753063386,
          -2.2402765475289144,
          1.3872119309233377,
          -1.0910462634446354,
          -1.7030778643758098,
          -4.203940624477999,
          -1.7689613970926115
         ],
         "yaxis": "y3"
        },
        {
         "marker": {
          "color": "blue",
          "opacity": 0.7
         },
         "mode": "markers",
         "name": "Predicted Points",
         "showlegend": false,
         "type": "scatter",
         "x": [
          -1.2,
          -1.0358974358974358,
          -0.8717948717948718,
          -0.7076923076923076,
          -0.5435897435897435,
          -0.37948717948717947,
          -0.21538461538461529,
          -0.05128205128205132,
          0.11282051282051286,
          0.27692307692307705,
          0.441025641025641,
          0.6051282051282052,
          0.7692307692307694,
          0.9333333333333333,
          1.0974358974358973,
          1.2615384615384617,
          1.4256410256410257,
          1.5897435897435896,
          1.753846153846154,
          1.917948717948718
         ],
         "xaxis": "x3",
         "y": [
          6.6111719614988225,
          4.592096429629847,
          3.14659719945294,
          2.158452189574584,
          1.5226995324401968,
          1.1456375743341205,
          0.9448248753796264,
          0.8490802095389138,
          0.7984825646131096,
          0.744371142242269,
          0.6493453579053747,
          0.487264840920338,
          0.2432494344439975,
          -0.0863208045278796,
          -0.4938056051605981,
          -0.9603044827805376,
          -1.4556567388751436,
          -1.9384414610929408,
          -2.35597752324352,
          -2.6443235852975473
         ],
         "yaxis": "y3"
        },
        {
         "marker": {
          "color": "black",
          "opacity": 0.7
         },
         "mode": "markers",
         "name": "Real Points",
         "showlegend": false,
         "type": "scatter",
         "x": [
          -1.2,
          -1.0358974358974358,
          -0.8717948717948718,
          -0.7076923076923076,
          -0.5435897435897435,
          -0.37948717948717947,
          -0.21538461538461529,
          -0.05128205128205132,
          0.11282051282051286,
          0.27692307692307705,
          0.441025641025641,
          0.6051282051282052,
          0.7692307692307694,
          0.9333333333333333,
          1.0974358974358973,
          1.2615384615384617,
          1.4256410256410257,
          1.5897435897435896,
          1.753846153846154,
          1.917948717948718
         ],
         "xaxis": "x4",
         "y": [
          5.8096,
          3.8381753317244733,
          2.522800884051074,
          1.7092797030916282,
          1.2608197821340592,
          1.058034061642376,
          0.9989404292566787,
          0.9989617197931566,
          0.9909257152440888,
          0.9250651447778439,
          0.7690176847388803,
          0.5078259586477458,
          0.14393753720107805,
          -0.3027950617283952,
          -0.7951143730918573,
          -1.278357984664403,
          -1.6804585370450331,
          -1.911943723656666,
          -1.8659362907461214,
          -1.418154037384138
         ],
         "yaxis": "y4"
        },
        {
         "marker": {
          "color": "red",
          "opacity": 0.7
         },
         "mode": "markers",
         "name": "Observed Points",
         "showlegend": false,
         "type": "scatter",
         "x": [
          -1.2,
          -1.0358974358974358,
          -0.8717948717948718,
          -0.7076923076923076,
          -0.5435897435897435,
          -0.37948717948717947,
          -0.21538461538461529,
          -0.05128205128205132,
          0.11282051282051286,
          0.27692307692307705,
          0.441025641025641,
          0.6051282051282052,
          0.7692307692307694,
          0.9333333333333333,
          1.0974358974358973,
          1.2615384615384617,
          1.4256410256410257,
          1.5897435897435896,
          1.753846153846154,
          1.917948717948718
         ],
         "xaxis": "x4",
         "y": [
          6.735566152461027,
          4.122754037714723,
          2.7419755809407835,
          3.93924825954048,
          1.1570379456696693,
          0.6709271786940312,
          0.3038149021085126,
          0.9723976085183392,
          0.2446992669722996,
          1.7063474441990456,
          0.6918013180535798,
          1.0847090695714272,
          0.3318738878550176,
          -1.1246187753063386,
          -2.2402765475289144,
          1.3872119309233377,
          -1.0910462634446354,
          -1.7030778643758098,
          -4.203940624477999,
          -1.7689613970926115
         ],
         "yaxis": "y4"
        },
        {
         "marker": {
          "color": "blue",
          "opacity": 0.7
         },
         "mode": "markers",
         "name": "Predicted Points",
         "showlegend": false,
         "type": "scatter",
         "x": [
          -1.2,
          -1.0358974358974358,
          -0.8717948717948718,
          -0.7076923076923076,
          -0.5435897435897435,
          -0.37948717948717947,
          -0.21538461538461529,
          -0.05128205128205132,
          0.11282051282051286,
          0.27692307692307705,
          0.441025641025641,
          0.6051282051282052,
          0.7692307692307694,
          0.9333333333333333,
          1.0974358974358973,
          1.2615384615384617,
          1.4256410256410257,
          1.5897435897435896,
          1.753846153846154,
          1.917948717948718
         ],
         "xaxis": "x4",
         "y": [
          6.463377903777509,
          4.677661410415862,
          3.284019744351695,
          2.2516432827301216,
          1.5369603625711985,
          1.0868402479651167,
          0.8417960972674041,
          0.7391879302941232,
          0.7164255955170683,
          0.7141717372589661,
          0.6795447628886735,
          0.5693218100163752,
          0.3531417136887838,
          0.016707973584338065,
          -0.435008278791599,
          -0.9745653129115446,
          -1.5488478320306855,
          -2.0758640059916997,
          -2.441542504029538,
          -2.496529527576241
         ],
         "yaxis": "y4"
        },
        {
         "marker": {
          "color": "black",
          "opacity": 0.7
         },
         "mode": "markers",
         "name": "Real Points",
         "showlegend": false,
         "type": "scatter",
         "x": [
          -1.2,
          -1.0358974358974358,
          -0.8717948717948718,
          -0.7076923076923076,
          -0.5435897435897435,
          -0.37948717948717947,
          -0.21538461538461529,
          -0.05128205128205132,
          0.11282051282051286,
          0.27692307692307705,
          0.441025641025641,
          0.6051282051282052,
          0.7692307692307694,
          0.9333333333333333,
          1.0974358974358973,
          1.2615384615384617,
          1.4256410256410257,
          1.5897435897435896,
          1.753846153846154,
          1.917948717948718
         ],
         "xaxis": "x5",
         "y": [
          5.8096,
          3.8381753317244733,
          2.522800884051074,
          1.7092797030916282,
          1.2608197821340592,
          1.058034061642376,
          0.9989404292566787,
          0.9989617197931566,
          0.9909257152440888,
          0.9250651447778439,
          0.7690176847388803,
          0.5078259586477458,
          0.14393753720107805,
          -0.3027950617283952,
          -0.7951143730918573,
          -1.278357984664403,
          -1.6804585370450331,
          -1.911943723656666,
          -1.8659362907461214,
          -1.418154037384138
         ],
         "yaxis": "y5"
        },
        {
         "marker": {
          "color": "red",
          "opacity": 0.7
         },
         "mode": "markers",
         "name": "Observed Points",
         "showlegend": false,
         "type": "scatter",
         "x": [
          -1.2,
          -1.0358974358974358,
          -0.8717948717948718,
          -0.7076923076923076,
          -0.5435897435897435,
          -0.37948717948717947,
          -0.21538461538461529,
          -0.05128205128205132,
          0.11282051282051286,
          0.27692307692307705,
          0.441025641025641,
          0.6051282051282052,
          0.7692307692307694,
          0.9333333333333333,
          1.0974358974358973,
          1.2615384615384617,
          1.4256410256410257,
          1.5897435897435896,
          1.753846153846154,
          1.917948717948718
         ],
         "xaxis": "x5",
         "y": [
          6.735566152461027,
          4.122754037714723,
          2.7419755809407835,
          3.93924825954048,
          1.1570379456696693,
          0.6709271786940312,
          0.3038149021085126,
          0.9723976085183392,
          0.2446992669722996,
          1.7063474441990456,
          0.6918013180535798,
          1.0847090695714272,
          0.3318738878550176,
          -1.1246187753063386,
          -2.2402765475289144,
          1.3872119309233377,
          -1.0910462634446354,
          -1.7030778643758098,
          -4.203940624477999,
          -1.7689613970926115
         ],
         "yaxis": "y5"
        },
        {
         "marker": {
          "color": "blue",
          "opacity": 0.7
         },
         "mode": "markers",
         "name": "Predicted Points",
         "showlegend": false,
         "type": "scatter",
         "x": [
          -1.2,
          -1.0358974358974358,
          -0.8717948717948718,
          -0.7076923076923076,
          -0.5435897435897435,
          -0.37948717948717947,
          -0.21538461538461529,
          -0.05128205128205132,
          0.11282051282051286,
          0.27692307692307705,
          0.441025641025641,
          0.6051282051282052,
          0.7692307692307694,
          0.9333333333333333,
          1.0974358974358973,
          1.2615384615384617,
          1.4256410256410257,
          1.5897435897435896,
          1.753846153846154,
          1.917948717948718
         ],
         "xaxis": "x5",
         "y": [
          6.557588546201052,
          4.563616948534726,
          3.193114738504413,
          2.2519349565456737,
          1.6097329795516147,
          1.1807106042705173,
          0.9075685426745547,
          0.7486673292995889,
          0.6683966405560456,
          0.6307530260108738,
          0.5961260516405806,
          0.5212928550553518,
          0.3626211126942478,
          0.08248041899148517,
          -0.3411379224862058,
          -0.9017926959311444,
          -1.548556158215166,
          -2.1667690118390412,
          -2.5555869659107797,
          -2.402318885152873
         ],
         "yaxis": "y5"
        },
        {
         "marker": {
          "color": "black",
          "opacity": 0.7
         },
         "mode": "markers",
         "name": "Real Points",
         "showlegend": false,
         "type": "scatter",
         "x": [
          -1.2,
          -1.0358974358974358,
          -0.8717948717948718,
          -0.7076923076923076,
          -0.5435897435897435,
          -0.37948717948717947,
          -0.21538461538461529,
          -0.05128205128205132,
          0.11282051282051286,
          0.27692307692307705,
          0.441025641025641,
          0.6051282051282052,
          0.7692307692307694,
          0.9333333333333333,
          1.0974358974358973,
          1.2615384615384617,
          1.4256410256410257,
          1.5897435897435896,
          1.753846153846154,
          1.917948717948718
         ],
         "xaxis": "x6",
         "y": [
          5.8096,
          3.8381753317244733,
          2.522800884051074,
          1.7092797030916282,
          1.2608197821340592,
          1.058034061642376,
          0.9989404292566787,
          0.9989617197931566,
          0.9909257152440888,
          0.9250651447778439,
          0.7690176847388803,
          0.5078259586477458,
          0.14393753720107805,
          -0.3027950617283952,
          -0.7951143730918573,
          -1.278357984664403,
          -1.6804585370450331,
          -1.911943723656666,
          -1.8659362907461214,
          -1.418154037384138
         ],
         "yaxis": "y6"
        },
        {
         "marker": {
          "color": "red",
          "opacity": 0.7
         },
         "mode": "markers",
         "name": "Observed Points",
         "showlegend": false,
         "type": "scatter",
         "x": [
          -1.2,
          -1.0358974358974358,
          -0.8717948717948718,
          -0.7076923076923076,
          -0.5435897435897435,
          -0.37948717948717947,
          -0.21538461538461529,
          -0.05128205128205132,
          0.11282051282051286,
          0.27692307692307705,
          0.441025641025641,
          0.6051282051282052,
          0.7692307692307694,
          0.9333333333333333,
          1.0974358974358973,
          1.2615384615384617,
          1.4256410256410257,
          1.5897435897435896,
          1.753846153846154,
          1.917948717948718
         ],
         "xaxis": "x6",
         "y": [
          6.735566152461027,
          4.122754037714723,
          2.7419755809407835,
          3.93924825954048,
          1.1570379456696693,
          0.6709271786940312,
          0.3038149021085126,
          0.9723976085183392,
          0.2446992669722996,
          1.7063474441990456,
          0.6918013180535798,
          1.0847090695714272,
          0.3318738878550176,
          -1.1246187753063386,
          -2.2402765475289144,
          1.3872119309233377,
          -1.0910462634446354,
          -1.7030778643758098,
          -4.203940624477999,
          -1.7689613970926115
         ],
         "yaxis": "y6"
        },
        {
         "marker": {
          "color": "blue",
          "opacity": 0.7
         },
         "mode": "markers",
         "name": "Predicted Points",
         "showlegend": false,
         "type": "scatter",
         "x": [
          -1.2,
          -1.0358974358974358,
          -0.8717948717948718,
          -0.7076923076923076,
          -0.5435897435897435,
          -0.37948717948717947,
          -0.21538461538461529,
          -0.05128205128205132,
          0.11282051282051286,
          0.27692307692307705,
          0.441025641025641,
          0.6051282051282052,
          0.7692307692307694,
          0.9333333333333333,
          1.0974358974358973,
          1.2615384615384617,
          1.4256410256410257,
          1.5897435897435896,
          1.753846153846154,
          1.917948717948718
         ],
         "xaxis": "x6",
         "y": [
          6.391444092744906,
          4.887161410528268,
          3.2718147427731115,
          2.0713878879292444,
          1.3805770847692267,
          1.081178245930696,
          0.9901263902897662,
          0.9485036146485496,
          0.862831945219899,
          0.7099674093924464,
          0.5169116682590181,
          0.326857550391509,
          0.1627848273452992,
          -7.742862371218351E-5,
          -0.2416055641463668,
          -0.6726368011487311,
          -1.368009089598699,
          -2.2454690161076893,
          -2.879131427904241,
          -2.2361744316965897
         ],
         "yaxis": "y6"
        }
       ],
       "layout": {
        "annotations": [
         {
          "font": {
           "size": 16
          },
          "showarrow": false,
          "text": "$k=2, MSE=1.54$",
          "x": 0.14444444444444446,
          "xanchor": "center",
          "xref": "paper",
          "y": 1,
          "yanchor": "bottom",
          "yref": "paper"
         },
         {
          "font": {
           "size": 16
          },
          "showarrow": false,
          "text": "$k=3, MSE=1.12$",
          "x": 0.5,
          "xanchor": "center",
          "xref": "paper",
          "y": 1,
          "yanchor": "bottom",
          "yref": "paper"
         },
         {
          "font": {
           "size": 16
          },
          "showarrow": false,
          "text": "$k=4, MSE=1.0$",
          "x": 0.8555555555555556,
          "xanchor": "center",
          "xref": "paper",
          "y": 1,
          "yanchor": "bottom",
          "yref": "paper"
         },
         {
          "font": {
           "size": 16
          },
          "showarrow": false,
          "text": "$k=5, MSE=0.99$",
          "x": 0.14444444444444446,
          "xanchor": "center",
          "xref": "paper",
          "y": 0.375,
          "yanchor": "bottom",
          "yref": "paper"
         },
         {
          "font": {
           "size": 16
          },
          "showarrow": false,
          "text": "$k=6, MSE=0.98$",
          "x": 0.5,
          "xanchor": "center",
          "xref": "paper",
          "y": 0.375,
          "yanchor": "bottom",
          "yref": "paper"
         },
         {
          "font": {
           "size": 16
          },
          "showarrow": false,
          "text": "$k=7, MSE=0.95$",
          "x": 0.8555555555555556,
          "xanchor": "center",
          "xref": "paper",
          "y": 0.375,
          "yanchor": "bottom",
          "yref": "paper"
         }
        ],
        "margin": {
         "t": 80
        },
        "template": {
         "data": {
          "bar": [
           {
            "error_x": {
             "color": "rgb(36,36,36)"
            },
            "error_y": {
             "color": "rgb(36,36,36)"
            },
            "marker": {
             "line": {
              "color": "white",
              "width": 0.5
             }
            },
            "type": "bar"
           }
          ],
          "barpolar": [
           {
            "marker": {
             "line": {
              "color": "white",
              "width": 0.5
             }
            },
            "type": "barpolar"
           }
          ],
          "carpet": [
           {
            "aaxis": {
             "endlinecolor": "rgb(36,36,36)",
             "gridcolor": "white",
             "linecolor": "white",
             "minorgridcolor": "white",
             "startlinecolor": "rgb(36,36,36)"
            },
            "baxis": {
             "endlinecolor": "rgb(36,36,36)",
             "gridcolor": "white",
             "linecolor": "white",
             "minorgridcolor": "white",
             "startlinecolor": "rgb(36,36,36)"
            },
            "type": "carpet"
           }
          ],
          "choropleth": [
           {
            "colorbar": {
             "outlinewidth": 1,
             "tickcolor": "rgb(36,36,36)",
             "ticks": "outside"
            },
            "type": "choropleth"
           }
          ],
          "contour": [
           {
            "colorbar": {
             "outlinewidth": 1,
             "tickcolor": "rgb(36,36,36)",
             "ticks": "outside"
            },
            "colorscale": [
             [
              0,
              "#440154"
             ],
             [
              0.1111111111111111,
              "#482878"
             ],
             [
              0.2222222222222222,
              "#3e4989"
             ],
             [
              0.3333333333333333,
              "#31688e"
             ],
             [
              0.4444444444444444,
              "#26828e"
             ],
             [
              0.5555555555555556,
              "#1f9e89"
             ],
             [
              0.6666666666666666,
              "#35b779"
             ],
             [
              0.7777777777777778,
              "#6ece58"
             ],
             [
              0.8888888888888888,
              "#b5de2b"
             ],
             [
              1,
              "#fde725"
             ]
            ],
            "type": "contour"
           }
          ],
          "contourcarpet": [
           {
            "colorbar": {
             "outlinewidth": 1,
             "tickcolor": "rgb(36,36,36)",
             "ticks": "outside"
            },
            "type": "contourcarpet"
           }
          ],
          "heatmap": [
           {
            "colorbar": {
             "outlinewidth": 1,
             "tickcolor": "rgb(36,36,36)",
             "ticks": "outside"
            },
            "colorscale": [
             [
              0,
              "#440154"
             ],
             [
              0.1111111111111111,
              "#482878"
             ],
             [
              0.2222222222222222,
              "#3e4989"
             ],
             [
              0.3333333333333333,
              "#31688e"
             ],
             [
              0.4444444444444444,
              "#26828e"
             ],
             [
              0.5555555555555556,
              "#1f9e89"
             ],
             [
              0.6666666666666666,
              "#35b779"
             ],
             [
              0.7777777777777778,
              "#6ece58"
             ],
             [
              0.8888888888888888,
              "#b5de2b"
             ],
             [
              1,
              "#fde725"
             ]
            ],
            "type": "heatmap"
           }
          ],
          "heatmapgl": [
           {
            "colorbar": {
             "outlinewidth": 1,
             "tickcolor": "rgb(36,36,36)",
             "ticks": "outside"
            },
            "colorscale": [
             [
              0,
              "#440154"
             ],
             [
              0.1111111111111111,
              "#482878"
             ],
             [
              0.2222222222222222,
              "#3e4989"
             ],
             [
              0.3333333333333333,
              "#31688e"
             ],
             [
              0.4444444444444444,
              "#26828e"
             ],
             [
              0.5555555555555556,
              "#1f9e89"
             ],
             [
              0.6666666666666666,
              "#35b779"
             ],
             [
              0.7777777777777778,
              "#6ece58"
             ],
             [
              0.8888888888888888,
              "#b5de2b"
             ],
             [
              1,
              "#fde725"
             ]
            ],
            "type": "heatmapgl"
           }
          ],
          "histogram": [
           {
            "marker": {
             "line": {
              "color": "white",
              "width": 0.6
             }
            },
            "type": "histogram"
           }
          ],
          "histogram2d": [
           {
            "colorbar": {
             "outlinewidth": 1,
             "tickcolor": "rgb(36,36,36)",
             "ticks": "outside"
            },
            "colorscale": [
             [
              0,
              "#440154"
             ],
             [
              0.1111111111111111,
              "#482878"
             ],
             [
              0.2222222222222222,
              "#3e4989"
             ],
             [
              0.3333333333333333,
              "#31688e"
             ],
             [
              0.4444444444444444,
              "#26828e"
             ],
             [
              0.5555555555555556,
              "#1f9e89"
             ],
             [
              0.6666666666666666,
              "#35b779"
             ],
             [
              0.7777777777777778,
              "#6ece58"
             ],
             [
              0.8888888888888888,
              "#b5de2b"
             ],
             [
              1,
              "#fde725"
             ]
            ],
            "type": "histogram2d"
           }
          ],
          "histogram2dcontour": [
           {
            "colorbar": {
             "outlinewidth": 1,
             "tickcolor": "rgb(36,36,36)",
             "ticks": "outside"
            },
            "colorscale": [
             [
              0,
              "#440154"
             ],
             [
              0.1111111111111111,
              "#482878"
             ],
             [
              0.2222222222222222,
              "#3e4989"
             ],
             [
              0.3333333333333333,
              "#31688e"
             ],
             [
              0.4444444444444444,
              "#26828e"
             ],
             [
              0.5555555555555556,
              "#1f9e89"
             ],
             [
              0.6666666666666666,
              "#35b779"
             ],
             [
              0.7777777777777778,
              "#6ece58"
             ],
             [
              0.8888888888888888,
              "#b5de2b"
             ],
             [
              1,
              "#fde725"
             ]
            ],
            "type": "histogram2dcontour"
           }
          ],
          "mesh3d": [
           {
            "colorbar": {
             "outlinewidth": 1,
             "tickcolor": "rgb(36,36,36)",
             "ticks": "outside"
            },
            "type": "mesh3d"
           }
          ],
          "parcoords": [
           {
            "line": {
             "colorbar": {
              "outlinewidth": 1,
              "tickcolor": "rgb(36,36,36)",
              "ticks": "outside"
             }
            },
            "type": "parcoords"
           }
          ],
          "pie": [
           {
            "automargin": true,
            "type": "pie"
           }
          ],
          "scatter": [
           {
            "marker": {
             "colorbar": {
              "outlinewidth": 1,
              "tickcolor": "rgb(36,36,36)",
              "ticks": "outside"
             }
            },
            "type": "scatter"
           }
          ],
          "scatter3d": [
           {
            "line": {
             "colorbar": {
              "outlinewidth": 1,
              "tickcolor": "rgb(36,36,36)",
              "ticks": "outside"
             }
            },
            "marker": {
             "colorbar": {
              "outlinewidth": 1,
              "tickcolor": "rgb(36,36,36)",
              "ticks": "outside"
             }
            },
            "type": "scatter3d"
           }
          ],
          "scattercarpet": [
           {
            "marker": {
             "colorbar": {
              "outlinewidth": 1,
              "tickcolor": "rgb(36,36,36)",
              "ticks": "outside"
             }
            },
            "type": "scattercarpet"
           }
          ],
          "scattergeo": [
           {
            "marker": {
             "colorbar": {
              "outlinewidth": 1,
              "tickcolor": "rgb(36,36,36)",
              "ticks": "outside"
             }
            },
            "type": "scattergeo"
           }
          ],
          "scattergl": [
           {
            "marker": {
             "colorbar": {
              "outlinewidth": 1,
              "tickcolor": "rgb(36,36,36)",
              "ticks": "outside"
             }
            },
            "type": "scattergl"
           }
          ],
          "scattermapbox": [
           {
            "marker": {
             "colorbar": {
              "outlinewidth": 1,
              "tickcolor": "rgb(36,36,36)",
              "ticks": "outside"
             }
            },
            "type": "scattermapbox"
           }
          ],
          "scatterpolar": [
           {
            "marker": {
             "colorbar": {
              "outlinewidth": 1,
              "tickcolor": "rgb(36,36,36)",
              "ticks": "outside"
             }
            },
            "type": "scatterpolar"
           }
          ],
          "scatterpolargl": [
           {
            "marker": {
             "colorbar": {
              "outlinewidth": 1,
              "tickcolor": "rgb(36,36,36)",
              "ticks": "outside"
             }
            },
            "type": "scatterpolargl"
           }
          ],
          "scatterternary": [
           {
            "marker": {
             "colorbar": {
              "outlinewidth": 1,
              "tickcolor": "rgb(36,36,36)",
              "ticks": "outside"
             }
            },
            "type": "scatterternary"
           }
          ],
          "surface": [
           {
            "colorbar": {
             "outlinewidth": 1,
             "tickcolor": "rgb(36,36,36)",
             "ticks": "outside"
            },
            "colorscale": [
             [
              0,
              "#440154"
             ],
             [
              0.1111111111111111,
              "#482878"
             ],
             [
              0.2222222222222222,
              "#3e4989"
             ],
             [
              0.3333333333333333,
              "#31688e"
             ],
             [
              0.4444444444444444,
              "#26828e"
             ],
             [
              0.5555555555555556,
              "#1f9e89"
             ],
             [
              0.6666666666666666,
              "#35b779"
             ],
             [
              0.7777777777777778,
              "#6ece58"
             ],
             [
              0.8888888888888888,
              "#b5de2b"
             ],
             [
              1,
              "#fde725"
             ]
            ],
            "type": "surface"
           }
          ],
          "table": [
           {
            "cells": {
             "fill": {
              "color": "rgb(237,237,237)"
             },
             "line": {
              "color": "white"
             }
            },
            "header": {
             "fill": {
              "color": "rgb(217,217,217)"
             },
             "line": {
              "color": "white"
             }
            },
            "type": "table"
           }
          ]
         },
         "layout": {
          "annotationdefaults": {
           "arrowhead": 0,
           "arrowwidth": 1
          },
          "autotypenumbers": "strict",
          "coloraxis": {
           "colorbar": {
            "outlinewidth": 1,
            "tickcolor": "rgb(36,36,36)",
            "ticks": "outside"
           }
          },
          "colorscale": {
           "diverging": [
            [
             0,
             "rgb(103,0,31)"
            ],
            [
             0.1,
             "rgb(178,24,43)"
            ],
            [
             0.2,
             "rgb(214,96,77)"
            ],
            [
             0.3,
             "rgb(244,165,130)"
            ],
            [
             0.4,
             "rgb(253,219,199)"
            ],
            [
             0.5,
             "rgb(247,247,247)"
            ],
            [
             0.6,
             "rgb(209,229,240)"
            ],
            [
             0.7,
             "rgb(146,197,222)"
            ],
            [
             0.8,
             "rgb(67,147,195)"
            ],
            [
             0.9,
             "rgb(33,102,172)"
            ],
            [
             1,
             "rgb(5,48,97)"
            ]
           ],
           "sequential": [
            [
             0,
             "#440154"
            ],
            [
             0.1111111111111111,
             "#482878"
            ],
            [
             0.2222222222222222,
             "#3e4989"
            ],
            [
             0.3333333333333333,
             "#31688e"
            ],
            [
             0.4444444444444444,
             "#26828e"
            ],
            [
             0.5555555555555556,
             "#1f9e89"
            ],
            [
             0.6666666666666666,
             "#35b779"
            ],
            [
             0.7777777777777778,
             "#6ece58"
            ],
            [
             0.8888888888888888,
             "#b5de2b"
            ],
            [
             1,
             "#fde725"
            ]
           ],
           "sequentialminus": [
            [
             0,
             "#440154"
            ],
            [
             0.1111111111111111,
             "#482878"
            ],
            [
             0.2222222222222222,
             "#3e4989"
            ],
            [
             0.3333333333333333,
             "#31688e"
            ],
            [
             0.4444444444444444,
             "#26828e"
            ],
            [
             0.5555555555555556,
             "#1f9e89"
            ],
            [
             0.6666666666666666,
             "#35b779"
            ],
            [
             0.7777777777777778,
             "#6ece58"
            ],
            [
             0.8888888888888888,
             "#b5de2b"
            ],
            [
             1,
             "#fde725"
            ]
           ]
          },
          "colorway": [
           "#1F77B4",
           "#FF7F0E",
           "#2CA02C",
           "#D62728",
           "#9467BD",
           "#8C564B",
           "#E377C2",
           "#7F7F7F",
           "#BCBD22",
           "#17BECF"
          ],
          "font": {
           "color": "rgb(36,36,36)"
          },
          "geo": {
           "bgcolor": "white",
           "lakecolor": "white",
           "landcolor": "white",
           "showlakes": true,
           "showland": true,
           "subunitcolor": "white"
          },
          "hoverlabel": {
           "align": "left"
          },
          "hovermode": "closest",
          "mapbox": {
           "style": "light"
          },
          "margin": {
           "b": 0,
           "l": 20,
           "r": 20,
           "t": 40
          },
          "paper_bgcolor": "white",
          "plot_bgcolor": "white",
          "polar": {
           "angularaxis": {
            "gridcolor": "rgb(232,232,232)",
            "linecolor": "rgb(36,36,36)",
            "showgrid": false,
            "showline": true,
            "ticks": "outside"
           },
           "bgcolor": "white",
           "radialaxis": {
            "gridcolor": "rgb(232,232,232)",
            "linecolor": "rgb(36,36,36)",
            "showgrid": false,
            "showline": true,
            "ticks": "outside"
           }
          },
          "scene": {
           "xaxis": {
            "backgroundcolor": "white",
            "gridcolor": "rgb(232,232,232)",
            "gridwidth": 2,
            "linecolor": "rgb(36,36,36)",
            "showbackground": true,
            "showgrid": false,
            "showline": true,
            "ticks": "outside",
            "zeroline": false,
            "zerolinecolor": "rgb(36,36,36)"
           },
           "yaxis": {
            "backgroundcolor": "white",
            "gridcolor": "rgb(232,232,232)",
            "gridwidth": 2,
            "linecolor": "rgb(36,36,36)",
            "showbackground": true,
            "showgrid": false,
            "showline": true,
            "ticks": "outside",
            "zeroline": false,
            "zerolinecolor": "rgb(36,36,36)"
           },
           "zaxis": {
            "backgroundcolor": "white",
            "gridcolor": "rgb(232,232,232)",
            "gridwidth": 2,
            "linecolor": "rgb(36,36,36)",
            "showbackground": true,
            "showgrid": false,
            "showline": true,
            "ticks": "outside",
            "zeroline": false,
            "zerolinecolor": "rgb(36,36,36)"
           }
          },
          "shapedefaults": {
           "fillcolor": "black",
           "line": {
            "width": 0
           },
           "opacity": 0.3
          },
          "ternary": {
           "aaxis": {
            "gridcolor": "rgb(232,232,232)",
            "linecolor": "rgb(36,36,36)",
            "showgrid": false,
            "showline": true,
            "ticks": "outside"
           },
           "baxis": {
            "gridcolor": "rgb(232,232,232)",
            "linecolor": "rgb(36,36,36)",
            "showgrid": false,
            "showline": true,
            "ticks": "outside"
           },
           "bgcolor": "white",
           "caxis": {
            "gridcolor": "rgb(232,232,232)",
            "linecolor": "rgb(36,36,36)",
            "showgrid": false,
            "showline": true,
            "ticks": "outside"
           }
          },
          "title": {
           "x": 0.05
          },
          "xaxis": {
           "automargin": true,
           "gridcolor": "rgb(232,232,232)",
           "linecolor": "rgb(36,36,36)",
           "showgrid": false,
           "showline": true,
           "ticks": "outside",
           "title": {
            "standoff": 15
           },
           "zeroline": false,
           "zerolinecolor": "rgb(36,36,36)"
          },
          "yaxis": {
           "automargin": true,
           "gridcolor": "rgb(232,232,232)",
           "linecolor": "rgb(36,36,36)",
           "showgrid": false,
           "showline": true,
           "ticks": "outside",
           "title": {
            "standoff": 15
           },
           "zeroline": false,
           "zerolinecolor": "rgb(36,36,36)"
          }
         }
        },
        "title": {
         "text": "$\\text{(4) Simulated Data With Noise - Fitting Polynomials of Different Degrees}$"
        },
        "xaxis": {
         "anchor": "y",
         "domain": [
          0,
          0.2888888888888889
         ]
        },
        "xaxis2": {
         "anchor": "y2",
         "domain": [
          0.35555555555555557,
          0.6444444444444445
         ]
        },
        "xaxis3": {
         "anchor": "y3",
         "domain": [
          0.7111111111111111,
          1
         ]
        },
        "xaxis4": {
         "anchor": "y4",
         "domain": [
          0,
          0.2888888888888889
         ]
        },
        "xaxis5": {
         "anchor": "y5",
         "domain": [
          0.35555555555555557,
          0.6444444444444445
         ]
        },
        "xaxis6": {
         "anchor": "y6",
         "domain": [
          0.7111111111111111,
          1
         ]
        },
        "yaxis": {
         "anchor": "x",
         "domain": [
          0.625,
          1
         ]
        },
        "yaxis2": {
         "anchor": "x2",
         "domain": [
          0.625,
          1
         ]
        },
        "yaxis3": {
         "anchor": "x3",
         "domain": [
          0.625,
          1
         ]
        },
        "yaxis4": {
         "anchor": "x4",
         "domain": [
          0,
          0.375
         ]
        },
        "yaxis5": {
         "anchor": "x5",
         "domain": [
          0,
          0.375
         ]
        },
        "yaxis6": {
         "anchor": "x6",
         "domain": [
          0,
          0.375
         ]
        }
       }
      },
      "text/html": [
       "<div>                            <div id=\"b9cc1ec4-c163-4be4-b73e-83fc321c4ebf\" class=\"plotly-graph-div\" style=\"height:525px; width:100%;\"></div>            <script type=\"text/javascript\">                require([\"plotly\"], function(Plotly) {                    window.PLOTLYENV=window.PLOTLYENV || {};                                    if (document.getElementById(\"b9cc1ec4-c163-4be4-b73e-83fc321c4ebf\")) {                    Plotly.newPlot(                        \"b9cc1ec4-c163-4be4-b73e-83fc321c4ebf\",                        [{\"marker\": {\"color\": \"black\", \"opacity\": 0.7}, \"mode\": \"markers\", \"name\": \"Real Points\", \"showlegend\": false, \"type\": \"scatter\", \"x\": [-1.2, -1.0358974358974358, -0.8717948717948718, -0.7076923076923076, -0.5435897435897435, -0.37948717948717947, -0.21538461538461529, -0.05128205128205132, 0.11282051282051286, 0.27692307692307705, 0.441025641025641, 0.6051282051282052, 0.7692307692307694, 0.9333333333333333, 1.0974358974358973, 1.2615384615384617, 1.4256410256410257, 1.5897435897435896, 1.753846153846154, 1.917948717948718], \"xaxis\": \"x\", \"y\": [5.8096, 3.8381753317244733, 2.522800884051074, 1.7092797030916282, 1.2608197821340592, 1.058034061642376, 0.9989404292566787, 0.9989617197931566, 0.9909257152440888, 0.9250651447778439, 0.7690176847388803, 0.5078259586477458, 0.14393753720107805, -0.3027950617283952, -0.7951143730918573, -1.278357984664403, -1.6804585370450331, -1.911943723656666, -1.8659362907461214, -1.418154037384138], \"yaxis\": \"y\"}, {\"marker\": {\"color\": \"red\", \"opacity\": 0.7}, \"mode\": \"markers\", \"name\": \"Observed Points\", \"showlegend\": false, \"type\": \"scatter\", \"x\": [-1.2, -1.0358974358974358, -0.8717948717948718, -0.7076923076923076, -0.5435897435897435, -0.37948717948717947, -0.21538461538461529, -0.05128205128205132, 0.11282051282051286, 0.27692307692307705, 0.441025641025641, 0.6051282051282052, 0.7692307692307694, 0.9333333333333333, 1.0974358974358973, 1.2615384615384617, 1.4256410256410257, 1.5897435897435896, 1.753846153846154, 1.917948717948718], \"xaxis\": \"x\", \"y\": [6.735566152461027, 4.122754037714723, 2.7419755809407835, 3.93924825954048, 1.1570379456696693, 0.6709271786940312, 0.3038149021085126, 0.9723976085183392, 0.2446992669722996, 1.7063474441990456, 0.6918013180535798, 1.0847090695714272, 0.3318738878550176, -1.1246187753063386, -2.2402765475289144, 1.3872119309233377, -1.0910462634446354, -1.7030778643758098, -4.203940624477999, -1.7689613970926115], \"yaxis\": \"y\"}, {\"marker\": {\"color\": \"blue\", \"opacity\": 0.7}, \"mode\": \"markers\", \"name\": \"Predicted Points\", \"showlegend\": false, \"type\": \"scatter\", \"x\": [-1.2, -1.0358974358974358, -0.8717948717948718, -0.7076923076923076, -0.5435897435897435, -0.37948717948717947, -0.21538461538461529, -0.05128205128205132, 0.11282051282051286, 0.27692307692307705, 0.441025641025641, 0.6051282051282052, 0.7692307692307694, 0.9333333333333333, 1.0974358974358973, 1.2615384615384617, 1.4256410256410257, 1.5897435897435896, 1.753846153846154, 1.917948717948718], \"xaxis\": \"x\", \"y\": [4.72117687567039, 4.1583062932851425, 3.618664058488304, 3.1022501712798727, 2.60906463165985, 2.139107439628235, 1.6923785951850274, 1.2688780983302286, 0.8686059490638371, 0.4915621473858535, 0.13774669329627848, -0.19284041320488926, -0.5001991721176491, -0.7843295834420003, -1.045231647177944, -1.2829053633254803, -1.4973507318846078, -1.6885677528553273, -1.85655642623764, -2.001316752031544], \"yaxis\": \"y\"}, {\"marker\": {\"color\": \"black\", \"opacity\": 0.7}, \"mode\": \"markers\", \"name\": \"Real Points\", \"showlegend\": false, \"type\": \"scatter\", \"x\": [-1.2, -1.0358974358974358, -0.8717948717948718, -0.7076923076923076, -0.5435897435897435, -0.37948717948717947, -0.21538461538461529, -0.05128205128205132, 0.11282051282051286, 0.27692307692307705, 0.441025641025641, 0.6051282051282052, 0.7692307692307694, 0.9333333333333333, 1.0974358974358973, 1.2615384615384617, 1.4256410256410257, 1.5897435897435896, 1.753846153846154, 1.917948717948718], \"xaxis\": \"x2\", \"y\": [5.8096, 3.8381753317244733, 2.522800884051074, 1.7092797030916282, 1.2608197821340592, 1.058034061642376, 0.9989404292566787, 0.9989617197931566, 0.9909257152440888, 0.9250651447778439, 0.7690176847388803, 0.5078259586477458, 0.14393753720107805, -0.3027950617283952, -0.7951143730918573, -1.278357984664403, -1.6804585370450331, -1.911943723656666, -1.8659362907461214, -1.418154037384138], \"yaxis\": \"y2\"}, {\"marker\": {\"color\": \"red\", \"opacity\": 0.7}, \"mode\": \"markers\", \"name\": \"Observed Points\", \"showlegend\": false, \"type\": \"scatter\", \"x\": [-1.2, -1.0358974358974358, -0.8717948717948718, -0.7076923076923076, -0.5435897435897435, -0.37948717948717947, -0.21538461538461529, -0.05128205128205132, 0.11282051282051286, 0.27692307692307705, 0.441025641025641, 0.6051282051282052, 0.7692307692307694, 0.9333333333333333, 1.0974358974358973, 1.2615384615384617, 1.4256410256410257, 1.5897435897435896, 1.753846153846154, 1.917948717948718], \"xaxis\": \"x2\", \"y\": [6.735566152461027, 4.122754037714723, 2.7419755809407835, 3.93924825954048, 1.1570379456696693, 0.6709271786940312, 0.3038149021085126, 0.9723976085183392, 0.2446992669722996, 1.7063474441990456, 0.6918013180535798, 1.0847090695714272, 0.3318738878550176, -1.1246187753063386, -2.2402765475289144, 1.3872119309233377, -1.0910462634446354, -1.7030778643758098, -4.203940624477999, -1.7689613970926115], \"yaxis\": \"y2\"}, {\"marker\": {\"color\": \"blue\", \"opacity\": 0.7}, \"mode\": \"markers\", \"name\": \"Predicted Points\", \"showlegend\": false, \"type\": \"scatter\", \"x\": [-1.2, -1.0358974358974358, -0.8717948717948718, -0.7076923076923076, -0.5435897435897435, -0.37948717948717947, -0.21538461538461529, -0.05128205128205132, 0.11282051282051286, 0.27692307692307705, 0.441025641025641, 0.6051282051282052, 0.7692307692307694, 0.9333333333333333, 1.0974358974358973, 1.2615384615384617, 1.4256410256410257, 1.5897435897435896, 1.753846153846154, 1.917948717948718], \"xaxis\": \"x2\", \"y\": [5.9876778352176085, 4.624911909960435, 3.507567483089429, 2.609504183922497, 1.9045816417775523, 1.3666594859725056, 0.969597345825267, 0.6872548506537485, 0.4934916297758602, 0.3621673125095136, 0.26714152817261955, 0.1822739060830887, 0.08142407555883235, -0.06154833408223859, -0.2727836935222131, -0.5784223734431816, -1.0046047445272301, -1.57747117745645, -2.3231620429129323, -3.2678177115787603], \"yaxis\": \"y2\"}, {\"marker\": {\"color\": \"black\", \"opacity\": 0.7}, \"mode\": \"markers\", \"name\": \"Real Points\", \"showlegend\": false, \"type\": \"scatter\", \"x\": [-1.2, -1.0358974358974358, -0.8717948717948718, -0.7076923076923076, -0.5435897435897435, -0.37948717948717947, -0.21538461538461529, -0.05128205128205132, 0.11282051282051286, 0.27692307692307705, 0.441025641025641, 0.6051282051282052, 0.7692307692307694, 0.9333333333333333, 1.0974358974358973, 1.2615384615384617, 1.4256410256410257, 1.5897435897435896, 1.753846153846154, 1.917948717948718], \"xaxis\": \"x3\", \"y\": [5.8096, 3.8381753317244733, 2.522800884051074, 1.7092797030916282, 1.2608197821340592, 1.058034061642376, 0.9989404292566787, 0.9989617197931566, 0.9909257152440888, 0.9250651447778439, 0.7690176847388803, 0.5078259586477458, 0.14393753720107805, -0.3027950617283952, -0.7951143730918573, -1.278357984664403, -1.6804585370450331, -1.911943723656666, -1.8659362907461214, -1.418154037384138], \"yaxis\": \"y3\"}, {\"marker\": {\"color\": \"red\", \"opacity\": 0.7}, \"mode\": \"markers\", \"name\": \"Observed Points\", \"showlegend\": false, \"type\": \"scatter\", \"x\": [-1.2, -1.0358974358974358, -0.8717948717948718, -0.7076923076923076, -0.5435897435897435, -0.37948717948717947, -0.21538461538461529, -0.05128205128205132, 0.11282051282051286, 0.27692307692307705, 0.441025641025641, 0.6051282051282052, 0.7692307692307694, 0.9333333333333333, 1.0974358974358973, 1.2615384615384617, 1.4256410256410257, 1.5897435897435896, 1.753846153846154, 1.917948717948718], \"xaxis\": \"x3\", \"y\": [6.735566152461027, 4.122754037714723, 2.7419755809407835, 3.93924825954048, 1.1570379456696693, 0.6709271786940312, 0.3038149021085126, 0.9723976085183392, 0.2446992669722996, 1.7063474441990456, 0.6918013180535798, 1.0847090695714272, 0.3318738878550176, -1.1246187753063386, -2.2402765475289144, 1.3872119309233377, -1.0910462634446354, -1.7030778643758098, -4.203940624477999, -1.7689613970926115], \"yaxis\": \"y3\"}, {\"marker\": {\"color\": \"blue\", \"opacity\": 0.7}, \"mode\": \"markers\", \"name\": \"Predicted Points\", \"showlegend\": false, \"type\": \"scatter\", \"x\": [-1.2, -1.0358974358974358, -0.8717948717948718, -0.7076923076923076, -0.5435897435897435, -0.37948717948717947, -0.21538461538461529, -0.05128205128205132, 0.11282051282051286, 0.27692307692307705, 0.441025641025641, 0.6051282051282052, 0.7692307692307694, 0.9333333333333333, 1.0974358974358973, 1.2615384615384617, 1.4256410256410257, 1.5897435897435896, 1.753846153846154, 1.917948717948718], \"xaxis\": \"x3\", \"y\": [6.6111719614988225, 4.592096429629847, 3.14659719945294, 2.158452189574584, 1.5226995324401968, 1.1456375743341205, 0.9448248753796264, 0.8490802095389138, 0.7984825646131096, 0.744371142242269, 0.6493453579053747, 0.487264840920338, 0.2432494344439975, -0.0863208045278796, -0.4938056051605981, -0.9603044827805376, -1.4556567388751436, -1.9384414610929408, -2.35597752324352, -2.6443235852975473], \"yaxis\": \"y3\"}, {\"marker\": {\"color\": \"black\", \"opacity\": 0.7}, \"mode\": \"markers\", \"name\": \"Real Points\", \"showlegend\": false, \"type\": \"scatter\", \"x\": [-1.2, -1.0358974358974358, -0.8717948717948718, -0.7076923076923076, -0.5435897435897435, -0.37948717948717947, -0.21538461538461529, -0.05128205128205132, 0.11282051282051286, 0.27692307692307705, 0.441025641025641, 0.6051282051282052, 0.7692307692307694, 0.9333333333333333, 1.0974358974358973, 1.2615384615384617, 1.4256410256410257, 1.5897435897435896, 1.753846153846154, 1.917948717948718], \"xaxis\": \"x4\", \"y\": [5.8096, 3.8381753317244733, 2.522800884051074, 1.7092797030916282, 1.2608197821340592, 1.058034061642376, 0.9989404292566787, 0.9989617197931566, 0.9909257152440888, 0.9250651447778439, 0.7690176847388803, 0.5078259586477458, 0.14393753720107805, -0.3027950617283952, -0.7951143730918573, -1.278357984664403, -1.6804585370450331, -1.911943723656666, -1.8659362907461214, -1.418154037384138], \"yaxis\": \"y4\"}, {\"marker\": {\"color\": \"red\", \"opacity\": 0.7}, \"mode\": \"markers\", \"name\": \"Observed Points\", \"showlegend\": false, \"type\": \"scatter\", \"x\": [-1.2, -1.0358974358974358, -0.8717948717948718, -0.7076923076923076, -0.5435897435897435, -0.37948717948717947, -0.21538461538461529, -0.05128205128205132, 0.11282051282051286, 0.27692307692307705, 0.441025641025641, 0.6051282051282052, 0.7692307692307694, 0.9333333333333333, 1.0974358974358973, 1.2615384615384617, 1.4256410256410257, 1.5897435897435896, 1.753846153846154, 1.917948717948718], \"xaxis\": \"x4\", \"y\": [6.735566152461027, 4.122754037714723, 2.7419755809407835, 3.93924825954048, 1.1570379456696693, 0.6709271786940312, 0.3038149021085126, 0.9723976085183392, 0.2446992669722996, 1.7063474441990456, 0.6918013180535798, 1.0847090695714272, 0.3318738878550176, -1.1246187753063386, -2.2402765475289144, 1.3872119309233377, -1.0910462634446354, -1.7030778643758098, -4.203940624477999, -1.7689613970926115], \"yaxis\": \"y4\"}, {\"marker\": {\"color\": \"blue\", \"opacity\": 0.7}, \"mode\": \"markers\", \"name\": \"Predicted Points\", \"showlegend\": false, \"type\": \"scatter\", \"x\": [-1.2, -1.0358974358974358, -0.8717948717948718, -0.7076923076923076, -0.5435897435897435, -0.37948717948717947, -0.21538461538461529, -0.05128205128205132, 0.11282051282051286, 0.27692307692307705, 0.441025641025641, 0.6051282051282052, 0.7692307692307694, 0.9333333333333333, 1.0974358974358973, 1.2615384615384617, 1.4256410256410257, 1.5897435897435896, 1.753846153846154, 1.917948717948718], \"xaxis\": \"x4\", \"y\": [6.463377903777509, 4.677661410415862, 3.284019744351695, 2.2516432827301216, 1.5369603625711985, 1.0868402479651167, 0.8417960972674041, 0.7391879302941232, 0.7164255955170683, 0.7141717372589661, 0.6795447628886735, 0.5693218100163752, 0.3531417136887838, 0.016707973584338065, -0.435008278791599, -0.9745653129115446, -1.5488478320306855, -2.0758640059916997, -2.441542504029538, -2.496529527576241], \"yaxis\": \"y4\"}, {\"marker\": {\"color\": \"black\", \"opacity\": 0.7}, \"mode\": \"markers\", \"name\": \"Real Points\", \"showlegend\": false, \"type\": \"scatter\", \"x\": [-1.2, -1.0358974358974358, -0.8717948717948718, -0.7076923076923076, -0.5435897435897435, -0.37948717948717947, -0.21538461538461529, -0.05128205128205132, 0.11282051282051286, 0.27692307692307705, 0.441025641025641, 0.6051282051282052, 0.7692307692307694, 0.9333333333333333, 1.0974358974358973, 1.2615384615384617, 1.4256410256410257, 1.5897435897435896, 1.753846153846154, 1.917948717948718], \"xaxis\": \"x5\", \"y\": [5.8096, 3.8381753317244733, 2.522800884051074, 1.7092797030916282, 1.2608197821340592, 1.058034061642376, 0.9989404292566787, 0.9989617197931566, 0.9909257152440888, 0.9250651447778439, 0.7690176847388803, 0.5078259586477458, 0.14393753720107805, -0.3027950617283952, -0.7951143730918573, -1.278357984664403, -1.6804585370450331, -1.911943723656666, -1.8659362907461214, -1.418154037384138], \"yaxis\": \"y5\"}, {\"marker\": {\"color\": \"red\", \"opacity\": 0.7}, \"mode\": \"markers\", \"name\": \"Observed Points\", \"showlegend\": false, \"type\": \"scatter\", \"x\": [-1.2, -1.0358974358974358, -0.8717948717948718, -0.7076923076923076, -0.5435897435897435, -0.37948717948717947, -0.21538461538461529, -0.05128205128205132, 0.11282051282051286, 0.27692307692307705, 0.441025641025641, 0.6051282051282052, 0.7692307692307694, 0.9333333333333333, 1.0974358974358973, 1.2615384615384617, 1.4256410256410257, 1.5897435897435896, 1.753846153846154, 1.917948717948718], \"xaxis\": \"x5\", \"y\": [6.735566152461027, 4.122754037714723, 2.7419755809407835, 3.93924825954048, 1.1570379456696693, 0.6709271786940312, 0.3038149021085126, 0.9723976085183392, 0.2446992669722996, 1.7063474441990456, 0.6918013180535798, 1.0847090695714272, 0.3318738878550176, -1.1246187753063386, -2.2402765475289144, 1.3872119309233377, -1.0910462634446354, -1.7030778643758098, -4.203940624477999, -1.7689613970926115], \"yaxis\": \"y5\"}, {\"marker\": {\"color\": \"blue\", \"opacity\": 0.7}, \"mode\": \"markers\", \"name\": \"Predicted Points\", \"showlegend\": false, \"type\": \"scatter\", \"x\": [-1.2, -1.0358974358974358, -0.8717948717948718, -0.7076923076923076, -0.5435897435897435, -0.37948717948717947, -0.21538461538461529, -0.05128205128205132, 0.11282051282051286, 0.27692307692307705, 0.441025641025641, 0.6051282051282052, 0.7692307692307694, 0.9333333333333333, 1.0974358974358973, 1.2615384615384617, 1.4256410256410257, 1.5897435897435896, 1.753846153846154, 1.917948717948718], \"xaxis\": \"x5\", \"y\": [6.557588546201052, 4.563616948534726, 3.193114738504413, 2.2519349565456737, 1.6097329795516147, 1.1807106042705173, 0.9075685426745547, 0.7486673292995889, 0.6683966405560456, 0.6307530260108738, 0.5961260516405806, 0.5212928550553518, 0.3626211126942478, 0.08248041899148517, -0.3411379224862058, -0.9017926959311444, -1.548556158215166, -2.1667690118390412, -2.5555869659107797, -2.402318885152873], \"yaxis\": \"y5\"}, {\"marker\": {\"color\": \"black\", \"opacity\": 0.7}, \"mode\": \"markers\", \"name\": \"Real Points\", \"showlegend\": false, \"type\": \"scatter\", \"x\": [-1.2, -1.0358974358974358, -0.8717948717948718, -0.7076923076923076, -0.5435897435897435, -0.37948717948717947, -0.21538461538461529, -0.05128205128205132, 0.11282051282051286, 0.27692307692307705, 0.441025641025641, 0.6051282051282052, 0.7692307692307694, 0.9333333333333333, 1.0974358974358973, 1.2615384615384617, 1.4256410256410257, 1.5897435897435896, 1.753846153846154, 1.917948717948718], \"xaxis\": \"x6\", \"y\": [5.8096, 3.8381753317244733, 2.522800884051074, 1.7092797030916282, 1.2608197821340592, 1.058034061642376, 0.9989404292566787, 0.9989617197931566, 0.9909257152440888, 0.9250651447778439, 0.7690176847388803, 0.5078259586477458, 0.14393753720107805, -0.3027950617283952, -0.7951143730918573, -1.278357984664403, -1.6804585370450331, -1.911943723656666, -1.8659362907461214, -1.418154037384138], \"yaxis\": \"y6\"}, {\"marker\": {\"color\": \"red\", \"opacity\": 0.7}, \"mode\": \"markers\", \"name\": \"Observed Points\", \"showlegend\": false, \"type\": \"scatter\", \"x\": [-1.2, -1.0358974358974358, -0.8717948717948718, -0.7076923076923076, -0.5435897435897435, -0.37948717948717947, -0.21538461538461529, -0.05128205128205132, 0.11282051282051286, 0.27692307692307705, 0.441025641025641, 0.6051282051282052, 0.7692307692307694, 0.9333333333333333, 1.0974358974358973, 1.2615384615384617, 1.4256410256410257, 1.5897435897435896, 1.753846153846154, 1.917948717948718], \"xaxis\": \"x6\", \"y\": [6.735566152461027, 4.122754037714723, 2.7419755809407835, 3.93924825954048, 1.1570379456696693, 0.6709271786940312, 0.3038149021085126, 0.9723976085183392, 0.2446992669722996, 1.7063474441990456, 0.6918013180535798, 1.0847090695714272, 0.3318738878550176, -1.1246187753063386, -2.2402765475289144, 1.3872119309233377, -1.0910462634446354, -1.7030778643758098, -4.203940624477999, -1.7689613970926115], \"yaxis\": \"y6\"}, {\"marker\": {\"color\": \"blue\", \"opacity\": 0.7}, \"mode\": \"markers\", \"name\": \"Predicted Points\", \"showlegend\": false, \"type\": \"scatter\", \"x\": [-1.2, -1.0358974358974358, -0.8717948717948718, -0.7076923076923076, -0.5435897435897435, -0.37948717948717947, -0.21538461538461529, -0.05128205128205132, 0.11282051282051286, 0.27692307692307705, 0.441025641025641, 0.6051282051282052, 0.7692307692307694, 0.9333333333333333, 1.0974358974358973, 1.2615384615384617, 1.4256410256410257, 1.5897435897435896, 1.753846153846154, 1.917948717948718], \"xaxis\": \"x6\", \"y\": [6.391444092744906, 4.887161410528268, 3.2718147427731115, 2.0713878879292444, 1.3805770847692267, 1.081178245930696, 0.9901263902897662, 0.9485036146485496, 0.862831945219899, 0.7099674093924464, 0.5169116682590181, 0.326857550391509, 0.1627848273452992, -7.742862371218351e-05, -0.2416055641463668, -0.6726368011487311, -1.368009089598699, -2.2454690161076893, -2.879131427904241, -2.2361744316965897], \"yaxis\": \"y6\"}],                        {\"annotations\": [{\"font\": {\"size\": 16}, \"showarrow\": false, \"text\": \"$k=2, MSE=1.54$\", \"x\": 0.14444444444444446, \"xanchor\": \"center\", \"xref\": \"paper\", \"y\": 1.0, \"yanchor\": \"bottom\", \"yref\": \"paper\"}, {\"font\": {\"size\": 16}, \"showarrow\": false, \"text\": \"$k=3, MSE=1.12$\", \"x\": 0.5, \"xanchor\": \"center\", \"xref\": \"paper\", \"y\": 1.0, \"yanchor\": \"bottom\", \"yref\": \"paper\"}, {\"font\": {\"size\": 16}, \"showarrow\": false, \"text\": \"$k=4, MSE=1.0$\", \"x\": 0.8555555555555556, \"xanchor\": \"center\", \"xref\": \"paper\", \"y\": 1.0, \"yanchor\": \"bottom\", \"yref\": \"paper\"}, {\"font\": {\"size\": 16}, \"showarrow\": false, \"text\": \"$k=5, MSE=0.99$\", \"x\": 0.14444444444444446, \"xanchor\": \"center\", \"xref\": \"paper\", \"y\": 0.375, \"yanchor\": \"bottom\", \"yref\": \"paper\"}, {\"font\": {\"size\": 16}, \"showarrow\": false, \"text\": \"$k=6, MSE=0.98$\", \"x\": 0.5, \"xanchor\": \"center\", \"xref\": \"paper\", \"y\": 0.375, \"yanchor\": \"bottom\", \"yref\": \"paper\"}, {\"font\": {\"size\": 16}, \"showarrow\": false, \"text\": \"$k=7, MSE=0.95$\", \"x\": 0.8555555555555556, \"xanchor\": \"center\", \"xref\": \"paper\", \"y\": 0.375, \"yanchor\": \"bottom\", \"yref\": \"paper\"}], \"margin\": {\"t\": 80}, \"template\": {\"data\": {\"bar\": [{\"error_x\": {\"color\": \"rgb(36,36,36)\"}, \"error_y\": {\"color\": \"rgb(36,36,36)\"}, \"marker\": {\"line\": {\"color\": \"white\", \"width\": 0.5}}, \"type\": \"bar\"}], \"barpolar\": [{\"marker\": {\"line\": {\"color\": \"white\", \"width\": 0.5}}, \"type\": \"barpolar\"}], \"carpet\": [{\"aaxis\": {\"endlinecolor\": \"rgb(36,36,36)\", \"gridcolor\": \"white\", \"linecolor\": \"white\", \"minorgridcolor\": \"white\", \"startlinecolor\": \"rgb(36,36,36)\"}, \"baxis\": {\"endlinecolor\": \"rgb(36,36,36)\", \"gridcolor\": \"white\", \"linecolor\": \"white\", \"minorgridcolor\": \"white\", \"startlinecolor\": \"rgb(36,36,36)\"}, \"type\": \"carpet\"}], \"choropleth\": [{\"colorbar\": {\"outlinewidth\": 1, \"tickcolor\": \"rgb(36,36,36)\", \"ticks\": \"outside\"}, \"type\": \"choropleth\"}], \"contour\": [{\"colorbar\": {\"outlinewidth\": 1, \"tickcolor\": \"rgb(36,36,36)\", \"ticks\": \"outside\"}, \"colorscale\": [[0.0, \"#440154\"], [0.1111111111111111, \"#482878\"], [0.2222222222222222, \"#3e4989\"], [0.3333333333333333, \"#31688e\"], [0.4444444444444444, \"#26828e\"], [0.5555555555555556, \"#1f9e89\"], [0.6666666666666666, \"#35b779\"], [0.7777777777777778, \"#6ece58\"], [0.8888888888888888, \"#b5de2b\"], [1.0, \"#fde725\"]], \"type\": \"contour\"}], \"contourcarpet\": [{\"colorbar\": {\"outlinewidth\": 1, \"tickcolor\": \"rgb(36,36,36)\", \"ticks\": \"outside\"}, \"type\": \"contourcarpet\"}], \"heatmap\": [{\"colorbar\": {\"outlinewidth\": 1, \"tickcolor\": \"rgb(36,36,36)\", \"ticks\": \"outside\"}, \"colorscale\": [[0.0, \"#440154\"], [0.1111111111111111, \"#482878\"], [0.2222222222222222, \"#3e4989\"], [0.3333333333333333, \"#31688e\"], [0.4444444444444444, \"#26828e\"], [0.5555555555555556, \"#1f9e89\"], [0.6666666666666666, \"#35b779\"], [0.7777777777777778, \"#6ece58\"], [0.8888888888888888, \"#b5de2b\"], [1.0, \"#fde725\"]], \"type\": \"heatmap\"}], \"heatmapgl\": [{\"colorbar\": {\"outlinewidth\": 1, \"tickcolor\": \"rgb(36,36,36)\", \"ticks\": \"outside\"}, \"colorscale\": [[0.0, \"#440154\"], [0.1111111111111111, \"#482878\"], [0.2222222222222222, \"#3e4989\"], [0.3333333333333333, \"#31688e\"], [0.4444444444444444, \"#26828e\"], [0.5555555555555556, \"#1f9e89\"], [0.6666666666666666, \"#35b779\"], [0.7777777777777778, \"#6ece58\"], [0.8888888888888888, \"#b5de2b\"], [1.0, \"#fde725\"]], \"type\": \"heatmapgl\"}], \"histogram\": [{\"marker\": {\"line\": {\"color\": \"white\", \"width\": 0.6}}, \"type\": \"histogram\"}], \"histogram2d\": [{\"colorbar\": {\"outlinewidth\": 1, \"tickcolor\": \"rgb(36,36,36)\", \"ticks\": \"outside\"}, \"colorscale\": [[0.0, \"#440154\"], [0.1111111111111111, \"#482878\"], [0.2222222222222222, \"#3e4989\"], [0.3333333333333333, \"#31688e\"], [0.4444444444444444, \"#26828e\"], [0.5555555555555556, \"#1f9e89\"], [0.6666666666666666, \"#35b779\"], [0.7777777777777778, \"#6ece58\"], [0.8888888888888888, \"#b5de2b\"], [1.0, \"#fde725\"]], \"type\": \"histogram2d\"}], \"histogram2dcontour\": [{\"colorbar\": {\"outlinewidth\": 1, \"tickcolor\": \"rgb(36,36,36)\", \"ticks\": \"outside\"}, \"colorscale\": [[0.0, \"#440154\"], [0.1111111111111111, \"#482878\"], [0.2222222222222222, \"#3e4989\"], [0.3333333333333333, \"#31688e\"], [0.4444444444444444, \"#26828e\"], [0.5555555555555556, \"#1f9e89\"], [0.6666666666666666, \"#35b779\"], [0.7777777777777778, \"#6ece58\"], [0.8888888888888888, \"#b5de2b\"], [1.0, \"#fde725\"]], \"type\": \"histogram2dcontour\"}], \"mesh3d\": [{\"colorbar\": {\"outlinewidth\": 1, \"tickcolor\": \"rgb(36,36,36)\", \"ticks\": \"outside\"}, \"type\": \"mesh3d\"}], \"parcoords\": [{\"line\": {\"colorbar\": {\"outlinewidth\": 1, \"tickcolor\": \"rgb(36,36,36)\", \"ticks\": \"outside\"}}, \"type\": \"parcoords\"}], \"pie\": [{\"automargin\": true, \"type\": \"pie\"}], \"scatter\": [{\"marker\": {\"colorbar\": {\"outlinewidth\": 1, \"tickcolor\": \"rgb(36,36,36)\", \"ticks\": \"outside\"}}, \"type\": \"scatter\"}], \"scatter3d\": [{\"line\": {\"colorbar\": {\"outlinewidth\": 1, \"tickcolor\": \"rgb(36,36,36)\", \"ticks\": \"outside\"}}, \"marker\": {\"colorbar\": {\"outlinewidth\": 1, \"tickcolor\": \"rgb(36,36,36)\", \"ticks\": \"outside\"}}, \"type\": \"scatter3d\"}], \"scattercarpet\": [{\"marker\": {\"colorbar\": {\"outlinewidth\": 1, \"tickcolor\": \"rgb(36,36,36)\", \"ticks\": \"outside\"}}, \"type\": \"scattercarpet\"}], \"scattergeo\": [{\"marker\": {\"colorbar\": {\"outlinewidth\": 1, \"tickcolor\": \"rgb(36,36,36)\", \"ticks\": \"outside\"}}, \"type\": \"scattergeo\"}], \"scattergl\": [{\"marker\": {\"colorbar\": {\"outlinewidth\": 1, \"tickcolor\": \"rgb(36,36,36)\", \"ticks\": \"outside\"}}, \"type\": \"scattergl\"}], \"scattermapbox\": [{\"marker\": {\"colorbar\": {\"outlinewidth\": 1, \"tickcolor\": \"rgb(36,36,36)\", \"ticks\": \"outside\"}}, \"type\": \"scattermapbox\"}], \"scatterpolar\": [{\"marker\": {\"colorbar\": {\"outlinewidth\": 1, \"tickcolor\": \"rgb(36,36,36)\", \"ticks\": \"outside\"}}, \"type\": \"scatterpolar\"}], \"scatterpolargl\": [{\"marker\": {\"colorbar\": {\"outlinewidth\": 1, \"tickcolor\": \"rgb(36,36,36)\", \"ticks\": \"outside\"}}, \"type\": \"scatterpolargl\"}], \"scatterternary\": [{\"marker\": {\"colorbar\": {\"outlinewidth\": 1, \"tickcolor\": \"rgb(36,36,36)\", \"ticks\": \"outside\"}}, \"type\": \"scatterternary\"}], \"surface\": [{\"colorbar\": {\"outlinewidth\": 1, \"tickcolor\": \"rgb(36,36,36)\", \"ticks\": \"outside\"}, \"colorscale\": [[0.0, \"#440154\"], [0.1111111111111111, \"#482878\"], [0.2222222222222222, \"#3e4989\"], [0.3333333333333333, \"#31688e\"], [0.4444444444444444, \"#26828e\"], [0.5555555555555556, \"#1f9e89\"], [0.6666666666666666, \"#35b779\"], [0.7777777777777778, \"#6ece58\"], [0.8888888888888888, \"#b5de2b\"], [1.0, \"#fde725\"]], \"type\": \"surface\"}], \"table\": [{\"cells\": {\"fill\": {\"color\": \"rgb(237,237,237)\"}, \"line\": {\"color\": \"white\"}}, \"header\": {\"fill\": {\"color\": \"rgb(217,217,217)\"}, \"line\": {\"color\": \"white\"}}, \"type\": \"table\"}]}, \"layout\": {\"annotationdefaults\": {\"arrowhead\": 0, \"arrowwidth\": 1}, \"autotypenumbers\": \"strict\", \"coloraxis\": {\"colorbar\": {\"outlinewidth\": 1, \"tickcolor\": \"rgb(36,36,36)\", \"ticks\": \"outside\"}}, \"colorscale\": {\"diverging\": [[0.0, \"rgb(103,0,31)\"], [0.1, \"rgb(178,24,43)\"], [0.2, \"rgb(214,96,77)\"], [0.3, \"rgb(244,165,130)\"], [0.4, \"rgb(253,219,199)\"], [0.5, \"rgb(247,247,247)\"], [0.6, \"rgb(209,229,240)\"], [0.7, \"rgb(146,197,222)\"], [0.8, \"rgb(67,147,195)\"], [0.9, \"rgb(33,102,172)\"], [1.0, \"rgb(5,48,97)\"]], \"sequential\": [[0.0, \"#440154\"], [0.1111111111111111, \"#482878\"], [0.2222222222222222, \"#3e4989\"], [0.3333333333333333, \"#31688e\"], [0.4444444444444444, \"#26828e\"], [0.5555555555555556, \"#1f9e89\"], [0.6666666666666666, \"#35b779\"], [0.7777777777777778, \"#6ece58\"], [0.8888888888888888, \"#b5de2b\"], [1.0, \"#fde725\"]], \"sequentialminus\": [[0.0, \"#440154\"], [0.1111111111111111, \"#482878\"], [0.2222222222222222, \"#3e4989\"], [0.3333333333333333, \"#31688e\"], [0.4444444444444444, \"#26828e\"], [0.5555555555555556, \"#1f9e89\"], [0.6666666666666666, \"#35b779\"], [0.7777777777777778, \"#6ece58\"], [0.8888888888888888, \"#b5de2b\"], [1.0, \"#fde725\"]]}, \"colorway\": [\"#1F77B4\", \"#FF7F0E\", \"#2CA02C\", \"#D62728\", \"#9467BD\", \"#8C564B\", \"#E377C2\", \"#7F7F7F\", \"#BCBD22\", \"#17BECF\"], \"font\": {\"color\": \"rgb(36,36,36)\"}, \"geo\": {\"bgcolor\": \"white\", \"lakecolor\": \"white\", \"landcolor\": \"white\", \"showlakes\": true, \"showland\": true, \"subunitcolor\": \"white\"}, \"hoverlabel\": {\"align\": \"left\"}, \"hovermode\": \"closest\", \"mapbox\": {\"style\": \"light\"}, \"margin\": {\"b\": 0, \"l\": 20, \"r\": 20, \"t\": 40}, \"paper_bgcolor\": \"white\", \"plot_bgcolor\": \"white\", \"polar\": {\"angularaxis\": {\"gridcolor\": \"rgb(232,232,232)\", \"linecolor\": \"rgb(36,36,36)\", \"showgrid\": false, \"showline\": true, \"ticks\": \"outside\"}, \"bgcolor\": \"white\", \"radialaxis\": {\"gridcolor\": \"rgb(232,232,232)\", \"linecolor\": \"rgb(36,36,36)\", \"showgrid\": false, \"showline\": true, \"ticks\": \"outside\"}}, \"scene\": {\"xaxis\": {\"backgroundcolor\": \"white\", \"gridcolor\": \"rgb(232,232,232)\", \"gridwidth\": 2, \"linecolor\": \"rgb(36,36,36)\", \"showbackground\": true, \"showgrid\": false, \"showline\": true, \"ticks\": \"outside\", \"zeroline\": false, \"zerolinecolor\": \"rgb(36,36,36)\"}, \"yaxis\": {\"backgroundcolor\": \"white\", \"gridcolor\": \"rgb(232,232,232)\", \"gridwidth\": 2, \"linecolor\": \"rgb(36,36,36)\", \"showbackground\": true, \"showgrid\": false, \"showline\": true, \"ticks\": \"outside\", \"zeroline\": false, \"zerolinecolor\": \"rgb(36,36,36)\"}, \"zaxis\": {\"backgroundcolor\": \"white\", \"gridcolor\": \"rgb(232,232,232)\", \"gridwidth\": 2, \"linecolor\": \"rgb(36,36,36)\", \"showbackground\": true, \"showgrid\": false, \"showline\": true, \"ticks\": \"outside\", \"zeroline\": false, \"zerolinecolor\": \"rgb(36,36,36)\"}}, \"shapedefaults\": {\"fillcolor\": \"black\", \"line\": {\"width\": 0}, \"opacity\": 0.3}, \"ternary\": {\"aaxis\": {\"gridcolor\": \"rgb(232,232,232)\", \"linecolor\": \"rgb(36,36,36)\", \"showgrid\": false, \"showline\": true, \"ticks\": \"outside\"}, \"baxis\": {\"gridcolor\": \"rgb(232,232,232)\", \"linecolor\": \"rgb(36,36,36)\", \"showgrid\": false, \"showline\": true, \"ticks\": \"outside\"}, \"bgcolor\": \"white\", \"caxis\": {\"gridcolor\": \"rgb(232,232,232)\", \"linecolor\": \"rgb(36,36,36)\", \"showgrid\": false, \"showline\": true, \"ticks\": \"outside\"}}, \"title\": {\"x\": 0.05}, \"xaxis\": {\"automargin\": true, \"gridcolor\": \"rgb(232,232,232)\", \"linecolor\": \"rgb(36,36,36)\", \"showgrid\": false, \"showline\": true, \"ticks\": \"outside\", \"title\": {\"standoff\": 15}, \"zeroline\": false, \"zerolinecolor\": \"rgb(36,36,36)\"}, \"yaxis\": {\"automargin\": true, \"gridcolor\": \"rgb(232,232,232)\", \"linecolor\": \"rgb(36,36,36)\", \"showgrid\": false, \"showline\": true, \"ticks\": \"outside\", \"title\": {\"standoff\": 15}, \"zeroline\": false, \"zerolinecolor\": \"rgb(36,36,36)\"}}}, \"title\": {\"text\": \"$\\\\text{(4) Simulated Data With Noise - Fitting Polynomials of Different Degrees}$\"}, \"xaxis\": {\"anchor\": \"y\", \"domain\": [0.0, 0.2888888888888889]}, \"xaxis2\": {\"anchor\": \"y2\", \"domain\": [0.35555555555555557, 0.6444444444444445]}, \"xaxis3\": {\"anchor\": \"y3\", \"domain\": [0.7111111111111111, 1.0]}, \"xaxis4\": {\"anchor\": \"y4\", \"domain\": [0.0, 0.2888888888888889]}, \"xaxis5\": {\"anchor\": \"y5\", \"domain\": [0.35555555555555557, 0.6444444444444445]}, \"xaxis6\": {\"anchor\": \"y6\", \"domain\": [0.7111111111111111, 1.0]}, \"yaxis\": {\"anchor\": \"x\", \"domain\": [0.625, 1.0]}, \"yaxis2\": {\"anchor\": \"x2\", \"domain\": [0.625, 1.0]}, \"yaxis3\": {\"anchor\": \"x3\", \"domain\": [0.625, 1.0]}, \"yaxis4\": {\"anchor\": \"x4\", \"domain\": [0.0, 0.375]}, \"yaxis5\": {\"anchor\": \"x5\", \"domain\": [0.0, 0.375]}, \"yaxis6\": {\"anchor\": \"x6\", \"domain\": [0.0, 0.375]}},                        {\"responsive\": true}                    ).then(function(){\n",
       "                            \n",
       "var gd = document.getElementById('b9cc1ec4-c163-4be4-b73e-83fc321c4ebf');\n",
       "var x = new MutationObserver(function (mutations, observer) {{\n",
       "        var display = window.getComputedStyle(gd).display;\n",
       "        if (!display || display === 'none') {{\n",
       "            console.log([gd, 'removed!']);\n",
       "            Plotly.purge(gd);\n",
       "            observer.disconnect();\n",
       "        }}\n",
       "}});\n",
       "\n",
       "// Listen for the removal of the full notebook cells\n",
       "var notebookContainer = gd.closest('#notebook-container');\n",
       "if (notebookContainer) {{\n",
       "    x.observe(notebookContainer, {childList: true});\n",
       "}}\n",
       "\n",
       "// Listen for the clearing of the current output cell\n",
       "var outputEl = gd.closest('.output');\n",
       "if (outputEl) {{\n",
       "    x.observe(outputEl, {childList: true});\n",
       "}}\n",
       "\n",
       "                        })                };                });            </script>        </div>"
      ]
     },
     "metadata": {},
     "output_type": "display_data"
    }
   ],
   "source": [
    "y = y_ + np.random.normal(size=len(y_))\n",
    "\n",
    "ks = range(2, 8)\n",
    "fig = make_subplots(2, 3, subplot_titles=list(ks))\n",
    "for i, k in enumerate(ks):\n",
    "    r,c = i//3+1, i%3+1 \n",
    "    \n",
    "    y_hat = make_pipeline(PolynomialFeatures(k), LinearRegression(fit_intercept=False)).fit(X, y).predict(X)\n",
    "    fig.add_traces([go.Scatter(x=x, y=y_, mode=\"markers\", name=\"Real Points\",  marker=dict(color=\"black\", opacity=.7), showlegend=False),\n",
    "                    go.Scatter(x=x, y=y, mode=\"markers\", name=\"Observed Points\",  marker=dict(color=\"red\", opacity=.7), showlegend=False), \n",
    "                    go.Scatter(x=x, y=y_hat, mode=\"markers\", name=\"Predicted Points\",  marker=dict(color=\"blue\", opacity=.7), showlegend=False)], rows=r, cols=c)\n",
    "    fig[\"layout\"][\"annotations\"][i][\"text\"] = rf\"$k={{0}}, MSE={{1}}$\".format(k, round(np.mean((y-y_hat)**2), 2))\n",
    "\n",
    "fig.update_layout(title=r\"$\\text{(4) Simulated Data With Noise - Fitting Polynomials of Different Degrees}$\", margin=dict(t=80)).show()"
   ]
  },
  {
   "cell_type": "markdown",
   "metadata": {
    "pycharm": {
     "name": "#%% md\n"
    }
   },
   "source": [
    "How is it that we are able to fit \"better\" models for $k$s larger than the true one? As we increase $k$ we enable the model\n",
    "more \"degrees of freedom\" to try and adapt itself to the observed data. The higher $k$ the more the learner will \"go after\n",
    "the noise\" and miss the real signal of the data. In other words, what we have just observed is what is known as **overfitting**.\n",
    "\n",
    "Later in the course we will learn methods for detection and avoidance of overfitting.\n",
    "\n",
    "\n",
    "## Fitting Polynomial Over Different Sample Noise Levels\n",
    "\n",
    "Next, let us set $k=4$ (the true values) and study the outputted models when training over different noise levels. Though\n",
    "we will only be changing the scale of the noise (i.e. the variance, $\\sigma^2$), changing other properties such as its\n",
    "distribution is interesting too. As we would expect, as we increase the scale of the noise our error increases. We can\n",
    "observe this also in a visual manner, where the fitted polynomial (in blue) less and less resembles the actual model (in black)."
   ]
  },
  {
   "cell_type": "code",
   "execution_count": 13,
   "metadata": {
    "pycharm": {
     "name": "#%%\n"
    }
   },
   "outputs": [
    {
     "data": {
      "application/vnd.plotly.v1+json": {
       "data": [
        {
         "marker": {
          "color": "black",
          "opacity": 0.7
         },
         "mode": "markers",
         "name": "Real Points",
         "showlegend": false,
         "x": [
          -1.2,
          -1.0358974358974358,
          -0.8717948717948718,
          -0.7076923076923076,
          -0.5435897435897435,
          -0.37948717948717947,
          -0.21538461538461529,
          -0.05128205128205132,
          0.11282051282051286,
          0.27692307692307705,
          0.441025641025641,
          0.6051282051282052,
          0.7692307692307694,
          0.9333333333333333,
          1.0974358974358973,
          1.2615384615384617,
          1.4256410256410257,
          1.5897435897435896,
          1.753846153846154,
          1.917948717948718
         ],
         "y": [
          5.8096,
          3.8381753317244733,
          2.522800884051074,
          1.7092797030916282,
          1.2608197821340592,
          1.058034061642376,
          0.9989404292566787,
          0.9989617197931566,
          0.9909257152440888,
          0.9250651447778439,
          0.7690176847388803,
          0.5078259586477458,
          0.14393753720107805,
          -0.3027950617283952,
          -0.7951143730918573,
          -1.278357984664403,
          -1.6804585370450331,
          -1.911943723656666,
          -1.8659362907461214,
          -1.418154037384138
         ],
         "type": "scatter",
         "xaxis": "x",
         "yaxis": "y"
        },
        {
         "marker": {
          "color": "red",
          "opacity": 0.7
         },
         "mode": "markers",
         "name": "Observed Points",
         "showlegend": false,
         "x": [
          -1.2,
          -1.0358974358974358,
          -0.8717948717948718,
          -0.7076923076923076,
          -0.5435897435897435,
          -0.37948717948717947,
          -0.21538461538461529,
          -0.05128205128205132,
          0.11282051282051286,
          0.27692307692307705,
          0.441025641025641,
          0.6051282051282052,
          0.7692307692307694,
          0.9333333333333333,
          1.0974358974358973,
          1.2615384615384617,
          1.4256410256410257,
          1.5897435897435896,
          1.753846153846154,
          1.917948717948718
         ],
         "y": [
          5.8096,
          3.8381753317244733,
          2.522800884051074,
          1.7092797030916282,
          1.2608197821340592,
          1.058034061642376,
          0.9989404292566787,
          0.9989617197931566,
          0.9909257152440888,
          0.9250651447778439,
          0.7690176847388803,
          0.5078259586477458,
          0.14393753720107805,
          -0.3027950617283952,
          -0.7951143730918573,
          -1.278357984664403,
          -1.6804585370450331,
          -1.911943723656666,
          -1.8659362907461214,
          -1.418154037384138
         ],
         "type": "scatter",
         "xaxis": "x",
         "yaxis": "y"
        },
        {
         "marker": {
          "color": "blue",
          "opacity": 0.7
         },
         "mode": "markers",
         "name": "Predicted Points",
         "showlegend": false,
         "x": [
          -1.2,
          -1.0358974358974358,
          -0.8717948717948718,
          -0.7076923076923076,
          -0.5435897435897435,
          -0.37948717948717947,
          -0.21538461538461529,
          -0.05128205128205132,
          0.11282051282051286,
          0.27692307692307705,
          0.441025641025641,
          0.6051282051282052,
          0.7692307692307694,
          0.9333333333333333,
          1.0974358974358973,
          1.2615384615384617,
          1.4256410256410257,
          1.5897435897435896,
          1.753846153846154,
          1.917948717948718
         ],
         "y": [
          5.809600000000001,
          3.8381753317244747,
          2.522800884051076,
          1.7092797030916305,
          1.2608197821340614,
          1.0580340616423782,
          0.9989404292566809,
          0.9989617197931587,
          0.9909257152440907,
          0.9250651447778455,
          0.7690176847388818,
          0.507825958647747,
          0.14393753720107894,
          -0.3027950617283945,
          -0.7951143730918568,
          -1.2783579846644022,
          -1.6804585370450345,
          -1.9119437236566674,
          -1.8659362907461232,
          -1.4181540373841424
         ],
         "type": "scatter",
         "xaxis": "x",
         "yaxis": "y"
        },
        {
         "marker": {
          "color": "black",
          "opacity": 0.7
         },
         "mode": "markers",
         "name": "Real Points",
         "showlegend": false,
         "x": [
          -1.2,
          -1.0358974358974358,
          -0.8717948717948718,
          -0.7076923076923076,
          -0.5435897435897435,
          -0.37948717948717947,
          -0.21538461538461529,
          -0.05128205128205132,
          0.11282051282051286,
          0.27692307692307705,
          0.441025641025641,
          0.6051282051282052,
          0.7692307692307694,
          0.9333333333333333,
          1.0974358974358973,
          1.2615384615384617,
          1.4256410256410257,
          1.5897435897435896,
          1.753846153846154,
          1.917948717948718
         ],
         "y": [
          5.8096,
          3.8381753317244733,
          2.522800884051074,
          1.7092797030916282,
          1.2608197821340592,
          1.058034061642376,
          0.9989404292566787,
          0.9989617197931566,
          0.9909257152440888,
          0.9250651447778439,
          0.7690176847388803,
          0.5078259586477458,
          0.14393753720107805,
          -0.3027950617283952,
          -0.7951143730918573,
          -1.278357984664403,
          -1.6804585370450331,
          -1.911943723656666,
          -1.8659362907461214,
          -1.418154037384138
         ],
         "type": "scatter",
         "xaxis": "x2",
         "yaxis": "y2"
        },
        {
         "marker": {
          "color": "red",
          "opacity": 0.7
         },
         "mode": "markers",
         "name": "Observed Points",
         "showlegend": false,
         "x": [
          -1.2,
          -1.0358974358974358,
          -0.8717948717948718,
          -0.7076923076923076,
          -0.5435897435897435,
          -0.37948717948717947,
          -0.21538461538461529,
          -0.05128205128205132,
          0.11282051282051286,
          0.27692307692307705,
          0.441025641025641,
          0.6051282051282052,
          0.7692307692307694,
          0.9333333333333333,
          1.0974358974358973,
          1.2615384615384617,
          1.4256410256410257,
          1.5897435897435896,
          1.753846153846154,
          1.917948717948718
         ],
         "y": [
          5.834427569741544,
          3.092760238823775,
          1.2779916178283486,
          2.3979652407948997,
          2.4247226251511975,
          1.2198753900033872,
          -0.6148363911855815,
          0.6051259228333834,
          0.6004875564592038,
          2.249420612843947,
          0.6674760489150015,
          -1.3534124655347313,
          -0.26604861784662936,
          -0.19934390667117335,
          -1.5688888256210665,
          -2.5844151669418487,
          -0.55495691375821,
          -1.0702936337151467,
          -2.4896102288974475,
          -3.5158727020865976
         ],
         "type": "scatter",
         "xaxis": "x2",
         "yaxis": "y2"
        },
        {
         "marker": {
          "color": "blue",
          "opacity": 0.7
         },
         "mode": "markers",
         "name": "Predicted Points",
         "showlegend": false,
         "x": [
          -1.2,
          -1.0358974358974358,
          -0.8717948717948718,
          -0.7076923076923076,
          -0.5435897435897435,
          -0.37948717948717947,
          -0.21538461538461529,
          -0.05128205128205132,
          0.11282051282051286,
          0.27692307692307705,
          0.441025641025641,
          0.6051282051282052,
          0.7692307692307694,
          0.9333333333333333,
          1.0974358974358973,
          1.2615384615384617,
          1.4256410256410257,
          1.5897435897435896,
          1.753846153846154,
          1.917948717948718
         ],
         "y": [
          5.115426384212481,
          3.6559365934919112,
          2.5905825159411386,
          1.8393988423490393,
          1.3301127503877603,
          0.998143904612706,
          0.7866044564625451,
          0.6462990442592084,
          0.5357247932078886,
          0.4210713153970411,
          0.2762207097983839,
          0.08274756226689679,
          -0.17008105445917776,
          -0.4853055807583348,
          -0.8582739701258074,
          -1.276641689173568,
          -1.72037171763032,
          -2.161734548341513,
          -2.5653081872693315,
          -2.8879781534926963
         ],
         "type": "scatter",
         "xaxis": "x2",
         "yaxis": "y2"
        },
        {
         "marker": {
          "color": "black",
          "opacity": 0.7
         },
         "mode": "markers",
         "name": "Real Points",
         "showlegend": false,
         "x": [
          -1.2,
          -1.0358974358974358,
          -0.8717948717948718,
          -0.7076923076923076,
          -0.5435897435897435,
          -0.37948717948717947,
          -0.21538461538461529,
          -0.05128205128205132,
          0.11282051282051286,
          0.27692307692307705,
          0.441025641025641,
          0.6051282051282052,
          0.7692307692307694,
          0.9333333333333333,
          1.0974358974358973,
          1.2615384615384617,
          1.4256410256410257,
          1.5897435897435896,
          1.753846153846154,
          1.917948717948718
         ],
         "y": [
          5.8096,
          3.8381753317244733,
          2.522800884051074,
          1.7092797030916282,
          1.2608197821340592,
          1.058034061642376,
          0.9989404292566787,
          0.9989617197931566,
          0.9909257152440888,
          0.9250651447778439,
          0.7690176847388803,
          0.5078259586477458,
          0.14393753720107805,
          -0.3027950617283952,
          -0.7951143730918573,
          -1.278357984664403,
          -1.6804585370450331,
          -1.911943723656666,
          -1.8659362907461214,
          -1.418154037384138
         ],
         "type": "scatter",
         "xaxis": "x3",
         "yaxis": "y3"
        },
        {
         "marker": {
          "color": "red",
          "opacity": 0.7
         },
         "mode": "markers",
         "name": "Observed Points",
         "showlegend": false,
         "x": [
          -1.2,
          -1.0358974358974358,
          -0.8717948717948718,
          -0.7076923076923076,
          -0.5435897435897435,
          -0.37948717948717947,
          -0.21538461538461529,
          -0.05128205128205132,
          0.11282051282051286,
          0.27692307692307705,
          0.441025641025641,
          0.6051282051282052,
          0.7692307692307694,
          0.9333333333333333,
          1.0974358974358973,
          1.2615384615384617,
          1.4256410256410257,
          1.5897435897435896,
          1.753846153846154,
          1.917948717948718
         ],
         "y": [
          4.060064324208184,
          0.3415226736014474,
          0.9809307005089314,
          0.9298544799675921,
          -0.43669422329113905,
          3.5945893582614437,
          1.9889850059390501,
          2.101392919834338,
          -0.6898823606414323,
          -0.5713938301707876,
          -1.2844979944027959,
          -1.1942299705669566,
          -1.9142376272323216,
          0.5458984868676097,
          -1.6361294784773788,
          -3.2588606143723764,
          -0.38888206482777443,
          -1.97558239464191,
          -4.233111537765634,
          1.9986673664305767
         ],
         "type": "scatter",
         "xaxis": "x3",
         "yaxis": "y3"
        },
        {
         "marker": {
          "color": "blue",
          "opacity": 0.7
         },
         "mode": "markers",
         "name": "Predicted Points",
         "showlegend": false,
         "x": [
          -1.2,
          -1.0358974358974358,
          -0.8717948717948718,
          -0.7076923076923076,
          -0.5435897435897435,
          -0.37948717948717947,
          -0.21538461538461529,
          -0.05128205128205132,
          0.11282051282051286,
          0.27692307692307705,
          0.441025641025641,
          0.6051282051282052,
          0.7692307692307694,
          0.9333333333333333,
          1.0974358974358973,
          1.2615384615384617,
          1.4256410256410257,
          1.5897435897435896,
          1.753846153846154,
          1.917948717948718
         ],
         "y": [
          2.808489748318624,
          1.9081194730098503,
          1.3862336688902168,
          1.1212537928596173,
          1.0091087002135823,
          0.9632346446432757,
          0.914575278235495,
          0.8115816514726725,
          0.6202122132328736,
          0.32393281078979796,
          -0.07628331018721962,
          -0.5619555056332124,
          -1.0970957330875784,
          -1.6282085516940807,
          -2.0842911222008507,
          -2.376833206960384,
          -2.3998171699295443,
          -2.0297179766695588,
          -1.125503194346017,
          0.4713670082711094
         ],
         "type": "scatter",
         "xaxis": "x3",
         "yaxis": "y3"
        },
        {
         "marker": {
          "color": "black",
          "opacity": 0.7
         },
         "mode": "markers",
         "name": "Real Points",
         "showlegend": false,
         "x": [
          -1.2,
          -1.0358974358974358,
          -0.8717948717948718,
          -0.7076923076923076,
          -0.5435897435897435,
          -0.37948717948717947,
          -0.21538461538461529,
          -0.05128205128205132,
          0.11282051282051286,
          0.27692307692307705,
          0.441025641025641,
          0.6051282051282052,
          0.7692307692307694,
          0.9333333333333333,
          1.0974358974358973,
          1.2615384615384617,
          1.4256410256410257,
          1.5897435897435896,
          1.753846153846154,
          1.917948717948718
         ],
         "y": [
          5.8096,
          3.8381753317244733,
          2.522800884051074,
          1.7092797030916282,
          1.2608197821340592,
          1.058034061642376,
          0.9989404292566787,
          0.9989617197931566,
          0.9909257152440888,
          0.9250651447778439,
          0.7690176847388803,
          0.5078259586477458,
          0.14393753720107805,
          -0.3027950617283952,
          -0.7951143730918573,
          -1.278357984664403,
          -1.6804585370450331,
          -1.911943723656666,
          -1.8659362907461214,
          -1.418154037384138
         ],
         "type": "scatter",
         "xaxis": "x4",
         "yaxis": "y4"
        },
        {
         "marker": {
          "color": "red",
          "opacity": 0.7
         },
         "mode": "markers",
         "name": "Observed Points",
         "showlegend": false,
         "x": [
          -1.2,
          -1.0358974358974358,
          -0.8717948717948718,
          -0.7076923076923076,
          -0.5435897435897435,
          -0.37948717948717947,
          -0.21538461538461529,
          -0.05128205128205132,
          0.11282051282051286,
          0.27692307692307705,
          0.441025641025641,
          0.6051282051282052,
          0.7692307692307694,
          0.9333333333333333,
          1.0974358974358973,
          1.2615384615384617,
          1.4256410256410257,
          1.5897435897435896,
          1.753846153846154,
          1.917948717948718
         ],
         "y": [
          8.879018650193357,
          5.444230344360662,
          3.6847459434800616,
          6.92309549944107,
          4.878167989371281,
          3.7021304257246044,
          2.4072669277905967,
          -1.6285127069442793,
          3.5742448099504758,
          1.316470094070341,
          0.18641689939259398,
          -2.855374322685069,
          0.2341683069144032,
          -4.08581649690232,
          -2.4878449154508595,
          -2.955771024849055,
          -4.51895472146336,
          -4.8812039737931245,
          0.7686196566655425,
          -0.8162861532674083
         ],
         "type": "scatter",
         "xaxis": "x4",
         "yaxis": "y4"
        },
        {
         "marker": {
          "color": "blue",
          "opacity": 0.7
         },
         "mode": "markers",
         "name": "Predicted Points",
         "showlegend": false,
         "x": [
          -1.2,
          -1.0358974358974358,
          -0.8717948717948718,
          -0.7076923076923076,
          -0.5435897435897435,
          -0.37948717948717947,
          -0.21538461538461529,
          -0.05128205128205132,
          0.11282051282051286,
          0.27692307692307705,
          0.441025641025641,
          0.6051282051282052,
          0.7692307692307694,
          0.9333333333333333,
          1.0974358974358973,
          1.2615384615384617,
          1.4256410256410257,
          1.5897435897435896,
          1.753846153846154,
          1.917948717948718
         ],
         "y": [
          8.057367920723962,
          6.583000680431484,
          5.480979097382033,
          4.634440701863851,
          3.944484572473335,
          3.3301713361150216,
          2.728523168001594,
          2.094523791653882,
          1.4011184789008577,
          0.639214049879641,
          -0.18232112696450273,
          -1.0366571348781666,
          -1.8790025087997952,
          -2.646604235359688,
          -3.25874775288,
          -3.616756951374745,
          -3.603994172549782,
          -3.0858602098028367,
          -1.9097943082234736,
          0.09472583540686697
         ],
         "type": "scatter",
         "xaxis": "x4",
         "yaxis": "y4"
        },
        {
         "marker": {
          "color": "black",
          "opacity": 0.7
         },
         "mode": "markers",
         "name": "Real Points",
         "showlegend": false,
         "x": [
          -1.2,
          -1.0358974358974358,
          -0.8717948717948718,
          -0.7076923076923076,
          -0.5435897435897435,
          -0.37948717948717947,
          -0.21538461538461529,
          -0.05128205128205132,
          0.11282051282051286,
          0.27692307692307705,
          0.441025641025641,
          0.6051282051282052,
          0.7692307692307694,
          0.9333333333333333,
          1.0974358974358973,
          1.2615384615384617,
          1.4256410256410257,
          1.5897435897435896,
          1.753846153846154,
          1.917948717948718
         ],
         "y": [
          5.8096,
          3.8381753317244733,
          2.522800884051074,
          1.7092797030916282,
          1.2608197821340592,
          1.058034061642376,
          0.9989404292566787,
          0.9989617197931566,
          0.9909257152440888,
          0.9250651447778439,
          0.7690176847388803,
          0.5078259586477458,
          0.14393753720107805,
          -0.3027950617283952,
          -0.7951143730918573,
          -1.278357984664403,
          -1.6804585370450331,
          -1.911943723656666,
          -1.8659362907461214,
          -1.418154037384138
         ],
         "type": "scatter",
         "xaxis": "x5",
         "yaxis": "y5"
        },
        {
         "marker": {
          "color": "red",
          "opacity": 0.7
         },
         "mode": "markers",
         "name": "Observed Points",
         "showlegend": false,
         "x": [
          -1.2,
          -1.0358974358974358,
          -0.8717948717948718,
          -0.7076923076923076,
          -0.5435897435897435,
          -0.37948717948717947,
          -0.21538461538461529,
          -0.05128205128205132,
          0.11282051282051286,
          0.27692307692307705,
          0.441025641025641,
          0.6051282051282052,
          0.7692307692307694,
          0.9333333333333333,
          1.0974358974358973,
          1.2615384615384617,
          1.4256410256410257,
          1.5897435897435896,
          1.753846153846154,
          1.917948717948718
         ],
         "y": [
          2.957569994437214,
          3.6380654840819804,
          9.468486094330581,
          -5.168008384607166,
          3.319175181888526,
          -2.46864298253905,
          -0.7139825728798398,
          2.5892901670109376,
          1.835453627049433,
          5.680738228994003,
          -0.950912483495781,
          7.398752166571969,
          -1.270700863290324,
          1.1464883853179078,
          -6.934837158740915,
          -5.6447551603483195,
          -0.4162275342981079,
          -9.283201906256414,
          4.671401823100068,
          -5.797109594284192
         ],
         "type": "scatter",
         "xaxis": "x5",
         "yaxis": "y5"
        },
        {
         "marker": {
          "color": "blue",
          "opacity": 0.7
         },
         "mode": "markers",
         "name": "Predicted Points",
         "showlegend": false,
         "x": [
          -1.2,
          -1.0358974358974358,
          -0.8717948717948718,
          -0.7076923076923076,
          -0.5435897435897435,
          -0.37948717948717947,
          -0.21538461538461529,
          -0.05128205128205132,
          0.11282051282051286,
          0.27692307692307705,
          0.441025641025641,
          0.6051282051282052,
          0.7692307692307694,
          0.9333333333333333,
          1.0974358974358973,
          1.2615384615384617,
          1.4256410256410257,
          1.5897435897435896,
          1.753846153846154,
          1.917948717948718
         ],
         "y": [
          5.38855975260665,
          2.8485680318816327,
          1.4553996089284882,
          0.8926248291930161,
          0.8828109028819121,
          1.187521904962757,
          1.6073187751640199,
          1.9817593179750577,
          2.1893982026461147,
          2.147786963188323,
          1.8134739983737023,
          1.1820045717351595,
          0.28792081156649046,
          -0.7952382890776215,
          -1.9549368723816047,
          -3.0396422157690073,
          -3.8588247319024753,
          -4.1829579686837794,
          -3.7435186092537993,
          -2.2329864719925165
         ],
         "type": "scatter",
         "xaxis": "x5",
         "yaxis": "y5"
        },
        {
         "marker": {
          "color": "black",
          "opacity": 0.7
         },
         "mode": "markers",
         "name": "Real Points",
         "showlegend": false,
         "x": [
          -1.2,
          -1.0358974358974358,
          -0.8717948717948718,
          -0.7076923076923076,
          -0.5435897435897435,
          -0.37948717948717947,
          -0.21538461538461529,
          -0.05128205128205132,
          0.11282051282051286,
          0.27692307692307705,
          0.441025641025641,
          0.6051282051282052,
          0.7692307692307694,
          0.9333333333333333,
          1.0974358974358973,
          1.2615384615384617,
          1.4256410256410257,
          1.5897435897435896,
          1.753846153846154,
          1.917948717948718
         ],
         "y": [
          5.8096,
          3.8381753317244733,
          2.522800884051074,
          1.7092797030916282,
          1.2608197821340592,
          1.058034061642376,
          0.9989404292566787,
          0.9989617197931566,
          0.9909257152440888,
          0.9250651447778439,
          0.7690176847388803,
          0.5078259586477458,
          0.14393753720107805,
          -0.3027950617283952,
          -0.7951143730918573,
          -1.278357984664403,
          -1.6804585370450331,
          -1.911943723656666,
          -1.8659362907461214,
          -1.418154037384138
         ],
         "type": "scatter",
         "xaxis": "x6",
         "yaxis": "y6"
        },
        {
         "marker": {
          "color": "red",
          "opacity": 0.7
         },
         "mode": "markers",
         "name": "Observed Points",
         "showlegend": false,
         "x": [
          -1.2,
          -1.0358974358974358,
          -0.8717948717948718,
          -0.7076923076923076,
          -0.5435897435897435,
          -0.37948717948717947,
          -0.21538461538461529,
          -0.05128205128205132,
          0.11282051282051286,
          0.27692307692307705,
          0.441025641025641,
          0.6051282051282052,
          0.7692307692307694,
          0.9333333333333333,
          1.0974358974358973,
          1.2615384615384617,
          1.4256410256410257,
          1.5897435897435896,
          1.753846153846154,
          1.917948717948718
         ],
         "y": [
          7.752682936077846,
          5.227787797320303,
          0.6614940490290437,
          4.492716095542977,
          -5.394627367669104,
          4.774589879510472,
          5.156727878484219,
          1.762701553973005,
          -6.743444846284882,
          -1.7556718305652725,
          -4.40680861545726,
          -3.749285629137928,
          -3.496571334570897,
          -12.026479437851794,
          -4.223887633240883,
          2.133408841639091,
          4.4194097464765685,
          7.928594561018333,
          1.1833471055116327,
          5.994525837754546
         ],
         "type": "scatter",
         "xaxis": "x6",
         "yaxis": "y6"
        },
        {
         "marker": {
          "color": "blue",
          "opacity": 0.7
         },
         "mode": "markers",
         "name": "Predicted Points",
         "showlegend": false,
         "x": [
          -1.2,
          -1.0358974358974358,
          -0.8717948717948718,
          -0.7076923076923076,
          -0.5435897435897435,
          -0.37948717948717947,
          -0.21538461538461529,
          -0.05128205128205132,
          0.11282051282051286,
          0.27692307692307705,
          0.441025641025641,
          0.6051282051282052,
          0.7692307692307694,
          0.9333333333333333,
          1.0974358974358973,
          1.2615384615384617,
          1.4256410256410257,
          1.5897435897435896,
          1.753846153846154,
          1.917948717948718
         ],
         "y": [
          5.432063224722721,
          5.256759938788329,
          4.55160151947797,
          3.477948265974328,
          2.181461417341996,
          0.792103152527478,
          -0.5758634096408133,
          -1.8238742104525498,
          -2.8690642513154994,
          -3.6442675937555116,
          -4.098017359416528,
          -4.194545730060581,
          -3.9137839475677874,
          -3.2513623139363586,
          -2.218610191282592,
          -0.8425560018408672,
          0.8340727720363296,
          2.7528495878784405,
          4.839648843096811,
          7.004645874984698
         ],
         "type": "scatter",
         "xaxis": "x6",
         "yaxis": "y6"
        }
       ],
       "layout": {
        "template": {
         "data": {
          "barpolar": [
           {
            "marker": {
             "line": {
              "color": "white",
              "width": 0.5
             },
             "pattern": {
              "fillmode": "overlay",
              "size": 10,
              "solidity": 0.2
             }
            },
            "type": "barpolar"
           }
          ],
          "bar": [
           {
            "error_x": {
             "color": "rgb(36,36,36)"
            },
            "error_y": {
             "color": "rgb(36,36,36)"
            },
            "marker": {
             "line": {
              "color": "white",
              "width": 0.5
             },
             "pattern": {
              "fillmode": "overlay",
              "size": 10,
              "solidity": 0.2
             }
            },
            "type": "bar"
           }
          ],
          "carpet": [
           {
            "aaxis": {
             "endlinecolor": "rgb(36,36,36)",
             "gridcolor": "white",
             "linecolor": "white",
             "minorgridcolor": "white",
             "startlinecolor": "rgb(36,36,36)"
            },
            "baxis": {
             "endlinecolor": "rgb(36,36,36)",
             "gridcolor": "white",
             "linecolor": "white",
             "minorgridcolor": "white",
             "startlinecolor": "rgb(36,36,36)"
            },
            "type": "carpet"
           }
          ],
          "choropleth": [
           {
            "colorbar": {
             "outlinewidth": 1,
             "tickcolor": "rgb(36,36,36)",
             "ticks": "outside"
            },
            "type": "choropleth"
           }
          ],
          "contourcarpet": [
           {
            "colorbar": {
             "outlinewidth": 1,
             "tickcolor": "rgb(36,36,36)",
             "ticks": "outside"
            },
            "type": "contourcarpet"
           }
          ],
          "contour": [
           {
            "colorbar": {
             "outlinewidth": 1,
             "tickcolor": "rgb(36,36,36)",
             "ticks": "outside"
            },
            "colorscale": [
             [
              0.0,
              "#440154"
             ],
             [
              0.1111111111111111,
              "#482878"
             ],
             [
              0.2222222222222222,
              "#3e4989"
             ],
             [
              0.3333333333333333,
              "#31688e"
             ],
             [
              0.4444444444444444,
              "#26828e"
             ],
             [
              0.5555555555555556,
              "#1f9e89"
             ],
             [
              0.6666666666666666,
              "#35b779"
             ],
             [
              0.7777777777777778,
              "#6ece58"
             ],
             [
              0.8888888888888888,
              "#b5de2b"
             ],
             [
              1.0,
              "#fde725"
             ]
            ],
            "type": "contour"
           }
          ],
          "heatmapgl": [
           {
            "colorbar": {
             "outlinewidth": 1,
             "tickcolor": "rgb(36,36,36)",
             "ticks": "outside"
            },
            "colorscale": [
             [
              0.0,
              "#440154"
             ],
             [
              0.1111111111111111,
              "#482878"
             ],
             [
              0.2222222222222222,
              "#3e4989"
             ],
             [
              0.3333333333333333,
              "#31688e"
             ],
             [
              0.4444444444444444,
              "#26828e"
             ],
             [
              0.5555555555555556,
              "#1f9e89"
             ],
             [
              0.6666666666666666,
              "#35b779"
             ],
             [
              0.7777777777777778,
              "#6ece58"
             ],
             [
              0.8888888888888888,
              "#b5de2b"
             ],
             [
              1.0,
              "#fde725"
             ]
            ],
            "type": "heatmapgl"
           }
          ],
          "heatmap": [
           {
            "colorbar": {
             "outlinewidth": 1,
             "tickcolor": "rgb(36,36,36)",
             "ticks": "outside"
            },
            "colorscale": [
             [
              0.0,
              "#440154"
             ],
             [
              0.1111111111111111,
              "#482878"
             ],
             [
              0.2222222222222222,
              "#3e4989"
             ],
             [
              0.3333333333333333,
              "#31688e"
             ],
             [
              0.4444444444444444,
              "#26828e"
             ],
             [
              0.5555555555555556,
              "#1f9e89"
             ],
             [
              0.6666666666666666,
              "#35b779"
             ],
             [
              0.7777777777777778,
              "#6ece58"
             ],
             [
              0.8888888888888888,
              "#b5de2b"
             ],
             [
              1.0,
              "#fde725"
             ]
            ],
            "type": "heatmap"
           }
          ],
          "histogram2dcontour": [
           {
            "colorbar": {
             "outlinewidth": 1,
             "tickcolor": "rgb(36,36,36)",
             "ticks": "outside"
            },
            "colorscale": [
             [
              0.0,
              "#440154"
             ],
             [
              0.1111111111111111,
              "#482878"
             ],
             [
              0.2222222222222222,
              "#3e4989"
             ],
             [
              0.3333333333333333,
              "#31688e"
             ],
             [
              0.4444444444444444,
              "#26828e"
             ],
             [
              0.5555555555555556,
              "#1f9e89"
             ],
             [
              0.6666666666666666,
              "#35b779"
             ],
             [
              0.7777777777777778,
              "#6ece58"
             ],
             [
              0.8888888888888888,
              "#b5de2b"
             ],
             [
              1.0,
              "#fde725"
             ]
            ],
            "type": "histogram2dcontour"
           }
          ],
          "histogram2d": [
           {
            "colorbar": {
             "outlinewidth": 1,
             "tickcolor": "rgb(36,36,36)",
             "ticks": "outside"
            },
            "colorscale": [
             [
              0.0,
              "#440154"
             ],
             [
              0.1111111111111111,
              "#482878"
             ],
             [
              0.2222222222222222,
              "#3e4989"
             ],
             [
              0.3333333333333333,
              "#31688e"
             ],
             [
              0.4444444444444444,
              "#26828e"
             ],
             [
              0.5555555555555556,
              "#1f9e89"
             ],
             [
              0.6666666666666666,
              "#35b779"
             ],
             [
              0.7777777777777778,
              "#6ece58"
             ],
             [
              0.8888888888888888,
              "#b5de2b"
             ],
             [
              1.0,
              "#fde725"
             ]
            ],
            "type": "histogram2d"
           }
          ],
          "histogram": [
           {
            "marker": {
             "line": {
              "color": "white",
              "width": 0.6
             }
            },
            "type": "histogram"
           }
          ],
          "mesh3d": [
           {
            "colorbar": {
             "outlinewidth": 1,
             "tickcolor": "rgb(36,36,36)",
             "ticks": "outside"
            },
            "type": "mesh3d"
           }
          ],
          "parcoords": [
           {
            "line": {
             "colorbar": {
              "outlinewidth": 1,
              "tickcolor": "rgb(36,36,36)",
              "ticks": "outside"
             }
            },
            "type": "parcoords"
           }
          ],
          "pie": [
           {
            "automargin": true,
            "type": "pie"
           }
          ],
          "scatter3d": [
           {
            "line": {
             "colorbar": {
              "outlinewidth": 1,
              "tickcolor": "rgb(36,36,36)",
              "ticks": "outside"
             }
            },
            "marker": {
             "colorbar": {
              "outlinewidth": 1,
              "tickcolor": "rgb(36,36,36)",
              "ticks": "outside"
             }
            },
            "type": "scatter3d"
           }
          ],
          "scattercarpet": [
           {
            "marker": {
             "colorbar": {
              "outlinewidth": 1,
              "tickcolor": "rgb(36,36,36)",
              "ticks": "outside"
             }
            },
            "type": "scattercarpet"
           }
          ],
          "scattergeo": [
           {
            "marker": {
             "colorbar": {
              "outlinewidth": 1,
              "tickcolor": "rgb(36,36,36)",
              "ticks": "outside"
             }
            },
            "type": "scattergeo"
           }
          ],
          "scattergl": [
           {
            "marker": {
             "colorbar": {
              "outlinewidth": 1,
              "tickcolor": "rgb(36,36,36)",
              "ticks": "outside"
             }
            },
            "type": "scattergl"
           }
          ],
          "scattermapbox": [
           {
            "marker": {
             "colorbar": {
              "outlinewidth": 1,
              "tickcolor": "rgb(36,36,36)",
              "ticks": "outside"
             }
            },
            "type": "scattermapbox"
           }
          ],
          "scatterpolargl": [
           {
            "marker": {
             "colorbar": {
              "outlinewidth": 1,
              "tickcolor": "rgb(36,36,36)",
              "ticks": "outside"
             }
            },
            "type": "scatterpolargl"
           }
          ],
          "scatterpolar": [
           {
            "marker": {
             "colorbar": {
              "outlinewidth": 1,
              "tickcolor": "rgb(36,36,36)",
              "ticks": "outside"
             }
            },
            "type": "scatterpolar"
           }
          ],
          "scatter": [
           {
            "marker": {
             "colorbar": {
              "outlinewidth": 1,
              "tickcolor": "rgb(36,36,36)",
              "ticks": "outside"
             }
            },
            "type": "scatter"
           }
          ],
          "scatterternary": [
           {
            "marker": {
             "colorbar": {
              "outlinewidth": 1,
              "tickcolor": "rgb(36,36,36)",
              "ticks": "outside"
             }
            },
            "type": "scatterternary"
           }
          ],
          "surface": [
           {
            "colorbar": {
             "outlinewidth": 1,
             "tickcolor": "rgb(36,36,36)",
             "ticks": "outside"
            },
            "colorscale": [
             [
              0.0,
              "#440154"
             ],
             [
              0.1111111111111111,
              "#482878"
             ],
             [
              0.2222222222222222,
              "#3e4989"
             ],
             [
              0.3333333333333333,
              "#31688e"
             ],
             [
              0.4444444444444444,
              "#26828e"
             ],
             [
              0.5555555555555556,
              "#1f9e89"
             ],
             [
              0.6666666666666666,
              "#35b779"
             ],
             [
              0.7777777777777778,
              "#6ece58"
             ],
             [
              0.8888888888888888,
              "#b5de2b"
             ],
             [
              1.0,
              "#fde725"
             ]
            ],
            "type": "surface"
           }
          ],
          "table": [
           {
            "cells": {
             "fill": {
              "color": "rgb(237,237,237)"
             },
             "line": {
              "color": "white"
             }
            },
            "header": {
             "fill": {
              "color": "rgb(217,217,217)"
             },
             "line": {
              "color": "white"
             }
            },
            "type": "table"
           }
          ]
         },
         "layout": {
          "annotationdefaults": {
           "arrowhead": 0,
           "arrowwidth": 1
          },
          "autotypenumbers": "strict",
          "coloraxis": {
           "colorbar": {
            "outlinewidth": 1,
            "tickcolor": "rgb(36,36,36)",
            "ticks": "outside"
           }
          },
          "colorscale": {
           "diverging": [
            [
             0.0,
             "rgb(103,0,31)"
            ],
            [
             0.1,
             "rgb(178,24,43)"
            ],
            [
             0.2,
             "rgb(214,96,77)"
            ],
            [
             0.3,
             "rgb(244,165,130)"
            ],
            [
             0.4,
             "rgb(253,219,199)"
            ],
            [
             0.5,
             "rgb(247,247,247)"
            ],
            [
             0.6,
             "rgb(209,229,240)"
            ],
            [
             0.7,
             "rgb(146,197,222)"
            ],
            [
             0.8,
             "rgb(67,147,195)"
            ],
            [
             0.9,
             "rgb(33,102,172)"
            ],
            [
             1.0,
             "rgb(5,48,97)"
            ]
           ],
           "sequential": [
            [
             0.0,
             "#440154"
            ],
            [
             0.1111111111111111,
             "#482878"
            ],
            [
             0.2222222222222222,
             "#3e4989"
            ],
            [
             0.3333333333333333,
             "#31688e"
            ],
            [
             0.4444444444444444,
             "#26828e"
            ],
            [
             0.5555555555555556,
             "#1f9e89"
            ],
            [
             0.6666666666666666,
             "#35b779"
            ],
            [
             0.7777777777777778,
             "#6ece58"
            ],
            [
             0.8888888888888888,
             "#b5de2b"
            ],
            [
             1.0,
             "#fde725"
            ]
           ],
           "sequentialminus": [
            [
             0.0,
             "#440154"
            ],
            [
             0.1111111111111111,
             "#482878"
            ],
            [
             0.2222222222222222,
             "#3e4989"
            ],
            [
             0.3333333333333333,
             "#31688e"
            ],
            [
             0.4444444444444444,
             "#26828e"
            ],
            [
             0.5555555555555556,
             "#1f9e89"
            ],
            [
             0.6666666666666666,
             "#35b779"
            ],
            [
             0.7777777777777778,
             "#6ece58"
            ],
            [
             0.8888888888888888,
             "#b5de2b"
            ],
            [
             1.0,
             "#fde725"
            ]
           ]
          },
          "colorway": [
           "#1F77B4",
           "#FF7F0E",
           "#2CA02C",
           "#D62728",
           "#9467BD",
           "#8C564B",
           "#E377C2",
           "#7F7F7F",
           "#BCBD22",
           "#17BECF"
          ],
          "font": {
           "color": "rgb(36,36,36)"
          },
          "geo": {
           "bgcolor": "white",
           "lakecolor": "white",
           "landcolor": "white",
           "showlakes": true,
           "showland": true,
           "subunitcolor": "white"
          },
          "hoverlabel": {
           "align": "left"
          },
          "hovermode": "closest",
          "mapbox": {
           "style": "light"
          },
          "paper_bgcolor": "white",
          "plot_bgcolor": "white",
          "polar": {
           "angularaxis": {
            "gridcolor": "rgb(232,232,232)",
            "linecolor": "rgb(36,36,36)",
            "showgrid": false,
            "showline": true,
            "ticks": "outside"
           },
           "bgcolor": "white",
           "radialaxis": {
            "gridcolor": "rgb(232,232,232)",
            "linecolor": "rgb(36,36,36)",
            "showgrid": false,
            "showline": true,
            "ticks": "outside"
           }
          },
          "scene": {
           "xaxis": {
            "backgroundcolor": "white",
            "gridcolor": "rgb(232,232,232)",
            "gridwidth": 2,
            "linecolor": "rgb(36,36,36)",
            "showbackground": true,
            "showgrid": false,
            "showline": true,
            "ticks": "outside",
            "zeroline": false,
            "zerolinecolor": "rgb(36,36,36)"
           },
           "yaxis": {
            "backgroundcolor": "white",
            "gridcolor": "rgb(232,232,232)",
            "gridwidth": 2,
            "linecolor": "rgb(36,36,36)",
            "showbackground": true,
            "showgrid": false,
            "showline": true,
            "ticks": "outside",
            "zeroline": false,
            "zerolinecolor": "rgb(36,36,36)"
           },
           "zaxis": {
            "backgroundcolor": "white",
            "gridcolor": "rgb(232,232,232)",
            "gridwidth": 2,
            "linecolor": "rgb(36,36,36)",
            "showbackground": true,
            "showgrid": false,
            "showline": true,
            "ticks": "outside",
            "zeroline": false,
            "zerolinecolor": "rgb(36,36,36)"
           }
          },
          "shapedefaults": {
           "fillcolor": "black",
           "line": {
            "width": 0
           },
           "opacity": 0.3
          },
          "ternary": {
           "aaxis": {
            "gridcolor": "rgb(232,232,232)",
            "linecolor": "rgb(36,36,36)",
            "showgrid": false,
            "showline": true,
            "ticks": "outside"
           },
           "baxis": {
            "gridcolor": "rgb(232,232,232)",
            "linecolor": "rgb(36,36,36)",
            "showgrid": false,
            "showline": true,
            "ticks": "outside"
           },
           "bgcolor": "white",
           "caxis": {
            "gridcolor": "rgb(232,232,232)",
            "linecolor": "rgb(36,36,36)",
            "showgrid": false,
            "showline": true,
            "ticks": "outside"
           }
          },
          "title": {
           "x": 0.05
          },
          "xaxis": {
           "automargin": true,
           "gridcolor": "rgb(232,232,232)",
           "linecolor": "rgb(36,36,36)",
           "showgrid": false,
           "showline": true,
           "ticks": "outside",
           "title": {
            "standoff": 15
           },
           "zeroline": false,
           "zerolinecolor": "rgb(36,36,36)"
          },
          "yaxis": {
           "automargin": true,
           "gridcolor": "rgb(232,232,232)",
           "linecolor": "rgb(36,36,36)",
           "showgrid": false,
           "showline": true,
           "ticks": "outside",
           "title": {
            "standoff": 15
           },
           "zeroline": false,
           "zerolinecolor": "rgb(36,36,36)"
          },
          "margin": {
           "b": 0,
           "l": 20,
           "r": 20,
           "t": 40
          }
         }
        },
        "xaxis": {
         "anchor": "y",
         "domain": [
          0.0,
          0.2888888888888889
         ]
        },
        "yaxis": {
         "anchor": "x",
         "domain": [
          0.625,
          1.0
         ]
        },
        "xaxis2": {
         "anchor": "y2",
         "domain": [
          0.35555555555555557,
          0.6444444444444445
         ]
        },
        "yaxis2": {
         "anchor": "x2",
         "domain": [
          0.625,
          1.0
         ]
        },
        "xaxis3": {
         "anchor": "y3",
         "domain": [
          0.7111111111111111,
          1.0
         ]
        },
        "yaxis3": {
         "anchor": "x3",
         "domain": [
          0.625,
          1.0
         ]
        },
        "xaxis4": {
         "anchor": "y4",
         "domain": [
          0.0,
          0.2888888888888889
         ]
        },
        "yaxis4": {
         "anchor": "x4",
         "domain": [
          0.0,
          0.375
         ]
        },
        "xaxis5": {
         "anchor": "y5",
         "domain": [
          0.35555555555555557,
          0.6444444444444445
         ]
        },
        "yaxis5": {
         "anchor": "x5",
         "domain": [
          0.0,
          0.375
         ]
        },
        "xaxis6": {
         "anchor": "y6",
         "domain": [
          0.7111111111111111,
          1.0
         ]
        },
        "yaxis6": {
         "anchor": "x6",
         "domain": [
          0.0,
          0.375
         ]
        },
        "annotations": [
         {
          "font": {
           "size": 16
          },
          "showarrow": false,
          "text": "$\\sigma^2=0, MSE=0.0$",
          "x": 0.14444444444444446,
          "xanchor": "center",
          "xref": "paper",
          "y": 1.0,
          "yanchor": "bottom",
          "yref": "paper"
         },
         {
          "font": {
           "size": 16
          },
          "showarrow": false,
          "text": "$\\sigma^2=1, MSE=0.85$",
          "x": 0.5,
          "xanchor": "center",
          "xref": "paper",
          "y": 1.0,
          "yanchor": "bottom",
          "yref": "paper"
         },
         {
          "font": {
           "size": 16
          },
          "showarrow": false,
          "text": "$\\sigma^2=2, MSE=2.14$",
          "x": 0.8555555555555556,
          "xanchor": "center",
          "xref": "paper",
          "y": 1.0,
          "yanchor": "bottom",
          "yref": "paper"
         },
         {
          "font": {
           "size": 16
          },
          "showarrow": false,
          "text": "$\\sigma^2=3, MSE=2.68$",
          "x": 0.14444444444444446,
          "xanchor": "center",
          "xref": "paper",
          "y": 0.375,
          "yanchor": "bottom",
          "yref": "paper"
         },
         {
          "font": {
           "size": 16
          },
          "showarrow": false,
          "text": "$\\sigma^2=4, MSE=17.53$",
          "x": 0.5,
          "xanchor": "center",
          "xref": "paper",
          "y": 0.375,
          "yanchor": "bottom",
          "yref": "paper"
         },
         {
          "font": {
           "size": 16
          },
          "showarrow": false,
          "text": "$\\sigma^2=5, MSE=15.17$",
          "x": 0.8555555555555556,
          "xanchor": "center",
          "xref": "paper",
          "y": 0.375,
          "yanchor": "bottom",
          "yref": "paper"
         }
        ],
        "margin": {
         "t": 80
        },
        "title": {
         "text": "$\\text{(5) Simulated Data - Different Noise Scales}$"
        }
       },
       "config": {
        "plotlyServerURL": "https://plot.ly"
       }
      },
      "text/html": "<div>                            <div id=\"04540137-a87f-4bb8-8ece-ef335583ded5\" class=\"plotly-graph-div\" style=\"height:525px; width:100%;\"></div>            <script type=\"text/javascript\">                require([\"plotly\"], function(Plotly) {                    window.PLOTLYENV=window.PLOTLYENV || {};                                    if (document.getElementById(\"04540137-a87f-4bb8-8ece-ef335583ded5\")) {                    Plotly.newPlot(                        \"04540137-a87f-4bb8-8ece-ef335583ded5\",                        [{\"marker\":{\"color\":\"black\",\"opacity\":0.7},\"mode\":\"markers\",\"name\":\"Real Points\",\"showlegend\":false,\"x\":[-1.2,-1.0358974358974358,-0.8717948717948718,-0.7076923076923076,-0.5435897435897435,-0.37948717948717947,-0.21538461538461529,-0.05128205128205132,0.11282051282051286,0.27692307692307705,0.441025641025641,0.6051282051282052,0.7692307692307694,0.9333333333333333,1.0974358974358973,1.2615384615384617,1.4256410256410257,1.5897435897435896,1.753846153846154,1.917948717948718],\"y\":[5.8096,3.8381753317244733,2.522800884051074,1.7092797030916282,1.2608197821340592,1.058034061642376,0.9989404292566787,0.9989617197931566,0.9909257152440888,0.9250651447778439,0.7690176847388803,0.5078259586477458,0.14393753720107805,-0.3027950617283952,-0.7951143730918573,-1.278357984664403,-1.6804585370450331,-1.911943723656666,-1.8659362907461214,-1.418154037384138],\"type\":\"scatter\",\"xaxis\":\"x\",\"yaxis\":\"y\"},{\"marker\":{\"color\":\"red\",\"opacity\":0.7},\"mode\":\"markers\",\"name\":\"Observed Points\",\"showlegend\":false,\"x\":[-1.2,-1.0358974358974358,-0.8717948717948718,-0.7076923076923076,-0.5435897435897435,-0.37948717948717947,-0.21538461538461529,-0.05128205128205132,0.11282051282051286,0.27692307692307705,0.441025641025641,0.6051282051282052,0.7692307692307694,0.9333333333333333,1.0974358974358973,1.2615384615384617,1.4256410256410257,1.5897435897435896,1.753846153846154,1.917948717948718],\"y\":[5.8096,3.8381753317244733,2.522800884051074,1.7092797030916282,1.2608197821340592,1.058034061642376,0.9989404292566787,0.9989617197931566,0.9909257152440888,0.9250651447778439,0.7690176847388803,0.5078259586477458,0.14393753720107805,-0.3027950617283952,-0.7951143730918573,-1.278357984664403,-1.6804585370450331,-1.911943723656666,-1.8659362907461214,-1.418154037384138],\"type\":\"scatter\",\"xaxis\":\"x\",\"yaxis\":\"y\"},{\"marker\":{\"color\":\"blue\",\"opacity\":0.7},\"mode\":\"markers\",\"name\":\"Predicted Points\",\"showlegend\":false,\"x\":[-1.2,-1.0358974358974358,-0.8717948717948718,-0.7076923076923076,-0.5435897435897435,-0.37948717948717947,-0.21538461538461529,-0.05128205128205132,0.11282051282051286,0.27692307692307705,0.441025641025641,0.6051282051282052,0.7692307692307694,0.9333333333333333,1.0974358974358973,1.2615384615384617,1.4256410256410257,1.5897435897435896,1.753846153846154,1.917948717948718],\"y\":[5.809600000000001,3.8381753317244747,2.522800884051076,1.7092797030916305,1.2608197821340614,1.0580340616423782,0.9989404292566809,0.9989617197931587,0.9909257152440907,0.9250651447778455,0.7690176847388818,0.507825958647747,0.14393753720107894,-0.3027950617283945,-0.7951143730918568,-1.2783579846644022,-1.6804585370450345,-1.9119437236566674,-1.8659362907461232,-1.4181540373841424],\"type\":\"scatter\",\"xaxis\":\"x\",\"yaxis\":\"y\"},{\"marker\":{\"color\":\"black\",\"opacity\":0.7},\"mode\":\"markers\",\"name\":\"Real Points\",\"showlegend\":false,\"x\":[-1.2,-1.0358974358974358,-0.8717948717948718,-0.7076923076923076,-0.5435897435897435,-0.37948717948717947,-0.21538461538461529,-0.05128205128205132,0.11282051282051286,0.27692307692307705,0.441025641025641,0.6051282051282052,0.7692307692307694,0.9333333333333333,1.0974358974358973,1.2615384615384617,1.4256410256410257,1.5897435897435896,1.753846153846154,1.917948717948718],\"y\":[5.8096,3.8381753317244733,2.522800884051074,1.7092797030916282,1.2608197821340592,1.058034061642376,0.9989404292566787,0.9989617197931566,0.9909257152440888,0.9250651447778439,0.7690176847388803,0.5078259586477458,0.14393753720107805,-0.3027950617283952,-0.7951143730918573,-1.278357984664403,-1.6804585370450331,-1.911943723656666,-1.8659362907461214,-1.418154037384138],\"type\":\"scatter\",\"xaxis\":\"x2\",\"yaxis\":\"y2\"},{\"marker\":{\"color\":\"red\",\"opacity\":0.7},\"mode\":\"markers\",\"name\":\"Observed Points\",\"showlegend\":false,\"x\":[-1.2,-1.0358974358974358,-0.8717948717948718,-0.7076923076923076,-0.5435897435897435,-0.37948717948717947,-0.21538461538461529,-0.05128205128205132,0.11282051282051286,0.27692307692307705,0.441025641025641,0.6051282051282052,0.7692307692307694,0.9333333333333333,1.0974358974358973,1.2615384615384617,1.4256410256410257,1.5897435897435896,1.753846153846154,1.917948717948718],\"y\":[5.834427569741544,3.092760238823775,1.2779916178283486,2.3979652407948997,2.4247226251511975,1.2198753900033872,-0.6148363911855815,0.6051259228333834,0.6004875564592038,2.249420612843947,0.6674760489150015,-1.3534124655347313,-0.26604861784662936,-0.19934390667117335,-1.5688888256210665,-2.5844151669418487,-0.55495691375821,-1.0702936337151467,-2.4896102288974475,-3.5158727020865976],\"type\":\"scatter\",\"xaxis\":\"x2\",\"yaxis\":\"y2\"},{\"marker\":{\"color\":\"blue\",\"opacity\":0.7},\"mode\":\"markers\",\"name\":\"Predicted Points\",\"showlegend\":false,\"x\":[-1.2,-1.0358974358974358,-0.8717948717948718,-0.7076923076923076,-0.5435897435897435,-0.37948717948717947,-0.21538461538461529,-0.05128205128205132,0.11282051282051286,0.27692307692307705,0.441025641025641,0.6051282051282052,0.7692307692307694,0.9333333333333333,1.0974358974358973,1.2615384615384617,1.4256410256410257,1.5897435897435896,1.753846153846154,1.917948717948718],\"y\":[5.115426384212481,3.6559365934919112,2.5905825159411386,1.8393988423490393,1.3301127503877603,0.998143904612706,0.7866044564625451,0.6462990442592084,0.5357247932078886,0.4210713153970411,0.2762207097983839,0.08274756226689679,-0.17008105445917776,-0.4853055807583348,-0.8582739701258074,-1.276641689173568,-1.72037171763032,-2.161734548341513,-2.5653081872693315,-2.8879781534926963],\"type\":\"scatter\",\"xaxis\":\"x2\",\"yaxis\":\"y2\"},{\"marker\":{\"color\":\"black\",\"opacity\":0.7},\"mode\":\"markers\",\"name\":\"Real Points\",\"showlegend\":false,\"x\":[-1.2,-1.0358974358974358,-0.8717948717948718,-0.7076923076923076,-0.5435897435897435,-0.37948717948717947,-0.21538461538461529,-0.05128205128205132,0.11282051282051286,0.27692307692307705,0.441025641025641,0.6051282051282052,0.7692307692307694,0.9333333333333333,1.0974358974358973,1.2615384615384617,1.4256410256410257,1.5897435897435896,1.753846153846154,1.917948717948718],\"y\":[5.8096,3.8381753317244733,2.522800884051074,1.7092797030916282,1.2608197821340592,1.058034061642376,0.9989404292566787,0.9989617197931566,0.9909257152440888,0.9250651447778439,0.7690176847388803,0.5078259586477458,0.14393753720107805,-0.3027950617283952,-0.7951143730918573,-1.278357984664403,-1.6804585370450331,-1.911943723656666,-1.8659362907461214,-1.418154037384138],\"type\":\"scatter\",\"xaxis\":\"x3\",\"yaxis\":\"y3\"},{\"marker\":{\"color\":\"red\",\"opacity\":0.7},\"mode\":\"markers\",\"name\":\"Observed Points\",\"showlegend\":false,\"x\":[-1.2,-1.0358974358974358,-0.8717948717948718,-0.7076923076923076,-0.5435897435897435,-0.37948717948717947,-0.21538461538461529,-0.05128205128205132,0.11282051282051286,0.27692307692307705,0.441025641025641,0.6051282051282052,0.7692307692307694,0.9333333333333333,1.0974358974358973,1.2615384615384617,1.4256410256410257,1.5897435897435896,1.753846153846154,1.917948717948718],\"y\":[4.060064324208184,0.3415226736014474,0.9809307005089314,0.9298544799675921,-0.43669422329113905,3.5945893582614437,1.9889850059390501,2.101392919834338,-0.6898823606414323,-0.5713938301707876,-1.2844979944027959,-1.1942299705669566,-1.9142376272323216,0.5458984868676097,-1.6361294784773788,-3.2588606143723764,-0.38888206482777443,-1.97558239464191,-4.233111537765634,1.9986673664305767],\"type\":\"scatter\",\"xaxis\":\"x3\",\"yaxis\":\"y3\"},{\"marker\":{\"color\":\"blue\",\"opacity\":0.7},\"mode\":\"markers\",\"name\":\"Predicted Points\",\"showlegend\":false,\"x\":[-1.2,-1.0358974358974358,-0.8717948717948718,-0.7076923076923076,-0.5435897435897435,-0.37948717948717947,-0.21538461538461529,-0.05128205128205132,0.11282051282051286,0.27692307692307705,0.441025641025641,0.6051282051282052,0.7692307692307694,0.9333333333333333,1.0974358974358973,1.2615384615384617,1.4256410256410257,1.5897435897435896,1.753846153846154,1.917948717948718],\"y\":[2.808489748318624,1.9081194730098503,1.3862336688902168,1.1212537928596173,1.0091087002135823,0.9632346446432757,0.914575278235495,0.8115816514726725,0.6202122132328736,0.32393281078979796,-0.07628331018721962,-0.5619555056332124,-1.0970957330875784,-1.6282085516940807,-2.0842911222008507,-2.376833206960384,-2.3998171699295443,-2.0297179766695588,-1.125503194346017,0.4713670082711094],\"type\":\"scatter\",\"xaxis\":\"x3\",\"yaxis\":\"y3\"},{\"marker\":{\"color\":\"black\",\"opacity\":0.7},\"mode\":\"markers\",\"name\":\"Real Points\",\"showlegend\":false,\"x\":[-1.2,-1.0358974358974358,-0.8717948717948718,-0.7076923076923076,-0.5435897435897435,-0.37948717948717947,-0.21538461538461529,-0.05128205128205132,0.11282051282051286,0.27692307692307705,0.441025641025641,0.6051282051282052,0.7692307692307694,0.9333333333333333,1.0974358974358973,1.2615384615384617,1.4256410256410257,1.5897435897435896,1.753846153846154,1.917948717948718],\"y\":[5.8096,3.8381753317244733,2.522800884051074,1.7092797030916282,1.2608197821340592,1.058034061642376,0.9989404292566787,0.9989617197931566,0.9909257152440888,0.9250651447778439,0.7690176847388803,0.5078259586477458,0.14393753720107805,-0.3027950617283952,-0.7951143730918573,-1.278357984664403,-1.6804585370450331,-1.911943723656666,-1.8659362907461214,-1.418154037384138],\"type\":\"scatter\",\"xaxis\":\"x4\",\"yaxis\":\"y4\"},{\"marker\":{\"color\":\"red\",\"opacity\":0.7},\"mode\":\"markers\",\"name\":\"Observed Points\",\"showlegend\":false,\"x\":[-1.2,-1.0358974358974358,-0.8717948717948718,-0.7076923076923076,-0.5435897435897435,-0.37948717948717947,-0.21538461538461529,-0.05128205128205132,0.11282051282051286,0.27692307692307705,0.441025641025641,0.6051282051282052,0.7692307692307694,0.9333333333333333,1.0974358974358973,1.2615384615384617,1.4256410256410257,1.5897435897435896,1.753846153846154,1.917948717948718],\"y\":[8.879018650193357,5.444230344360662,3.6847459434800616,6.92309549944107,4.878167989371281,3.7021304257246044,2.4072669277905967,-1.6285127069442793,3.5742448099504758,1.316470094070341,0.18641689939259398,-2.855374322685069,0.2341683069144032,-4.08581649690232,-2.4878449154508595,-2.955771024849055,-4.51895472146336,-4.8812039737931245,0.7686196566655425,-0.8162861532674083],\"type\":\"scatter\",\"xaxis\":\"x4\",\"yaxis\":\"y4\"},{\"marker\":{\"color\":\"blue\",\"opacity\":0.7},\"mode\":\"markers\",\"name\":\"Predicted Points\",\"showlegend\":false,\"x\":[-1.2,-1.0358974358974358,-0.8717948717948718,-0.7076923076923076,-0.5435897435897435,-0.37948717948717947,-0.21538461538461529,-0.05128205128205132,0.11282051282051286,0.27692307692307705,0.441025641025641,0.6051282051282052,0.7692307692307694,0.9333333333333333,1.0974358974358973,1.2615384615384617,1.4256410256410257,1.5897435897435896,1.753846153846154,1.917948717948718],\"y\":[8.057367920723962,6.583000680431484,5.480979097382033,4.634440701863851,3.944484572473335,3.3301713361150216,2.728523168001594,2.094523791653882,1.4011184789008577,0.639214049879641,-0.18232112696450273,-1.0366571348781666,-1.8790025087997952,-2.646604235359688,-3.25874775288,-3.616756951374745,-3.603994172549782,-3.0858602098028367,-1.9097943082234736,0.09472583540686697],\"type\":\"scatter\",\"xaxis\":\"x4\",\"yaxis\":\"y4\"},{\"marker\":{\"color\":\"black\",\"opacity\":0.7},\"mode\":\"markers\",\"name\":\"Real Points\",\"showlegend\":false,\"x\":[-1.2,-1.0358974358974358,-0.8717948717948718,-0.7076923076923076,-0.5435897435897435,-0.37948717948717947,-0.21538461538461529,-0.05128205128205132,0.11282051282051286,0.27692307692307705,0.441025641025641,0.6051282051282052,0.7692307692307694,0.9333333333333333,1.0974358974358973,1.2615384615384617,1.4256410256410257,1.5897435897435896,1.753846153846154,1.917948717948718],\"y\":[5.8096,3.8381753317244733,2.522800884051074,1.7092797030916282,1.2608197821340592,1.058034061642376,0.9989404292566787,0.9989617197931566,0.9909257152440888,0.9250651447778439,0.7690176847388803,0.5078259586477458,0.14393753720107805,-0.3027950617283952,-0.7951143730918573,-1.278357984664403,-1.6804585370450331,-1.911943723656666,-1.8659362907461214,-1.418154037384138],\"type\":\"scatter\",\"xaxis\":\"x5\",\"yaxis\":\"y5\"},{\"marker\":{\"color\":\"red\",\"opacity\":0.7},\"mode\":\"markers\",\"name\":\"Observed Points\",\"showlegend\":false,\"x\":[-1.2,-1.0358974358974358,-0.8717948717948718,-0.7076923076923076,-0.5435897435897435,-0.37948717948717947,-0.21538461538461529,-0.05128205128205132,0.11282051282051286,0.27692307692307705,0.441025641025641,0.6051282051282052,0.7692307692307694,0.9333333333333333,1.0974358974358973,1.2615384615384617,1.4256410256410257,1.5897435897435896,1.753846153846154,1.917948717948718],\"y\":[2.957569994437214,3.6380654840819804,9.468486094330581,-5.168008384607166,3.319175181888526,-2.46864298253905,-0.7139825728798398,2.5892901670109376,1.835453627049433,5.680738228994003,-0.950912483495781,7.398752166571969,-1.270700863290324,1.1464883853179078,-6.934837158740915,-5.6447551603483195,-0.4162275342981079,-9.283201906256414,4.671401823100068,-5.797109594284192],\"type\":\"scatter\",\"xaxis\":\"x5\",\"yaxis\":\"y5\"},{\"marker\":{\"color\":\"blue\",\"opacity\":0.7},\"mode\":\"markers\",\"name\":\"Predicted Points\",\"showlegend\":false,\"x\":[-1.2,-1.0358974358974358,-0.8717948717948718,-0.7076923076923076,-0.5435897435897435,-0.37948717948717947,-0.21538461538461529,-0.05128205128205132,0.11282051282051286,0.27692307692307705,0.441025641025641,0.6051282051282052,0.7692307692307694,0.9333333333333333,1.0974358974358973,1.2615384615384617,1.4256410256410257,1.5897435897435896,1.753846153846154,1.917948717948718],\"y\":[5.38855975260665,2.8485680318816327,1.4553996089284882,0.8926248291930161,0.8828109028819121,1.187521904962757,1.6073187751640199,1.9817593179750577,2.1893982026461147,2.147786963188323,1.8134739983737023,1.1820045717351595,0.28792081156649046,-0.7952382890776215,-1.9549368723816047,-3.0396422157690073,-3.8588247319024753,-4.1829579686837794,-3.7435186092537993,-2.2329864719925165],\"type\":\"scatter\",\"xaxis\":\"x5\",\"yaxis\":\"y5\"},{\"marker\":{\"color\":\"black\",\"opacity\":0.7},\"mode\":\"markers\",\"name\":\"Real Points\",\"showlegend\":false,\"x\":[-1.2,-1.0358974358974358,-0.8717948717948718,-0.7076923076923076,-0.5435897435897435,-0.37948717948717947,-0.21538461538461529,-0.05128205128205132,0.11282051282051286,0.27692307692307705,0.441025641025641,0.6051282051282052,0.7692307692307694,0.9333333333333333,1.0974358974358973,1.2615384615384617,1.4256410256410257,1.5897435897435896,1.753846153846154,1.917948717948718],\"y\":[5.8096,3.8381753317244733,2.522800884051074,1.7092797030916282,1.2608197821340592,1.058034061642376,0.9989404292566787,0.9989617197931566,0.9909257152440888,0.9250651447778439,0.7690176847388803,0.5078259586477458,0.14393753720107805,-0.3027950617283952,-0.7951143730918573,-1.278357984664403,-1.6804585370450331,-1.911943723656666,-1.8659362907461214,-1.418154037384138],\"type\":\"scatter\",\"xaxis\":\"x6\",\"yaxis\":\"y6\"},{\"marker\":{\"color\":\"red\",\"opacity\":0.7},\"mode\":\"markers\",\"name\":\"Observed Points\",\"showlegend\":false,\"x\":[-1.2,-1.0358974358974358,-0.8717948717948718,-0.7076923076923076,-0.5435897435897435,-0.37948717948717947,-0.21538461538461529,-0.05128205128205132,0.11282051282051286,0.27692307692307705,0.441025641025641,0.6051282051282052,0.7692307692307694,0.9333333333333333,1.0974358974358973,1.2615384615384617,1.4256410256410257,1.5897435897435896,1.753846153846154,1.917948717948718],\"y\":[7.752682936077846,5.227787797320303,0.6614940490290437,4.492716095542977,-5.394627367669104,4.774589879510472,5.156727878484219,1.762701553973005,-6.743444846284882,-1.7556718305652725,-4.40680861545726,-3.749285629137928,-3.496571334570897,-12.026479437851794,-4.223887633240883,2.133408841639091,4.4194097464765685,7.928594561018333,1.1833471055116327,5.994525837754546],\"type\":\"scatter\",\"xaxis\":\"x6\",\"yaxis\":\"y6\"},{\"marker\":{\"color\":\"blue\",\"opacity\":0.7},\"mode\":\"markers\",\"name\":\"Predicted Points\",\"showlegend\":false,\"x\":[-1.2,-1.0358974358974358,-0.8717948717948718,-0.7076923076923076,-0.5435897435897435,-0.37948717948717947,-0.21538461538461529,-0.05128205128205132,0.11282051282051286,0.27692307692307705,0.441025641025641,0.6051282051282052,0.7692307692307694,0.9333333333333333,1.0974358974358973,1.2615384615384617,1.4256410256410257,1.5897435897435896,1.753846153846154,1.917948717948718],\"y\":[5.432063224722721,5.256759938788329,4.55160151947797,3.477948265974328,2.181461417341996,0.792103152527478,-0.5758634096408133,-1.8238742104525498,-2.8690642513154994,-3.6442675937555116,-4.098017359416528,-4.194545730060581,-3.9137839475677874,-3.2513623139363586,-2.218610191282592,-0.8425560018408672,0.8340727720363296,2.7528495878784405,4.839648843096811,7.004645874984698],\"type\":\"scatter\",\"xaxis\":\"x6\",\"yaxis\":\"y6\"}],                        {\"template\":{\"data\":{\"barpolar\":[{\"marker\":{\"line\":{\"color\":\"white\",\"width\":0.5},\"pattern\":{\"fillmode\":\"overlay\",\"size\":10,\"solidity\":0.2}},\"type\":\"barpolar\"}],\"bar\":[{\"error_x\":{\"color\":\"rgb(36,36,36)\"},\"error_y\":{\"color\":\"rgb(36,36,36)\"},\"marker\":{\"line\":{\"color\":\"white\",\"width\":0.5},\"pattern\":{\"fillmode\":\"overlay\",\"size\":10,\"solidity\":0.2}},\"type\":\"bar\"}],\"carpet\":[{\"aaxis\":{\"endlinecolor\":\"rgb(36,36,36)\",\"gridcolor\":\"white\",\"linecolor\":\"white\",\"minorgridcolor\":\"white\",\"startlinecolor\":\"rgb(36,36,36)\"},\"baxis\":{\"endlinecolor\":\"rgb(36,36,36)\",\"gridcolor\":\"white\",\"linecolor\":\"white\",\"minorgridcolor\":\"white\",\"startlinecolor\":\"rgb(36,36,36)\"},\"type\":\"carpet\"}],\"choropleth\":[{\"colorbar\":{\"outlinewidth\":1,\"tickcolor\":\"rgb(36,36,36)\",\"ticks\":\"outside\"},\"type\":\"choropleth\"}],\"contourcarpet\":[{\"colorbar\":{\"outlinewidth\":1,\"tickcolor\":\"rgb(36,36,36)\",\"ticks\":\"outside\"},\"type\":\"contourcarpet\"}],\"contour\":[{\"colorbar\":{\"outlinewidth\":1,\"tickcolor\":\"rgb(36,36,36)\",\"ticks\":\"outside\"},\"colorscale\":[[0.0,\"#440154\"],[0.1111111111111111,\"#482878\"],[0.2222222222222222,\"#3e4989\"],[0.3333333333333333,\"#31688e\"],[0.4444444444444444,\"#26828e\"],[0.5555555555555556,\"#1f9e89\"],[0.6666666666666666,\"#35b779\"],[0.7777777777777778,\"#6ece58\"],[0.8888888888888888,\"#b5de2b\"],[1.0,\"#fde725\"]],\"type\":\"contour\"}],\"heatmapgl\":[{\"colorbar\":{\"outlinewidth\":1,\"tickcolor\":\"rgb(36,36,36)\",\"ticks\":\"outside\"},\"colorscale\":[[0.0,\"#440154\"],[0.1111111111111111,\"#482878\"],[0.2222222222222222,\"#3e4989\"],[0.3333333333333333,\"#31688e\"],[0.4444444444444444,\"#26828e\"],[0.5555555555555556,\"#1f9e89\"],[0.6666666666666666,\"#35b779\"],[0.7777777777777778,\"#6ece58\"],[0.8888888888888888,\"#b5de2b\"],[1.0,\"#fde725\"]],\"type\":\"heatmapgl\"}],\"heatmap\":[{\"colorbar\":{\"outlinewidth\":1,\"tickcolor\":\"rgb(36,36,36)\",\"ticks\":\"outside\"},\"colorscale\":[[0.0,\"#440154\"],[0.1111111111111111,\"#482878\"],[0.2222222222222222,\"#3e4989\"],[0.3333333333333333,\"#31688e\"],[0.4444444444444444,\"#26828e\"],[0.5555555555555556,\"#1f9e89\"],[0.6666666666666666,\"#35b779\"],[0.7777777777777778,\"#6ece58\"],[0.8888888888888888,\"#b5de2b\"],[1.0,\"#fde725\"]],\"type\":\"heatmap\"}],\"histogram2dcontour\":[{\"colorbar\":{\"outlinewidth\":1,\"tickcolor\":\"rgb(36,36,36)\",\"ticks\":\"outside\"},\"colorscale\":[[0.0,\"#440154\"],[0.1111111111111111,\"#482878\"],[0.2222222222222222,\"#3e4989\"],[0.3333333333333333,\"#31688e\"],[0.4444444444444444,\"#26828e\"],[0.5555555555555556,\"#1f9e89\"],[0.6666666666666666,\"#35b779\"],[0.7777777777777778,\"#6ece58\"],[0.8888888888888888,\"#b5de2b\"],[1.0,\"#fde725\"]],\"type\":\"histogram2dcontour\"}],\"histogram2d\":[{\"colorbar\":{\"outlinewidth\":1,\"tickcolor\":\"rgb(36,36,36)\",\"ticks\":\"outside\"},\"colorscale\":[[0.0,\"#440154\"],[0.1111111111111111,\"#482878\"],[0.2222222222222222,\"#3e4989\"],[0.3333333333333333,\"#31688e\"],[0.4444444444444444,\"#26828e\"],[0.5555555555555556,\"#1f9e89\"],[0.6666666666666666,\"#35b779\"],[0.7777777777777778,\"#6ece58\"],[0.8888888888888888,\"#b5de2b\"],[1.0,\"#fde725\"]],\"type\":\"histogram2d\"}],\"histogram\":[{\"marker\":{\"line\":{\"color\":\"white\",\"width\":0.6}},\"type\":\"histogram\"}],\"mesh3d\":[{\"colorbar\":{\"outlinewidth\":1,\"tickcolor\":\"rgb(36,36,36)\",\"ticks\":\"outside\"},\"type\":\"mesh3d\"}],\"parcoords\":[{\"line\":{\"colorbar\":{\"outlinewidth\":1,\"tickcolor\":\"rgb(36,36,36)\",\"ticks\":\"outside\"}},\"type\":\"parcoords\"}],\"pie\":[{\"automargin\":true,\"type\":\"pie\"}],\"scatter3d\":[{\"line\":{\"colorbar\":{\"outlinewidth\":1,\"tickcolor\":\"rgb(36,36,36)\",\"ticks\":\"outside\"}},\"marker\":{\"colorbar\":{\"outlinewidth\":1,\"tickcolor\":\"rgb(36,36,36)\",\"ticks\":\"outside\"}},\"type\":\"scatter3d\"}],\"scattercarpet\":[{\"marker\":{\"colorbar\":{\"outlinewidth\":1,\"tickcolor\":\"rgb(36,36,36)\",\"ticks\":\"outside\"}},\"type\":\"scattercarpet\"}],\"scattergeo\":[{\"marker\":{\"colorbar\":{\"outlinewidth\":1,\"tickcolor\":\"rgb(36,36,36)\",\"ticks\":\"outside\"}},\"type\":\"scattergeo\"}],\"scattergl\":[{\"marker\":{\"colorbar\":{\"outlinewidth\":1,\"tickcolor\":\"rgb(36,36,36)\",\"ticks\":\"outside\"}},\"type\":\"scattergl\"}],\"scattermapbox\":[{\"marker\":{\"colorbar\":{\"outlinewidth\":1,\"tickcolor\":\"rgb(36,36,36)\",\"ticks\":\"outside\"}},\"type\":\"scattermapbox\"}],\"scatterpolargl\":[{\"marker\":{\"colorbar\":{\"outlinewidth\":1,\"tickcolor\":\"rgb(36,36,36)\",\"ticks\":\"outside\"}},\"type\":\"scatterpolargl\"}],\"scatterpolar\":[{\"marker\":{\"colorbar\":{\"outlinewidth\":1,\"tickcolor\":\"rgb(36,36,36)\",\"ticks\":\"outside\"}},\"type\":\"scatterpolar\"}],\"scatter\":[{\"marker\":{\"colorbar\":{\"outlinewidth\":1,\"tickcolor\":\"rgb(36,36,36)\",\"ticks\":\"outside\"}},\"type\":\"scatter\"}],\"scatterternary\":[{\"marker\":{\"colorbar\":{\"outlinewidth\":1,\"tickcolor\":\"rgb(36,36,36)\",\"ticks\":\"outside\"}},\"type\":\"scatterternary\"}],\"surface\":[{\"colorbar\":{\"outlinewidth\":1,\"tickcolor\":\"rgb(36,36,36)\",\"ticks\":\"outside\"},\"colorscale\":[[0.0,\"#440154\"],[0.1111111111111111,\"#482878\"],[0.2222222222222222,\"#3e4989\"],[0.3333333333333333,\"#31688e\"],[0.4444444444444444,\"#26828e\"],[0.5555555555555556,\"#1f9e89\"],[0.6666666666666666,\"#35b779\"],[0.7777777777777778,\"#6ece58\"],[0.8888888888888888,\"#b5de2b\"],[1.0,\"#fde725\"]],\"type\":\"surface\"}],\"table\":[{\"cells\":{\"fill\":{\"color\":\"rgb(237,237,237)\"},\"line\":{\"color\":\"white\"}},\"header\":{\"fill\":{\"color\":\"rgb(217,217,217)\"},\"line\":{\"color\":\"white\"}},\"type\":\"table\"}]},\"layout\":{\"annotationdefaults\":{\"arrowhead\":0,\"arrowwidth\":1},\"autotypenumbers\":\"strict\",\"coloraxis\":{\"colorbar\":{\"outlinewidth\":1,\"tickcolor\":\"rgb(36,36,36)\",\"ticks\":\"outside\"}},\"colorscale\":{\"diverging\":[[0.0,\"rgb(103,0,31)\"],[0.1,\"rgb(178,24,43)\"],[0.2,\"rgb(214,96,77)\"],[0.3,\"rgb(244,165,130)\"],[0.4,\"rgb(253,219,199)\"],[0.5,\"rgb(247,247,247)\"],[0.6,\"rgb(209,229,240)\"],[0.7,\"rgb(146,197,222)\"],[0.8,\"rgb(67,147,195)\"],[0.9,\"rgb(33,102,172)\"],[1.0,\"rgb(5,48,97)\"]],\"sequential\":[[0.0,\"#440154\"],[0.1111111111111111,\"#482878\"],[0.2222222222222222,\"#3e4989\"],[0.3333333333333333,\"#31688e\"],[0.4444444444444444,\"#26828e\"],[0.5555555555555556,\"#1f9e89\"],[0.6666666666666666,\"#35b779\"],[0.7777777777777778,\"#6ece58\"],[0.8888888888888888,\"#b5de2b\"],[1.0,\"#fde725\"]],\"sequentialminus\":[[0.0,\"#440154\"],[0.1111111111111111,\"#482878\"],[0.2222222222222222,\"#3e4989\"],[0.3333333333333333,\"#31688e\"],[0.4444444444444444,\"#26828e\"],[0.5555555555555556,\"#1f9e89\"],[0.6666666666666666,\"#35b779\"],[0.7777777777777778,\"#6ece58\"],[0.8888888888888888,\"#b5de2b\"],[1.0,\"#fde725\"]]},\"colorway\":[\"#1F77B4\",\"#FF7F0E\",\"#2CA02C\",\"#D62728\",\"#9467BD\",\"#8C564B\",\"#E377C2\",\"#7F7F7F\",\"#BCBD22\",\"#17BECF\"],\"font\":{\"color\":\"rgb(36,36,36)\"},\"geo\":{\"bgcolor\":\"white\",\"lakecolor\":\"white\",\"landcolor\":\"white\",\"showlakes\":true,\"showland\":true,\"subunitcolor\":\"white\"},\"hoverlabel\":{\"align\":\"left\"},\"hovermode\":\"closest\",\"mapbox\":{\"style\":\"light\"},\"paper_bgcolor\":\"white\",\"plot_bgcolor\":\"white\",\"polar\":{\"angularaxis\":{\"gridcolor\":\"rgb(232,232,232)\",\"linecolor\":\"rgb(36,36,36)\",\"showgrid\":false,\"showline\":true,\"ticks\":\"outside\"},\"bgcolor\":\"white\",\"radialaxis\":{\"gridcolor\":\"rgb(232,232,232)\",\"linecolor\":\"rgb(36,36,36)\",\"showgrid\":false,\"showline\":true,\"ticks\":\"outside\"}},\"scene\":{\"xaxis\":{\"backgroundcolor\":\"white\",\"gridcolor\":\"rgb(232,232,232)\",\"gridwidth\":2,\"linecolor\":\"rgb(36,36,36)\",\"showbackground\":true,\"showgrid\":false,\"showline\":true,\"ticks\":\"outside\",\"zeroline\":false,\"zerolinecolor\":\"rgb(36,36,36)\"},\"yaxis\":{\"backgroundcolor\":\"white\",\"gridcolor\":\"rgb(232,232,232)\",\"gridwidth\":2,\"linecolor\":\"rgb(36,36,36)\",\"showbackground\":true,\"showgrid\":false,\"showline\":true,\"ticks\":\"outside\",\"zeroline\":false,\"zerolinecolor\":\"rgb(36,36,36)\"},\"zaxis\":{\"backgroundcolor\":\"white\",\"gridcolor\":\"rgb(232,232,232)\",\"gridwidth\":2,\"linecolor\":\"rgb(36,36,36)\",\"showbackground\":true,\"showgrid\":false,\"showline\":true,\"ticks\":\"outside\",\"zeroline\":false,\"zerolinecolor\":\"rgb(36,36,36)\"}},\"shapedefaults\":{\"fillcolor\":\"black\",\"line\":{\"width\":0},\"opacity\":0.3},\"ternary\":{\"aaxis\":{\"gridcolor\":\"rgb(232,232,232)\",\"linecolor\":\"rgb(36,36,36)\",\"showgrid\":false,\"showline\":true,\"ticks\":\"outside\"},\"baxis\":{\"gridcolor\":\"rgb(232,232,232)\",\"linecolor\":\"rgb(36,36,36)\",\"showgrid\":false,\"showline\":true,\"ticks\":\"outside\"},\"bgcolor\":\"white\",\"caxis\":{\"gridcolor\":\"rgb(232,232,232)\",\"linecolor\":\"rgb(36,36,36)\",\"showgrid\":false,\"showline\":true,\"ticks\":\"outside\"}},\"title\":{\"x\":0.05},\"xaxis\":{\"automargin\":true,\"gridcolor\":\"rgb(232,232,232)\",\"linecolor\":\"rgb(36,36,36)\",\"showgrid\":false,\"showline\":true,\"ticks\":\"outside\",\"title\":{\"standoff\":15},\"zeroline\":false,\"zerolinecolor\":\"rgb(36,36,36)\"},\"yaxis\":{\"automargin\":true,\"gridcolor\":\"rgb(232,232,232)\",\"linecolor\":\"rgb(36,36,36)\",\"showgrid\":false,\"showline\":true,\"ticks\":\"outside\",\"title\":{\"standoff\":15},\"zeroline\":false,\"zerolinecolor\":\"rgb(36,36,36)\"},\"margin\":{\"b\":0,\"l\":20,\"r\":20,\"t\":40}}},\"xaxis\":{\"anchor\":\"y\",\"domain\":[0.0,0.2888888888888889]},\"yaxis\":{\"anchor\":\"x\",\"domain\":[0.625,1.0]},\"xaxis2\":{\"anchor\":\"y2\",\"domain\":[0.35555555555555557,0.6444444444444445]},\"yaxis2\":{\"anchor\":\"x2\",\"domain\":[0.625,1.0]},\"xaxis3\":{\"anchor\":\"y3\",\"domain\":[0.7111111111111111,1.0]},\"yaxis3\":{\"anchor\":\"x3\",\"domain\":[0.625,1.0]},\"xaxis4\":{\"anchor\":\"y4\",\"domain\":[0.0,0.2888888888888889]},\"yaxis4\":{\"anchor\":\"x4\",\"domain\":[0.0,0.375]},\"xaxis5\":{\"anchor\":\"y5\",\"domain\":[0.35555555555555557,0.6444444444444445]},\"yaxis5\":{\"anchor\":\"x5\",\"domain\":[0.0,0.375]},\"xaxis6\":{\"anchor\":\"y6\",\"domain\":[0.7111111111111111,1.0]},\"yaxis6\":{\"anchor\":\"x6\",\"domain\":[0.0,0.375]},\"annotations\":[{\"font\":{\"size\":16},\"showarrow\":false,\"text\":\"$\\\\sigma^2=0, MSE=0.0$\",\"x\":0.14444444444444446,\"xanchor\":\"center\",\"xref\":\"paper\",\"y\":1.0,\"yanchor\":\"bottom\",\"yref\":\"paper\"},{\"font\":{\"size\":16},\"showarrow\":false,\"text\":\"$\\\\sigma^2=1, MSE=0.85$\",\"x\":0.5,\"xanchor\":\"center\",\"xref\":\"paper\",\"y\":1.0,\"yanchor\":\"bottom\",\"yref\":\"paper\"},{\"font\":{\"size\":16},\"showarrow\":false,\"text\":\"$\\\\sigma^2=2, MSE=2.14$\",\"x\":0.8555555555555556,\"xanchor\":\"center\",\"xref\":\"paper\",\"y\":1.0,\"yanchor\":\"bottom\",\"yref\":\"paper\"},{\"font\":{\"size\":16},\"showarrow\":false,\"text\":\"$\\\\sigma^2=3, MSE=2.68$\",\"x\":0.14444444444444446,\"xanchor\":\"center\",\"xref\":\"paper\",\"y\":0.375,\"yanchor\":\"bottom\",\"yref\":\"paper\"},{\"font\":{\"size\":16},\"showarrow\":false,\"text\":\"$\\\\sigma^2=4, MSE=17.53$\",\"x\":0.5,\"xanchor\":\"center\",\"xref\":\"paper\",\"y\":0.375,\"yanchor\":\"bottom\",\"yref\":\"paper\"},{\"font\":{\"size\":16},\"showarrow\":false,\"text\":\"$\\\\sigma^2=5, MSE=15.17$\",\"x\":0.8555555555555556,\"xanchor\":\"center\",\"xref\":\"paper\",\"y\":0.375,\"yanchor\":\"bottom\",\"yref\":\"paper\"}],\"margin\":{\"t\":80},\"title\":{\"text\":\"$\\\\text{(5) Simulated Data - Different Noise Scales}$\"}},                        {\"responsive\": true}                    ).then(function(){\n                            \nvar gd = document.getElementById('04540137-a87f-4bb8-8ece-ef335583ded5');\nvar x = new MutationObserver(function (mutations, observer) {{\n        var display = window.getComputedStyle(gd).display;\n        if (!display || display === 'none') {{\n            console.log([gd, 'removed!']);\n            Plotly.purge(gd);\n            observer.disconnect();\n        }}\n}});\n\n// Listen for the removal of the full notebook cells\nvar notebookContainer = gd.closest('#notebook-container');\nif (notebookContainer) {{\n    x.observe(notebookContainer, {childList: true});\n}}\n\n// Listen for the clearing of the current output cell\nvar outputEl = gd.closest('.output');\nif (outputEl) {{\n    x.observe(outputEl, {childList: true});\n}}\n\n                        })                };                });            </script>        </div>"
     },
     "metadata": {},
     "output_type": "display_data"
    }
   ],
   "source": [
    "scales = range(6)\n",
    "fig = make_subplots(2, 3, subplot_titles=list(map(str, scales)))\n",
    "for i, s in enumerate(scales):\n",
    "    r,c = i//3+1, i%3+1\n",
    "    \n",
    "    y = y_ + np.random.normal(scale=s, size=len(y_))\n",
    "    y_hat = make_pipeline(PolynomialFeatures(4), LinearRegression(fit_intercept=False)).fit(X, y).predict(X)\n",
    "\n",
    "    fig.add_traces([go.Scatter(x=x, y=y_, mode=\"markers\", name=\"Real Points\",  marker=dict(color=\"black\", opacity=.7), showlegend=False),\n",
    "                    go.Scatter(x=x, y=y, mode=\"markers\", name=\"Observed Points\",  marker=dict(color=\"red\", opacity=.7), showlegend=False),\n",
    "                    go.Scatter(x=x, y=y_hat, mode=\"markers\", name=\"Predicted Points\",  marker=dict(color=\"blue\", opacity=.7), showlegend=False)], rows=r, cols=c)\n",
    "    fig[\"layout\"][\"annotations\"][i][\"text\"] = rf\"$\\sigma^2={{0}}, MSE={{1}}$\".format(s, round(np.mean((y-y_hat)**2), 2))\n",
    "\n",
    "fig.update_layout(title=r\"$\\text{(5) Simulated Data - Different Noise Scales}$\", margin=dict(t=80)).show()"
   ]
  },
  {
   "cell_type": "markdown",
   "metadata": {
    "pycharm": {
     "name": "#%% md\n"
    }
   },
   "source": [
    "## The Influence Of $k$ And $\\sigma^2$ On Error\n",
    "\n",
    "Lastly, let us check how the error is influenced by both $k$ and $\\sigma^2$. For each value of $k$ and $\\sigma^2$ we will\n",
    "add noise drawn from $\\mathcal{N}\\left(0,\\sigma^2\\right)$ and then, based on the noisy data, let the learner select an\n",
    "hypothesis from $\\mathcal{H}_{poly}^k$. We repeat the process for each set of $\\left(k,\\sigma^2\\right)$ 10 times and report\n",
    "the mean MSE value. Results are seen in heatmap below: \n"
   ]
  },
  {
   "cell_type": "code",
   "execution_count": 14,
   "metadata": {
    "pycharm": {
     "name": "#%%\n"
    }
   },
   "outputs": [
    {
     "data": {
      "application/vnd.plotly.v1+json": {
       "data": [
        {
         "colorscale": [
          [
           0.0,
           "rgb(241, 236, 236)"
          ],
          [
           0.09090909090909091,
           "rgb(230, 209, 203)"
          ],
          [
           0.18181818181818182,
           "rgb(221, 182, 170)"
          ],
          [
           0.2727272727272727,
           "rgb(213, 156, 137)"
          ],
          [
           0.36363636363636365,
           "rgb(205, 129, 103)"
          ],
          [
           0.45454545454545453,
           "rgb(196, 102, 73)"
          ],
          [
           0.5454545454545454,
           "rgb(186, 74, 47)"
          ],
          [
           0.6363636363636364,
           "rgb(172, 44, 36)"
          ],
          [
           0.7272727272727273,
           "rgb(149, 19, 39)"
          ],
          [
           0.8181818181818182,
           "rgb(120, 14, 40)"
          ],
          [
           0.9090909090909091,
           "rgb(89, 13, 31)"
          ],
          [
           1.0,
           "rgb(60, 9, 17)"
          ]
         ],
         "x": [
          0,
          0,
          0,
          0,
          0,
          0,
          0,
          0,
          0,
          0,
          1,
          1,
          1,
          1,
          1,
          1,
          1,
          1,
          1,
          1,
          2,
          2,
          2,
          2,
          2,
          2,
          2,
          2,
          2,
          2,
          3,
          3,
          3,
          3,
          3,
          3,
          3,
          3,
          3,
          3,
          4,
          4,
          4,
          4,
          4,
          4,
          4,
          4,
          4,
          4,
          5,
          5,
          5,
          5,
          5,
          5,
          5,
          5,
          5,
          5,
          6,
          6,
          6,
          6,
          6,
          6,
          6,
          6,
          6,
          6,
          7,
          7,
          7,
          7,
          7,
          7,
          7,
          7,
          7,
          7,
          8,
          8,
          8,
          8,
          8,
          8,
          8,
          8,
          8,
          8,
          9,
          9,
          9,
          9,
          9,
          9,
          9,
          9,
          9,
          9
         ],
         "y": [
          0.0,
          0.5555555555555556,
          1.1111111111111112,
          1.6666666666666667,
          2.2222222222222223,
          2.7777777777777777,
          3.3333333333333335,
          3.8888888888888893,
          4.444444444444445,
          5.0,
          0.0,
          0.5555555555555556,
          1.1111111111111112,
          1.6666666666666667,
          2.2222222222222223,
          2.7777777777777777,
          3.3333333333333335,
          3.8888888888888893,
          4.444444444444445,
          5.0,
          0.0,
          0.5555555555555556,
          1.1111111111111112,
          1.6666666666666667,
          2.2222222222222223,
          2.7777777777777777,
          3.3333333333333335,
          3.8888888888888893,
          4.444444444444445,
          5.0,
          0.0,
          0.5555555555555556,
          1.1111111111111112,
          1.6666666666666667,
          2.2222222222222223,
          2.7777777777777777,
          3.3333333333333335,
          3.8888888888888893,
          4.444444444444445,
          5.0,
          0.0,
          0.5555555555555556,
          1.1111111111111112,
          1.6666666666666667,
          2.2222222222222223,
          2.7777777777777777,
          3.3333333333333335,
          3.8888888888888893,
          4.444444444444445,
          5.0,
          0.0,
          0.5555555555555556,
          1.1111111111111112,
          1.6666666666666667,
          2.2222222222222223,
          2.7777777777777777,
          3.3333333333333335,
          3.8888888888888893,
          4.444444444444445,
          5.0,
          0.0,
          0.5555555555555556,
          1.1111111111111112,
          1.6666666666666667,
          2.2222222222222223,
          2.7777777777777777,
          3.3333333333333335,
          3.8888888888888893,
          4.444444444444445,
          5.0,
          0.0,
          0.5555555555555556,
          1.1111111111111112,
          1.6666666666666667,
          2.2222222222222223,
          2.7777777777777777,
          3.3333333333333335,
          3.8888888888888893,
          4.444444444444445,
          5.0,
          0.0,
          0.5555555555555556,
          1.1111111111111112,
          1.6666666666666667,
          2.2222222222222223,
          2.7777777777777777,
          3.3333333333333335,
          3.8888888888888893,
          4.444444444444445,
          5.0,
          0.0,
          0.5555555555555556,
          1.1111111111111112,
          1.6666666666666667,
          2.2222222222222223,
          2.7777777777777777,
          3.3333333333333335,
          3.8888888888888893,
          4.444444444444445,
          5.0
         ],
         "z": [
          3.598576934700836,
          3.85938341929988,
          4.6449268069006395,
          6.492476063514706,
          8.731419037898366,
          9.632244767768977,
          14.364621890079267,
          17.260339832249706,
          24.75021147542623,
          26.97562920926911,
          0.5232075621691131,
          0.8943403797679725,
          1.508172361528937,
          3.084279544153863,
          4.783085552795914,
          8.36689257378017,
          10.002456679013395,
          12.611778084847062,
          17.580920290068754,
          22.912121068873333,
          0.42003610631965493,
          0.7859375115799007,
          1.2990701125542732,
          2.981722463567073,
          4.532206775235786,
          6.802822105701303,
          8.650876264996482,
          13.192670019895615,
          17.3931604117299,
          23.207047246690458,
          0.28291788942033974,
          0.5661360274393188,
          1.2585570980581153,
          2.3178903277441125,
          4.3866601804639185,
          6.498834092451277,
          10.028896938997313,
          12.013679542151028,
          15.27270998998753,
          15.815622488648765,
          3.6332283214876326E-30,
          0.2562916827533587,
          1.0413492081964582,
          2.211167673739952,
          3.7638390371678683,
          5.542417966836047,
          8.20169053821665,
          10.557348472154901,
          14.409700667178551,
          18.73344144919078,
          5.070280208791613E-30,
          0.21817427378446436,
          0.6856117934490258,
          1.8353316305151215,
          3.6321074966184588,
          5.935590371927634,
          7.675324187654165,
          9.289264870349006,
          15.794213182189566,
          18.19925209888759,
          1.209397877488071E-27,
          0.1962207341938614,
          0.7020532995224003,
          1.8634709010228974,
          3.0555474199067696,
          4.119730991042567,
          7.190189703681279,
          10.163379770566308,
          12.635674825707822,
          17.423559569029393,
          1.977267532984822E-29,
          0.18073646337885854,
          0.9704265210100538,
          1.4693114772307385,
          3.402110207674003,
          5.148251197466451,
          6.9146099589670795,
          7.023808856657517,
          14.053185626801584,
          17.398947317154505,
          2.278120685753287E-26,
          0.1323928233324443,
          0.7007643749612121,
          1.462774232348116,
          3.0072984415696227,
          3.461573562832082,
          7.479032701421966,
          9.568921238356594,
          12.021149378416464,
          14.352708362686212,
          1.5910696605145937E-28,
          0.14438613813528686,
          0.6004115038313083,
          1.203199505258178,
          2.926692615979026,
          4.0379904142021035,
          6.7467823588791145,
          7.351787389715724,
          7.394664253725028,
          13.22906889576576
         ],
         "type": "heatmap"
        }
       ],
       "layout": {
        "title": {
         "text": "$\\text{(6) Average Train } MSE \\text{ As Function of } \\left(k,\\sigma^2\\right)$"
        },
        "xaxis": {
         "title": {
          "text": "$k$ - Fitted Polynomial Degree"
         }
        },
        "yaxis": {
         "title": {
          "text": "$\\sigma^2$ - Noise Levels"
         }
        },
        "template": {
         "data": {
          "barpolar": [
           {
            "marker": {
             "line": {
              "color": "white",
              "width": 0.5
             },
             "pattern": {
              "fillmode": "overlay",
              "size": 10,
              "solidity": 0.2
             }
            },
            "type": "barpolar"
           }
          ],
          "bar": [
           {
            "error_x": {
             "color": "rgb(36,36,36)"
            },
            "error_y": {
             "color": "rgb(36,36,36)"
            },
            "marker": {
             "line": {
              "color": "white",
              "width": 0.5
             },
             "pattern": {
              "fillmode": "overlay",
              "size": 10,
              "solidity": 0.2
             }
            },
            "type": "bar"
           }
          ],
          "carpet": [
           {
            "aaxis": {
             "endlinecolor": "rgb(36,36,36)",
             "gridcolor": "white",
             "linecolor": "white",
             "minorgridcolor": "white",
             "startlinecolor": "rgb(36,36,36)"
            },
            "baxis": {
             "endlinecolor": "rgb(36,36,36)",
             "gridcolor": "white",
             "linecolor": "white",
             "minorgridcolor": "white",
             "startlinecolor": "rgb(36,36,36)"
            },
            "type": "carpet"
           }
          ],
          "choropleth": [
           {
            "colorbar": {
             "outlinewidth": 1,
             "tickcolor": "rgb(36,36,36)",
             "ticks": "outside"
            },
            "type": "choropleth"
           }
          ],
          "contourcarpet": [
           {
            "colorbar": {
             "outlinewidth": 1,
             "tickcolor": "rgb(36,36,36)",
             "ticks": "outside"
            },
            "type": "contourcarpet"
           }
          ],
          "contour": [
           {
            "colorbar": {
             "outlinewidth": 1,
             "tickcolor": "rgb(36,36,36)",
             "ticks": "outside"
            },
            "colorscale": [
             [
              0.0,
              "#440154"
             ],
             [
              0.1111111111111111,
              "#482878"
             ],
             [
              0.2222222222222222,
              "#3e4989"
             ],
             [
              0.3333333333333333,
              "#31688e"
             ],
             [
              0.4444444444444444,
              "#26828e"
             ],
             [
              0.5555555555555556,
              "#1f9e89"
             ],
             [
              0.6666666666666666,
              "#35b779"
             ],
             [
              0.7777777777777778,
              "#6ece58"
             ],
             [
              0.8888888888888888,
              "#b5de2b"
             ],
             [
              1.0,
              "#fde725"
             ]
            ],
            "type": "contour"
           }
          ],
          "heatmapgl": [
           {
            "colorbar": {
             "outlinewidth": 1,
             "tickcolor": "rgb(36,36,36)",
             "ticks": "outside"
            },
            "colorscale": [
             [
              0.0,
              "#440154"
             ],
             [
              0.1111111111111111,
              "#482878"
             ],
             [
              0.2222222222222222,
              "#3e4989"
             ],
             [
              0.3333333333333333,
              "#31688e"
             ],
             [
              0.4444444444444444,
              "#26828e"
             ],
             [
              0.5555555555555556,
              "#1f9e89"
             ],
             [
              0.6666666666666666,
              "#35b779"
             ],
             [
              0.7777777777777778,
              "#6ece58"
             ],
             [
              0.8888888888888888,
              "#b5de2b"
             ],
             [
              1.0,
              "#fde725"
             ]
            ],
            "type": "heatmapgl"
           }
          ],
          "heatmap": [
           {
            "colorbar": {
             "outlinewidth": 1,
             "tickcolor": "rgb(36,36,36)",
             "ticks": "outside"
            },
            "colorscale": [
             [
              0.0,
              "#440154"
             ],
             [
              0.1111111111111111,
              "#482878"
             ],
             [
              0.2222222222222222,
              "#3e4989"
             ],
             [
              0.3333333333333333,
              "#31688e"
             ],
             [
              0.4444444444444444,
              "#26828e"
             ],
             [
              0.5555555555555556,
              "#1f9e89"
             ],
             [
              0.6666666666666666,
              "#35b779"
             ],
             [
              0.7777777777777778,
              "#6ece58"
             ],
             [
              0.8888888888888888,
              "#b5de2b"
             ],
             [
              1.0,
              "#fde725"
             ]
            ],
            "type": "heatmap"
           }
          ],
          "histogram2dcontour": [
           {
            "colorbar": {
             "outlinewidth": 1,
             "tickcolor": "rgb(36,36,36)",
             "ticks": "outside"
            },
            "colorscale": [
             [
              0.0,
              "#440154"
             ],
             [
              0.1111111111111111,
              "#482878"
             ],
             [
              0.2222222222222222,
              "#3e4989"
             ],
             [
              0.3333333333333333,
              "#31688e"
             ],
             [
              0.4444444444444444,
              "#26828e"
             ],
             [
              0.5555555555555556,
              "#1f9e89"
             ],
             [
              0.6666666666666666,
              "#35b779"
             ],
             [
              0.7777777777777778,
              "#6ece58"
             ],
             [
              0.8888888888888888,
              "#b5de2b"
             ],
             [
              1.0,
              "#fde725"
             ]
            ],
            "type": "histogram2dcontour"
           }
          ],
          "histogram2d": [
           {
            "colorbar": {
             "outlinewidth": 1,
             "tickcolor": "rgb(36,36,36)",
             "ticks": "outside"
            },
            "colorscale": [
             [
              0.0,
              "#440154"
             ],
             [
              0.1111111111111111,
              "#482878"
             ],
             [
              0.2222222222222222,
              "#3e4989"
             ],
             [
              0.3333333333333333,
              "#31688e"
             ],
             [
              0.4444444444444444,
              "#26828e"
             ],
             [
              0.5555555555555556,
              "#1f9e89"
             ],
             [
              0.6666666666666666,
              "#35b779"
             ],
             [
              0.7777777777777778,
              "#6ece58"
             ],
             [
              0.8888888888888888,
              "#b5de2b"
             ],
             [
              1.0,
              "#fde725"
             ]
            ],
            "type": "histogram2d"
           }
          ],
          "histogram": [
           {
            "marker": {
             "line": {
              "color": "white",
              "width": 0.6
             }
            },
            "type": "histogram"
           }
          ],
          "mesh3d": [
           {
            "colorbar": {
             "outlinewidth": 1,
             "tickcolor": "rgb(36,36,36)",
             "ticks": "outside"
            },
            "type": "mesh3d"
           }
          ],
          "parcoords": [
           {
            "line": {
             "colorbar": {
              "outlinewidth": 1,
              "tickcolor": "rgb(36,36,36)",
              "ticks": "outside"
             }
            },
            "type": "parcoords"
           }
          ],
          "pie": [
           {
            "automargin": true,
            "type": "pie"
           }
          ],
          "scatter3d": [
           {
            "line": {
             "colorbar": {
              "outlinewidth": 1,
              "tickcolor": "rgb(36,36,36)",
              "ticks": "outside"
             }
            },
            "marker": {
             "colorbar": {
              "outlinewidth": 1,
              "tickcolor": "rgb(36,36,36)",
              "ticks": "outside"
             }
            },
            "type": "scatter3d"
           }
          ],
          "scattercarpet": [
           {
            "marker": {
             "colorbar": {
              "outlinewidth": 1,
              "tickcolor": "rgb(36,36,36)",
              "ticks": "outside"
             }
            },
            "type": "scattercarpet"
           }
          ],
          "scattergeo": [
           {
            "marker": {
             "colorbar": {
              "outlinewidth": 1,
              "tickcolor": "rgb(36,36,36)",
              "ticks": "outside"
             }
            },
            "type": "scattergeo"
           }
          ],
          "scattergl": [
           {
            "marker": {
             "colorbar": {
              "outlinewidth": 1,
              "tickcolor": "rgb(36,36,36)",
              "ticks": "outside"
             }
            },
            "type": "scattergl"
           }
          ],
          "scattermapbox": [
           {
            "marker": {
             "colorbar": {
              "outlinewidth": 1,
              "tickcolor": "rgb(36,36,36)",
              "ticks": "outside"
             }
            },
            "type": "scattermapbox"
           }
          ],
          "scatterpolargl": [
           {
            "marker": {
             "colorbar": {
              "outlinewidth": 1,
              "tickcolor": "rgb(36,36,36)",
              "ticks": "outside"
             }
            },
            "type": "scatterpolargl"
           }
          ],
          "scatterpolar": [
           {
            "marker": {
             "colorbar": {
              "outlinewidth": 1,
              "tickcolor": "rgb(36,36,36)",
              "ticks": "outside"
             }
            },
            "type": "scatterpolar"
           }
          ],
          "scatter": [
           {
            "marker": {
             "colorbar": {
              "outlinewidth": 1,
              "tickcolor": "rgb(36,36,36)",
              "ticks": "outside"
             }
            },
            "type": "scatter"
           }
          ],
          "scatterternary": [
           {
            "marker": {
             "colorbar": {
              "outlinewidth": 1,
              "tickcolor": "rgb(36,36,36)",
              "ticks": "outside"
             }
            },
            "type": "scatterternary"
           }
          ],
          "surface": [
           {
            "colorbar": {
             "outlinewidth": 1,
             "tickcolor": "rgb(36,36,36)",
             "ticks": "outside"
            },
            "colorscale": [
             [
              0.0,
              "#440154"
             ],
             [
              0.1111111111111111,
              "#482878"
             ],
             [
              0.2222222222222222,
              "#3e4989"
             ],
             [
              0.3333333333333333,
              "#31688e"
             ],
             [
              0.4444444444444444,
              "#26828e"
             ],
             [
              0.5555555555555556,
              "#1f9e89"
             ],
             [
              0.6666666666666666,
              "#35b779"
             ],
             [
              0.7777777777777778,
              "#6ece58"
             ],
             [
              0.8888888888888888,
              "#b5de2b"
             ],
             [
              1.0,
              "#fde725"
             ]
            ],
            "type": "surface"
           }
          ],
          "table": [
           {
            "cells": {
             "fill": {
              "color": "rgb(237,237,237)"
             },
             "line": {
              "color": "white"
             }
            },
            "header": {
             "fill": {
              "color": "rgb(217,217,217)"
             },
             "line": {
              "color": "white"
             }
            },
            "type": "table"
           }
          ]
         },
         "layout": {
          "annotationdefaults": {
           "arrowhead": 0,
           "arrowwidth": 1
          },
          "autotypenumbers": "strict",
          "coloraxis": {
           "colorbar": {
            "outlinewidth": 1,
            "tickcolor": "rgb(36,36,36)",
            "ticks": "outside"
           }
          },
          "colorscale": {
           "diverging": [
            [
             0.0,
             "rgb(103,0,31)"
            ],
            [
             0.1,
             "rgb(178,24,43)"
            ],
            [
             0.2,
             "rgb(214,96,77)"
            ],
            [
             0.3,
             "rgb(244,165,130)"
            ],
            [
             0.4,
             "rgb(253,219,199)"
            ],
            [
             0.5,
             "rgb(247,247,247)"
            ],
            [
             0.6,
             "rgb(209,229,240)"
            ],
            [
             0.7,
             "rgb(146,197,222)"
            ],
            [
             0.8,
             "rgb(67,147,195)"
            ],
            [
             0.9,
             "rgb(33,102,172)"
            ],
            [
             1.0,
             "rgb(5,48,97)"
            ]
           ],
           "sequential": [
            [
             0.0,
             "#440154"
            ],
            [
             0.1111111111111111,
             "#482878"
            ],
            [
             0.2222222222222222,
             "#3e4989"
            ],
            [
             0.3333333333333333,
             "#31688e"
            ],
            [
             0.4444444444444444,
             "#26828e"
            ],
            [
             0.5555555555555556,
             "#1f9e89"
            ],
            [
             0.6666666666666666,
             "#35b779"
            ],
            [
             0.7777777777777778,
             "#6ece58"
            ],
            [
             0.8888888888888888,
             "#b5de2b"
            ],
            [
             1.0,
             "#fde725"
            ]
           ],
           "sequentialminus": [
            [
             0.0,
             "#440154"
            ],
            [
             0.1111111111111111,
             "#482878"
            ],
            [
             0.2222222222222222,
             "#3e4989"
            ],
            [
             0.3333333333333333,
             "#31688e"
            ],
            [
             0.4444444444444444,
             "#26828e"
            ],
            [
             0.5555555555555556,
             "#1f9e89"
            ],
            [
             0.6666666666666666,
             "#35b779"
            ],
            [
             0.7777777777777778,
             "#6ece58"
            ],
            [
             0.8888888888888888,
             "#b5de2b"
            ],
            [
             1.0,
             "#fde725"
            ]
           ]
          },
          "colorway": [
           "#1F77B4",
           "#FF7F0E",
           "#2CA02C",
           "#D62728",
           "#9467BD",
           "#8C564B",
           "#E377C2",
           "#7F7F7F",
           "#BCBD22",
           "#17BECF"
          ],
          "font": {
           "color": "rgb(36,36,36)"
          },
          "geo": {
           "bgcolor": "white",
           "lakecolor": "white",
           "landcolor": "white",
           "showlakes": true,
           "showland": true,
           "subunitcolor": "white"
          },
          "hoverlabel": {
           "align": "left"
          },
          "hovermode": "closest",
          "mapbox": {
           "style": "light"
          },
          "paper_bgcolor": "white",
          "plot_bgcolor": "white",
          "polar": {
           "angularaxis": {
            "gridcolor": "rgb(232,232,232)",
            "linecolor": "rgb(36,36,36)",
            "showgrid": false,
            "showline": true,
            "ticks": "outside"
           },
           "bgcolor": "white",
           "radialaxis": {
            "gridcolor": "rgb(232,232,232)",
            "linecolor": "rgb(36,36,36)",
            "showgrid": false,
            "showline": true,
            "ticks": "outside"
           }
          },
          "scene": {
           "xaxis": {
            "backgroundcolor": "white",
            "gridcolor": "rgb(232,232,232)",
            "gridwidth": 2,
            "linecolor": "rgb(36,36,36)",
            "showbackground": true,
            "showgrid": false,
            "showline": true,
            "ticks": "outside",
            "zeroline": false,
            "zerolinecolor": "rgb(36,36,36)"
           },
           "yaxis": {
            "backgroundcolor": "white",
            "gridcolor": "rgb(232,232,232)",
            "gridwidth": 2,
            "linecolor": "rgb(36,36,36)",
            "showbackground": true,
            "showgrid": false,
            "showline": true,
            "ticks": "outside",
            "zeroline": false,
            "zerolinecolor": "rgb(36,36,36)"
           },
           "zaxis": {
            "backgroundcolor": "white",
            "gridcolor": "rgb(232,232,232)",
            "gridwidth": 2,
            "linecolor": "rgb(36,36,36)",
            "showbackground": true,
            "showgrid": false,
            "showline": true,
            "ticks": "outside",
            "zeroline": false,
            "zerolinecolor": "rgb(36,36,36)"
           }
          },
          "shapedefaults": {
           "fillcolor": "black",
           "line": {
            "width": 0
           },
           "opacity": 0.3
          },
          "ternary": {
           "aaxis": {
            "gridcolor": "rgb(232,232,232)",
            "linecolor": "rgb(36,36,36)",
            "showgrid": false,
            "showline": true,
            "ticks": "outside"
           },
           "baxis": {
            "gridcolor": "rgb(232,232,232)",
            "linecolor": "rgb(36,36,36)",
            "showgrid": false,
            "showline": true,
            "ticks": "outside"
           },
           "bgcolor": "white",
           "caxis": {
            "gridcolor": "rgb(232,232,232)",
            "linecolor": "rgb(36,36,36)",
            "showgrid": false,
            "showline": true,
            "ticks": "outside"
           }
          },
          "title": {
           "x": 0.05
          },
          "xaxis": {
           "automargin": true,
           "gridcolor": "rgb(232,232,232)",
           "linecolor": "rgb(36,36,36)",
           "showgrid": false,
           "showline": true,
           "ticks": "outside",
           "title": {
            "standoff": 15
           },
           "zeroline": false,
           "zerolinecolor": "rgb(36,36,36)"
          },
          "yaxis": {
           "automargin": true,
           "gridcolor": "rgb(232,232,232)",
           "linecolor": "rgb(36,36,36)",
           "showgrid": false,
           "showline": true,
           "ticks": "outside",
           "title": {
            "standoff": 15
           },
           "zeroline": false,
           "zerolinecolor": "rgb(36,36,36)"
          },
          "margin": {
           "b": 0,
           "l": 20,
           "r": 20,
           "t": 40
          }
         }
        }
       },
       "config": {
        "plotlyServerURL": "https://plot.ly"
       }
      },
      "text/html": "<div>                            <div id=\"e249a82f-3d30-4a74-9759-a00f556728e1\" class=\"plotly-graph-div\" style=\"height:525px; width:100%;\"></div>            <script type=\"text/javascript\">                require([\"plotly\"], function(Plotly) {                    window.PLOTLYENV=window.PLOTLYENV || {};                                    if (document.getElementById(\"e249a82f-3d30-4a74-9759-a00f556728e1\")) {                    Plotly.newPlot(                        \"e249a82f-3d30-4a74-9759-a00f556728e1\",                        [{\"colorscale\":[[0.0,\"rgb(241, 236, 236)\"],[0.09090909090909091,\"rgb(230, 209, 203)\"],[0.18181818181818182,\"rgb(221, 182, 170)\"],[0.2727272727272727,\"rgb(213, 156, 137)\"],[0.36363636363636365,\"rgb(205, 129, 103)\"],[0.45454545454545453,\"rgb(196, 102, 73)\"],[0.5454545454545454,\"rgb(186, 74, 47)\"],[0.6363636363636364,\"rgb(172, 44, 36)\"],[0.7272727272727273,\"rgb(149, 19, 39)\"],[0.8181818181818182,\"rgb(120, 14, 40)\"],[0.9090909090909091,\"rgb(89, 13, 31)\"],[1.0,\"rgb(60, 9, 17)\"]],\"x\":[0,0,0,0,0,0,0,0,0,0,1,1,1,1,1,1,1,1,1,1,2,2,2,2,2,2,2,2,2,2,3,3,3,3,3,3,3,3,3,3,4,4,4,4,4,4,4,4,4,4,5,5,5,5,5,5,5,5,5,5,6,6,6,6,6,6,6,6,6,6,7,7,7,7,7,7,7,7,7,7,8,8,8,8,8,8,8,8,8,8,9,9,9,9,9,9,9,9,9,9],\"y\":[0.0,0.5555555555555556,1.1111111111111112,1.6666666666666667,2.2222222222222223,2.7777777777777777,3.3333333333333335,3.8888888888888893,4.444444444444445,5.0,0.0,0.5555555555555556,1.1111111111111112,1.6666666666666667,2.2222222222222223,2.7777777777777777,3.3333333333333335,3.8888888888888893,4.444444444444445,5.0,0.0,0.5555555555555556,1.1111111111111112,1.6666666666666667,2.2222222222222223,2.7777777777777777,3.3333333333333335,3.8888888888888893,4.444444444444445,5.0,0.0,0.5555555555555556,1.1111111111111112,1.6666666666666667,2.2222222222222223,2.7777777777777777,3.3333333333333335,3.8888888888888893,4.444444444444445,5.0,0.0,0.5555555555555556,1.1111111111111112,1.6666666666666667,2.2222222222222223,2.7777777777777777,3.3333333333333335,3.8888888888888893,4.444444444444445,5.0,0.0,0.5555555555555556,1.1111111111111112,1.6666666666666667,2.2222222222222223,2.7777777777777777,3.3333333333333335,3.8888888888888893,4.444444444444445,5.0,0.0,0.5555555555555556,1.1111111111111112,1.6666666666666667,2.2222222222222223,2.7777777777777777,3.3333333333333335,3.8888888888888893,4.444444444444445,5.0,0.0,0.5555555555555556,1.1111111111111112,1.6666666666666667,2.2222222222222223,2.7777777777777777,3.3333333333333335,3.8888888888888893,4.444444444444445,5.0,0.0,0.5555555555555556,1.1111111111111112,1.6666666666666667,2.2222222222222223,2.7777777777777777,3.3333333333333335,3.8888888888888893,4.444444444444445,5.0,0.0,0.5555555555555556,1.1111111111111112,1.6666666666666667,2.2222222222222223,2.7777777777777777,3.3333333333333335,3.8888888888888893,4.444444444444445,5.0],\"z\":[3.598576934700836,3.85938341929988,4.6449268069006395,6.492476063514706,8.731419037898366,9.632244767768977,14.364621890079267,17.260339832249706,24.75021147542623,26.97562920926911,0.5232075621691131,0.8943403797679725,1.508172361528937,3.084279544153863,4.783085552795914,8.36689257378017,10.002456679013395,12.611778084847062,17.580920290068754,22.912121068873333,0.42003610631965493,0.7859375115799007,1.2990701125542732,2.981722463567073,4.532206775235786,6.802822105701303,8.650876264996482,13.192670019895615,17.3931604117299,23.207047246690458,0.28291788942033974,0.5661360274393188,1.2585570980581153,2.3178903277441125,4.3866601804639185,6.498834092451277,10.028896938997313,12.013679542151028,15.27270998998753,15.815622488648765,3.6332283214876326e-30,0.2562916827533587,1.0413492081964582,2.211167673739952,3.7638390371678683,5.542417966836047,8.20169053821665,10.557348472154901,14.409700667178551,18.73344144919078,5.070280208791613e-30,0.21817427378446436,0.6856117934490258,1.8353316305151215,3.6321074966184588,5.935590371927634,7.675324187654165,9.289264870349006,15.794213182189566,18.19925209888759,1.209397877488071e-27,0.1962207341938614,0.7020532995224003,1.8634709010228974,3.0555474199067696,4.119730991042567,7.190189703681279,10.163379770566308,12.635674825707822,17.423559569029393,1.977267532984822e-29,0.18073646337885854,0.9704265210100538,1.4693114772307385,3.402110207674003,5.148251197466451,6.9146099589670795,7.023808856657517,14.053185626801584,17.398947317154505,2.278120685753287e-26,0.1323928233324443,0.7007643749612121,1.462774232348116,3.0072984415696227,3.461573562832082,7.479032701421966,9.568921238356594,12.021149378416464,14.352708362686212,1.5910696605145937e-28,0.14438613813528686,0.6004115038313083,1.203199505258178,2.926692615979026,4.0379904142021035,6.7467823588791145,7.351787389715724,7.394664253725028,13.22906889576576],\"type\":\"heatmap\"}],                        {\"title\":{\"text\":\"$\\\\text{(6) Average Train } MSE \\\\text{ As Function of } \\\\left(k,\\\\sigma^2\\\\right)$\"},\"xaxis\":{\"title\":{\"text\":\"$k$ - Fitted Polynomial Degree\"}},\"yaxis\":{\"title\":{\"text\":\"$\\\\sigma^2$ - Noise Levels\"}},\"template\":{\"data\":{\"barpolar\":[{\"marker\":{\"line\":{\"color\":\"white\",\"width\":0.5},\"pattern\":{\"fillmode\":\"overlay\",\"size\":10,\"solidity\":0.2}},\"type\":\"barpolar\"}],\"bar\":[{\"error_x\":{\"color\":\"rgb(36,36,36)\"},\"error_y\":{\"color\":\"rgb(36,36,36)\"},\"marker\":{\"line\":{\"color\":\"white\",\"width\":0.5},\"pattern\":{\"fillmode\":\"overlay\",\"size\":10,\"solidity\":0.2}},\"type\":\"bar\"}],\"carpet\":[{\"aaxis\":{\"endlinecolor\":\"rgb(36,36,36)\",\"gridcolor\":\"white\",\"linecolor\":\"white\",\"minorgridcolor\":\"white\",\"startlinecolor\":\"rgb(36,36,36)\"},\"baxis\":{\"endlinecolor\":\"rgb(36,36,36)\",\"gridcolor\":\"white\",\"linecolor\":\"white\",\"minorgridcolor\":\"white\",\"startlinecolor\":\"rgb(36,36,36)\"},\"type\":\"carpet\"}],\"choropleth\":[{\"colorbar\":{\"outlinewidth\":1,\"tickcolor\":\"rgb(36,36,36)\",\"ticks\":\"outside\"},\"type\":\"choropleth\"}],\"contourcarpet\":[{\"colorbar\":{\"outlinewidth\":1,\"tickcolor\":\"rgb(36,36,36)\",\"ticks\":\"outside\"},\"type\":\"contourcarpet\"}],\"contour\":[{\"colorbar\":{\"outlinewidth\":1,\"tickcolor\":\"rgb(36,36,36)\",\"ticks\":\"outside\"},\"colorscale\":[[0.0,\"#440154\"],[0.1111111111111111,\"#482878\"],[0.2222222222222222,\"#3e4989\"],[0.3333333333333333,\"#31688e\"],[0.4444444444444444,\"#26828e\"],[0.5555555555555556,\"#1f9e89\"],[0.6666666666666666,\"#35b779\"],[0.7777777777777778,\"#6ece58\"],[0.8888888888888888,\"#b5de2b\"],[1.0,\"#fde725\"]],\"type\":\"contour\"}],\"heatmapgl\":[{\"colorbar\":{\"outlinewidth\":1,\"tickcolor\":\"rgb(36,36,36)\",\"ticks\":\"outside\"},\"colorscale\":[[0.0,\"#440154\"],[0.1111111111111111,\"#482878\"],[0.2222222222222222,\"#3e4989\"],[0.3333333333333333,\"#31688e\"],[0.4444444444444444,\"#26828e\"],[0.5555555555555556,\"#1f9e89\"],[0.6666666666666666,\"#35b779\"],[0.7777777777777778,\"#6ece58\"],[0.8888888888888888,\"#b5de2b\"],[1.0,\"#fde725\"]],\"type\":\"heatmapgl\"}],\"heatmap\":[{\"colorbar\":{\"outlinewidth\":1,\"tickcolor\":\"rgb(36,36,36)\",\"ticks\":\"outside\"},\"colorscale\":[[0.0,\"#440154\"],[0.1111111111111111,\"#482878\"],[0.2222222222222222,\"#3e4989\"],[0.3333333333333333,\"#31688e\"],[0.4444444444444444,\"#26828e\"],[0.5555555555555556,\"#1f9e89\"],[0.6666666666666666,\"#35b779\"],[0.7777777777777778,\"#6ece58\"],[0.8888888888888888,\"#b5de2b\"],[1.0,\"#fde725\"]],\"type\":\"heatmap\"}],\"histogram2dcontour\":[{\"colorbar\":{\"outlinewidth\":1,\"tickcolor\":\"rgb(36,36,36)\",\"ticks\":\"outside\"},\"colorscale\":[[0.0,\"#440154\"],[0.1111111111111111,\"#482878\"],[0.2222222222222222,\"#3e4989\"],[0.3333333333333333,\"#31688e\"],[0.4444444444444444,\"#26828e\"],[0.5555555555555556,\"#1f9e89\"],[0.6666666666666666,\"#35b779\"],[0.7777777777777778,\"#6ece58\"],[0.8888888888888888,\"#b5de2b\"],[1.0,\"#fde725\"]],\"type\":\"histogram2dcontour\"}],\"histogram2d\":[{\"colorbar\":{\"outlinewidth\":1,\"tickcolor\":\"rgb(36,36,36)\",\"ticks\":\"outside\"},\"colorscale\":[[0.0,\"#440154\"],[0.1111111111111111,\"#482878\"],[0.2222222222222222,\"#3e4989\"],[0.3333333333333333,\"#31688e\"],[0.4444444444444444,\"#26828e\"],[0.5555555555555556,\"#1f9e89\"],[0.6666666666666666,\"#35b779\"],[0.7777777777777778,\"#6ece58\"],[0.8888888888888888,\"#b5de2b\"],[1.0,\"#fde725\"]],\"type\":\"histogram2d\"}],\"histogram\":[{\"marker\":{\"line\":{\"color\":\"white\",\"width\":0.6}},\"type\":\"histogram\"}],\"mesh3d\":[{\"colorbar\":{\"outlinewidth\":1,\"tickcolor\":\"rgb(36,36,36)\",\"ticks\":\"outside\"},\"type\":\"mesh3d\"}],\"parcoords\":[{\"line\":{\"colorbar\":{\"outlinewidth\":1,\"tickcolor\":\"rgb(36,36,36)\",\"ticks\":\"outside\"}},\"type\":\"parcoords\"}],\"pie\":[{\"automargin\":true,\"type\":\"pie\"}],\"scatter3d\":[{\"line\":{\"colorbar\":{\"outlinewidth\":1,\"tickcolor\":\"rgb(36,36,36)\",\"ticks\":\"outside\"}},\"marker\":{\"colorbar\":{\"outlinewidth\":1,\"tickcolor\":\"rgb(36,36,36)\",\"ticks\":\"outside\"}},\"type\":\"scatter3d\"}],\"scattercarpet\":[{\"marker\":{\"colorbar\":{\"outlinewidth\":1,\"tickcolor\":\"rgb(36,36,36)\",\"ticks\":\"outside\"}},\"type\":\"scattercarpet\"}],\"scattergeo\":[{\"marker\":{\"colorbar\":{\"outlinewidth\":1,\"tickcolor\":\"rgb(36,36,36)\",\"ticks\":\"outside\"}},\"type\":\"scattergeo\"}],\"scattergl\":[{\"marker\":{\"colorbar\":{\"outlinewidth\":1,\"tickcolor\":\"rgb(36,36,36)\",\"ticks\":\"outside\"}},\"type\":\"scattergl\"}],\"scattermapbox\":[{\"marker\":{\"colorbar\":{\"outlinewidth\":1,\"tickcolor\":\"rgb(36,36,36)\",\"ticks\":\"outside\"}},\"type\":\"scattermapbox\"}],\"scatterpolargl\":[{\"marker\":{\"colorbar\":{\"outlinewidth\":1,\"tickcolor\":\"rgb(36,36,36)\",\"ticks\":\"outside\"}},\"type\":\"scatterpolargl\"}],\"scatterpolar\":[{\"marker\":{\"colorbar\":{\"outlinewidth\":1,\"tickcolor\":\"rgb(36,36,36)\",\"ticks\":\"outside\"}},\"type\":\"scatterpolar\"}],\"scatter\":[{\"marker\":{\"colorbar\":{\"outlinewidth\":1,\"tickcolor\":\"rgb(36,36,36)\",\"ticks\":\"outside\"}},\"type\":\"scatter\"}],\"scatterternary\":[{\"marker\":{\"colorbar\":{\"outlinewidth\":1,\"tickcolor\":\"rgb(36,36,36)\",\"ticks\":\"outside\"}},\"type\":\"scatterternary\"}],\"surface\":[{\"colorbar\":{\"outlinewidth\":1,\"tickcolor\":\"rgb(36,36,36)\",\"ticks\":\"outside\"},\"colorscale\":[[0.0,\"#440154\"],[0.1111111111111111,\"#482878\"],[0.2222222222222222,\"#3e4989\"],[0.3333333333333333,\"#31688e\"],[0.4444444444444444,\"#26828e\"],[0.5555555555555556,\"#1f9e89\"],[0.6666666666666666,\"#35b779\"],[0.7777777777777778,\"#6ece58\"],[0.8888888888888888,\"#b5de2b\"],[1.0,\"#fde725\"]],\"type\":\"surface\"}],\"table\":[{\"cells\":{\"fill\":{\"color\":\"rgb(237,237,237)\"},\"line\":{\"color\":\"white\"}},\"header\":{\"fill\":{\"color\":\"rgb(217,217,217)\"},\"line\":{\"color\":\"white\"}},\"type\":\"table\"}]},\"layout\":{\"annotationdefaults\":{\"arrowhead\":0,\"arrowwidth\":1},\"autotypenumbers\":\"strict\",\"coloraxis\":{\"colorbar\":{\"outlinewidth\":1,\"tickcolor\":\"rgb(36,36,36)\",\"ticks\":\"outside\"}},\"colorscale\":{\"diverging\":[[0.0,\"rgb(103,0,31)\"],[0.1,\"rgb(178,24,43)\"],[0.2,\"rgb(214,96,77)\"],[0.3,\"rgb(244,165,130)\"],[0.4,\"rgb(253,219,199)\"],[0.5,\"rgb(247,247,247)\"],[0.6,\"rgb(209,229,240)\"],[0.7,\"rgb(146,197,222)\"],[0.8,\"rgb(67,147,195)\"],[0.9,\"rgb(33,102,172)\"],[1.0,\"rgb(5,48,97)\"]],\"sequential\":[[0.0,\"#440154\"],[0.1111111111111111,\"#482878\"],[0.2222222222222222,\"#3e4989\"],[0.3333333333333333,\"#31688e\"],[0.4444444444444444,\"#26828e\"],[0.5555555555555556,\"#1f9e89\"],[0.6666666666666666,\"#35b779\"],[0.7777777777777778,\"#6ece58\"],[0.8888888888888888,\"#b5de2b\"],[1.0,\"#fde725\"]],\"sequentialminus\":[[0.0,\"#440154\"],[0.1111111111111111,\"#482878\"],[0.2222222222222222,\"#3e4989\"],[0.3333333333333333,\"#31688e\"],[0.4444444444444444,\"#26828e\"],[0.5555555555555556,\"#1f9e89\"],[0.6666666666666666,\"#35b779\"],[0.7777777777777778,\"#6ece58\"],[0.8888888888888888,\"#b5de2b\"],[1.0,\"#fde725\"]]},\"colorway\":[\"#1F77B4\",\"#FF7F0E\",\"#2CA02C\",\"#D62728\",\"#9467BD\",\"#8C564B\",\"#E377C2\",\"#7F7F7F\",\"#BCBD22\",\"#17BECF\"],\"font\":{\"color\":\"rgb(36,36,36)\"},\"geo\":{\"bgcolor\":\"white\",\"lakecolor\":\"white\",\"landcolor\":\"white\",\"showlakes\":true,\"showland\":true,\"subunitcolor\":\"white\"},\"hoverlabel\":{\"align\":\"left\"},\"hovermode\":\"closest\",\"mapbox\":{\"style\":\"light\"},\"paper_bgcolor\":\"white\",\"plot_bgcolor\":\"white\",\"polar\":{\"angularaxis\":{\"gridcolor\":\"rgb(232,232,232)\",\"linecolor\":\"rgb(36,36,36)\",\"showgrid\":false,\"showline\":true,\"ticks\":\"outside\"},\"bgcolor\":\"white\",\"radialaxis\":{\"gridcolor\":\"rgb(232,232,232)\",\"linecolor\":\"rgb(36,36,36)\",\"showgrid\":false,\"showline\":true,\"ticks\":\"outside\"}},\"scene\":{\"xaxis\":{\"backgroundcolor\":\"white\",\"gridcolor\":\"rgb(232,232,232)\",\"gridwidth\":2,\"linecolor\":\"rgb(36,36,36)\",\"showbackground\":true,\"showgrid\":false,\"showline\":true,\"ticks\":\"outside\",\"zeroline\":false,\"zerolinecolor\":\"rgb(36,36,36)\"},\"yaxis\":{\"backgroundcolor\":\"white\",\"gridcolor\":\"rgb(232,232,232)\",\"gridwidth\":2,\"linecolor\":\"rgb(36,36,36)\",\"showbackground\":true,\"showgrid\":false,\"showline\":true,\"ticks\":\"outside\",\"zeroline\":false,\"zerolinecolor\":\"rgb(36,36,36)\"},\"zaxis\":{\"backgroundcolor\":\"white\",\"gridcolor\":\"rgb(232,232,232)\",\"gridwidth\":2,\"linecolor\":\"rgb(36,36,36)\",\"showbackground\":true,\"showgrid\":false,\"showline\":true,\"ticks\":\"outside\",\"zeroline\":false,\"zerolinecolor\":\"rgb(36,36,36)\"}},\"shapedefaults\":{\"fillcolor\":\"black\",\"line\":{\"width\":0},\"opacity\":0.3},\"ternary\":{\"aaxis\":{\"gridcolor\":\"rgb(232,232,232)\",\"linecolor\":\"rgb(36,36,36)\",\"showgrid\":false,\"showline\":true,\"ticks\":\"outside\"},\"baxis\":{\"gridcolor\":\"rgb(232,232,232)\",\"linecolor\":\"rgb(36,36,36)\",\"showgrid\":false,\"showline\":true,\"ticks\":\"outside\"},\"bgcolor\":\"white\",\"caxis\":{\"gridcolor\":\"rgb(232,232,232)\",\"linecolor\":\"rgb(36,36,36)\",\"showgrid\":false,\"showline\":true,\"ticks\":\"outside\"}},\"title\":{\"x\":0.05},\"xaxis\":{\"automargin\":true,\"gridcolor\":\"rgb(232,232,232)\",\"linecolor\":\"rgb(36,36,36)\",\"showgrid\":false,\"showline\":true,\"ticks\":\"outside\",\"title\":{\"standoff\":15},\"zeroline\":false,\"zerolinecolor\":\"rgb(36,36,36)\"},\"yaxis\":{\"automargin\":true,\"gridcolor\":\"rgb(232,232,232)\",\"linecolor\":\"rgb(36,36,36)\",\"showgrid\":false,\"showline\":true,\"ticks\":\"outside\",\"title\":{\"standoff\":15},\"zeroline\":false,\"zerolinecolor\":\"rgb(36,36,36)\"},\"margin\":{\"b\":0,\"l\":20,\"r\":20,\"t\":40}}}},                        {\"responsive\": true}                    ).then(function(){\n                            \nvar gd = document.getElementById('e249a82f-3d30-4a74-9759-a00f556728e1');\nvar x = new MutationObserver(function (mutations, observer) {{\n        var display = window.getComputedStyle(gd).display;\n        if (!display || display === 'none') {{\n            console.log([gd, 'removed!']);\n            Plotly.purge(gd);\n            observer.disconnect();\n        }}\n}});\n\n// Listen for the removal of the full notebook cells\nvar notebookContainer = gd.closest('#notebook-container');\nif (notebookContainer) {{\n    x.observe(notebookContainer, {childList: true});\n}}\n\n// Listen for the clearing of the current output cell\nvar outputEl = gd.closest('.output');\nif (outputEl) {{\n    x.observe(outputEl, {childList: true});\n}}\n\n                        })                };                });            </script>        </div>"
     },
     "metadata": {},
     "output_type": "display_data"
    }
   ],
   "source": [
    "from sklearn.model_selection import ParameterGrid\n",
    "\n",
    "df = []\n",
    "for setting in ParameterGrid(dict(k=range(10), s=np.linspace(0, 5, 10), repetition=range(10))):\n",
    "    y = y_ + np.random.normal(scale=setting[\"s\"], size=len(y_))\n",
    "    y_hat = make_pipeline(PolynomialFeatures(setting[\"k\"]), LinearRegression(fit_intercept=False)).fit(X, y).predict(X)\n",
    "    \n",
    "    df.append([setting[\"k\"], setting[\"s\"], np.mean((y-y_hat)**2)])\n",
    "    \n",
    "df = pd.DataFrame.from_records(df, columns=[\"k\", \"sigma\",\"mse\"]).groupby([\"k\",\"sigma\"]).mean().reset_index()\n",
    "\n",
    "go.Figure(go.Heatmap(x=df.k, y=df.sigma, z=df.mse, colorscale=\"amp\"),\n",
    "          layout=go.Layout(title=r\"$\\text{(6) Average Train } MSE \\text{ As Function of } \\left(k,\\sigma^2\\right)$\", \n",
    "                           xaxis_title=r\"$k$ - Fitted Polynomial Degree\",\n",
    "                           yaxis_title=r\"$\\sigma^2$ - Noise Levels\")).show()\n"
   ]
  },
  {
   "cell_type": "markdown",
   "metadata": {
    "pycharm": {
     "name": "#%% md\n"
    }
   },
   "source": [
    "# Time To Think...\n",
    "\n",
    "In the above figure, we observe the following trends:\n",
    "- As already seen before, for the noise-free data, once we reach the correct $k$ we achieve zero MSE.\n",
    "- Across all values of $k$, as we increase $\\sigma^2$ we get higher MSE values.\n",
    "- For all noise levels, we manage to reduce MSE values by increasing $k$.\n",
    "\n",
    "So, by choosing a **richer** hypothesis class (i.e. larger and that can express more functions - polynomials of higher\n",
    "degree) we are able to choose an hypothesis that fits the **observed** data **better**, regardless to how noisy the data is.\n",
    "Try and think how the above heatmap would look if instead of calculating the MSE over the training samples (i.e train error)\n",
    "we would have calculated it over a **new** set of test samples drawn from the same distribution.\n",
    "\n",
    "Use the below code to create a test set. Change the code generating figure 6 such that the reported error is a test error. Do not forget to add the noise (that depends on $\\sigma^2$) to the test data. What has changed between what we observe for the train error to the test error? What happens for high/low values of $\\sigma^2$? What happens for high/low values of $k$?"
   ]
  },
  {
   "cell_type": "code",
   "execution_count": 9,
   "metadata": {},
   "outputs": [
    {
     "ename": "ValueError",
     "evalue": "could not convert string to float: ",
     "output_type": "error",
     "traceback": [
      "\u001B[1;31m---------------------------------------------------------------------------\u001B[0m",
      "\u001B[1;31mValueError\u001B[0m                                Traceback (most recent call last)",
      "\u001B[1;32m<ipython-input-9-1f3d6719ca8b>\u001B[0m in \u001B[0;36m<module>\u001B[1;34m\u001B[0m\n\u001B[0;32m      3\u001B[0m \u001B[1;33m\u001B[0m\u001B[0m\n\u001B[0;32m      4\u001B[0m \u001B[1;31m# Generate the noisy y values of the test set. Set the noise level (the scale parameter) according to the specific setting\u001B[0m\u001B[1;33m\u001B[0m\u001B[1;33m\u001B[0m\u001B[1;33m\u001B[0m\u001B[0m\n\u001B[1;32m----> 5\u001B[1;33m \u001B[0mtestY\u001B[0m \u001B[1;33m=\u001B[0m \u001B[0mresponse\u001B[0m\u001B[1;33m(\u001B[0m\u001B[0mtestX\u001B[0m\u001B[1;33m)\u001B[0m \u001B[1;33m+\u001B[0m \u001B[0mnp\u001B[0m\u001B[1;33m.\u001B[0m\u001B[0mrandom\u001B[0m\u001B[1;33m.\u001B[0m\u001B[0mnormal\u001B[0m\u001B[1;33m(\u001B[0m\u001B[0mscale\u001B[0m\u001B[1;33m=\u001B[0m\u001B[0m___\u001B[0m\u001B[1;33m,\u001B[0m \u001B[0msize\u001B[0m\u001B[1;33m=\u001B[0m\u001B[0mlen\u001B[0m\u001B[1;33m(\u001B[0m\u001B[0my_\u001B[0m\u001B[1;33m)\u001B[0m\u001B[1;33m)\u001B[0m\u001B[1;33m\u001B[0m\u001B[1;33m\u001B[0m\u001B[0m\n\u001B[0m",
      "\u001B[1;32mmtrand.pyx\u001B[0m in \u001B[0;36mnumpy.random.mtrand.RandomState.normal\u001B[1;34m()\u001B[0m\n",
      "\u001B[1;32m_common.pyx\u001B[0m in \u001B[0;36mnumpy.random._common.cont\u001B[1;34m()\u001B[0m\n",
      "\u001B[1;31mValueError\u001B[0m: could not convert string to float: "
     ]
    }
   ],
   "source": [
    "# Generate the x values of the test set\n",
    "testX = np.linspace(-1.2, 2, 40)[1::2].reshape(-1,1)\n",
    "\n",
    "# Generate the noisy y values of the test set. Set the noise level (the scale parameter) according to the specific setting\n",
    "testY = response(testX) + np.random.normal(scale=___, size=len(y_))"
   ]
  }
 ],
 "metadata": {
  "kernelspec": {
   "display_name": "Python 3",
   "language": "python",
   "name": "python3"
  },
  "language_info": {
   "codemirror_mode": {
    "name": "ipython",
    "version": 3
   },
   "file_extension": ".py",
   "mimetype": "text/x-python",
   "name": "python",
   "nbconvert_exporter": "python",
   "pygments_lexer": "ipython3",
   "version": "3.7.10"
  }
 },
 "nbformat": 4,
 "nbformat_minor": 1
}